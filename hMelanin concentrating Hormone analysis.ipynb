{
 "cells": [
  {
   "cell_type": "markdown",
   "metadata": {},
   "source": [
    "### Analysis of Human melanin concentrating hormone (MHC):complete cds"
   ]
  },
  {
   "cell_type": "markdown",
   "metadata": {},
   "source": [
    "#### In this  project the DNA sequence for human MHC, obtained from NCBI:M_57703.1 is analysed and processed using python.  The sequence is first validated, then a combination of functions is applyed to quickly produce reverese complement and transcription results; furthermore, statistical paramerters such as nucleotide counts, GC content/ratio, & ratio of codon use for a given amino acid are calculated. Finally, open reading frames and proteins found within the DNA sequence are elucidated and presented in this consice report. "
   ]
  },
  {
   "cell_type": "code",
   "execution_count": 1,
   "metadata": {},
   "outputs": [],
   "source": [
    "from bio_structs import *\n",
    "from collections import Counter\n",
    "import random\n",
    "from Utilities import read_FASTA, readTextFile, writeTextFile\n",
    "from bio_seq import bio_seq"
   ]
  },
  {
   "cell_type": "code",
   "execution_count": 6,
   "metadata": {},
   "outputs": [],
   "source": [
    "MHC_DNA =bio_seq('GAGAAATTTTTCATTTTCTTTCTTGTTTGACTGTATGCAAACATCAAACTAAGAATGGCAAAGATGAATCTCTCTTCCTATATATTAATACTAACTTTTTCTTTGTTTTCTCAAGGTATTTTACTTTCAGCATCCAAGTCCATAAGAAATTTAGATGATGACATGGTATTTAATACATTCAGGTTGGGGAAAGGCTTTCAGAAGGAAGACACTGCAGAAAAATCAGTTATTGCTCCTTCCCTGGAACAATATAAAAATGATGAGAGCAGTTTCATGAACGAAGAGGAAAATAAAGTTTCAAAGAACACAGGCTCCAAACATAATTTCTTAAATCATGGTCTGCCACTCAATCTGGCTATAAAAGGATATCAAGCACTAAAAGGATCTGTAGATTTCCCAGCTGAGAATGGAGTTCAGAATACTGAATCAACACAAGAAAAGAGAGAAATTGGGGATGAAGAAAACTCAGCTAAATTTCCTATAGGAAGGAGAGATTTTGACATGCTCAGATGTATGCTCGGAAGAGTCTACCGACCCTGTTGGCAAGTCTGATACCTGTTGGTCCACATCATCTTTTCAGAAGAAAATAAAAGCATTTAATTGCCAATGGGAGGAGAAGCCCATACTGCTACTATAACTTGTGTATGTTAAATGTCTGTTTTAAAAGAAAGTAGTGTTAAATGTATCAGTAACTGAAATGATATGCTTTCTCTGTGCATTAAATTTGTGAAAATTCTGCAT','DNA', 'MHC complete CDS')"
   ]
  },
  {
   "cell_type": "code",
   "execution_count": 47,
   "metadata": {
    "scrolled": false
   },
   "outputs": [
    {
     "name": "stdout",
     "output_type": "stream",
     "text": [
      "[Label]: MHC complete CDS\n",
      "[Sequence]: GAGAAATTTTTCATTTTCTTTCTTGTTTGACTGTATGCAAACATCAAACTAAGAATGGCAAAGATGAATCTCTCTTCCTATATATTAATACTAACTTTTTCTTTGTTTTCTCAAGGTATTTTACTTTCAGCATCCAAGTCCATAAGAAATTTAGATGATGACATGGTATTTAATACATTCAGGTTGGGGAAAGGCTTTCAGAAGGAAGACACTGCAGAAAAATCAGTTATTGCTCCTTCCCTGGAACAATATAAAAATGATGAGAGCAGTTTCATGAACGAAGAGGAAAATAAAGTTTCAAAGAACACAGGCTCCAAACATAATTTCTTAAATCATGGTCTGCCACTCAATCTGGCTATAAAAGGATATCAAGCACTAAAAGGATCTGTAGATTTCCCAGCTGAGAATGGAGTTCAGAATACTGAATCAACACAAGAAAAGAGAGAAATTGGGGATGAAGAAAACTCAGCTAAATTTCCTATAGGAAGGAGAGATTTTGACATGCTCAGATGTATGCTCGGAAGAGTCTACCGACCCTGTTGGCAAGTCTGATACCTGTTGGTCCACATCATCTTTTCAGAAGAAAATAAAAGCATTTAATTGCCAATGGGAGGAGAAGCCCATACTGCTACTATAACTTGTGTATGTTAAATGTCTGTTTTAAAAGAAAGTAGTGTTAAATGTATCAGTAACTGAAATGATATGCTTTCTCTGTGCATTAAATTTGTGAAAATTCTGCAT\n",
      "[Biotype]: DNA\n",
      "[Length]: 741\n",
      "\n",
      "Biotype DNA\n",
      "\n",
      "Nucleotide frequency {'G': 140, 'A': 258, 'T': 224, 'C': 119}\n",
      "\n",
      " MHC sequence :5'GAGAAATTTTTCATTTTCTTTCTTGTTTGACTGTATGCAAACATCAAACTAAGAATGGCAAAGATGAATCTCTCTTCCTATATATTAATACTAACTTTTTCTTTGTTTTCTCAAGGTATTTTACTTTCAGCATCCAAGTCCATAAGAAATTTAGATGATGACATGGTATTTAATACATTCAGGTTGGGGAAAGGCTTTCAGAAGGAAGACACTGCAGAAAAATCAGTTATTGCTCCTTCCCTGGAACAATATAAAAATGATGAGAGCAGTTTCATGAACGAAGAGGAAAATAAAGTTTCAAAGAACACAGGCTCCAAACATAATTTCTTAAATCATGGTCTGCCACTCAATCTGGCTATAAAAGGATATCAAGCACTAAAAGGATCTGTAGATTTCCCAGCTGAGAATGGAGTTCAGAATACTGAATCAACACAAGAAAAGAGAGAAATTGGGGATGAAGAAAACTCAGCTAAATTTCCTATAGGAAGGAGAGATTTTGACATGCTCAGATGTATGCTCGGAAGAGTCTACCGACCCTGTTGGCAAGTCTGATACCTGTTGGTCCACATCATCTTTTCAGAAGAAAATAAAAGCATTTAATTGCCAATGGGAGGAGAAGCCCATACTGCTACTATAACTTGTGTATGTTAAATGTCTGTTTTAAAAGAAAGTAGTGTTAAATGTATCAGTAACTGAAATGATATGCTTTCTCTGTGCATTAAATTTGTGAAAATTCTGCAT3'\n",
      "\n",
      " MHC transcript:5'GAGAAAUUUUUCAUUUUCUUUCUUGUUUGACUGUAUGCAAACAUCAAACUAAGAAUGGCAAAGAUGAAUCUCUCUUCCUAUAUAUUAAUACUAACUUUUUCUUUGUUUUCUCAAGGUAUUUUACUUUCAGCAUCCAAGUCCAUAAGAAAUUUAGAUGAUGACAUGGUAUUUAAUACAUUCAGGUUGGGGAAAGGCUUUCAGAAGGAAGACACUGCAGAAAAAUCAGUUAUUGCUCCUUCCCUGGAACAAUAUAAAAAUGAUGAGAGCAGUUUCAUGAACGAAGAGGAAAAUAAAGUUUCAAAGAACACAGGCUCCAAACAUAAUUUCUUAAAUCAUGGUCUGCCACUCAAUCUGGCUAUAAAAGGAUAUCAAGCACUAAAAGGAUCUGUAGAUUUCCCAGCUGAGAAUGGAGUUCAGAAUACUGAAUCAACACAAGAAAAGAGAGAAAUUGGGGAUGAAGAAAACUCAGCUAAAUUUCCUAUAGGAAGGAGAGAUUUUGACAUGCUCAGAUGUAUGCUCGGAAGAGUCUACCGACCCUGUUGGCAAGUCUGAUACCUGUUGGUCCACAUCAUCUUUUCAGAAGAAAAUAAAAGCAUUUAAUUGCCAAUGGGAGGAGAAGCCCAUACUGCUACUAUAACUUGUGUAUGUUAAAUGUCUGUUUUAAAAGAAAGUAGUGUUAAAUGUAUCAGUAACUGAAAUGAUAUGCUUUCUCUGUGCAUUAAAUUUGUGAAAAUUCUGCAU3'\n",
      "\n",
      " MHC reverse complement: 5'ATGCAGAATTTTCACAAATTTAATGCACAGAGAAAGCATATCATTTCAGTTACTGATACATTTAACACTACTTTCTTTTAAAACAGACATTTAACATACACAAGTTATAGTAGCAGTATGGGCTTCTCCTCCCATTGGCAATTAAATGCTTTTATTTTCTTCTGAAAAGATGATGTGGACCAACAGGTATCAGACTTGCCAACAGGGTCGGTAGACTCTTCCGAGCATACATCTGAGCATGTCAAAATCTCTCCTTCCTATAGGAAATTTAGCTGAGTTTTCTTCATCCCCAATTTCTCTCTTTTCTTGTGTTGATTCAGTATTCTGAACTCCATTCTCAGCTGGGAAATCTACAGATCCTTTTAGTGCTTGATATCCTTTTATAGCCAGATTGAGTGGCAGACCATGATTTAAGAAATTATGTTTGGAGCCTGTGTTCTTTGAAACTTTATTTTCCTCTTCGTTCATGAAACTGCTCTCATCATTTTTATATTGTTCCAGGGAAGGAGCAATAACTGATTTTTCTGCAGTGTCTTCCTTCTGAAAGCCTTTCCCCAACCTGAATGTATTAAATACCATGTCATCATCTAAATTTCTTATGGACTTGGATGCTGAAAGTAAAATACCTTGAGAAAACAAAGAAAAAGTTAGTATTAATATATAGGAAGAGAGATTCATCTTTGCCATTCTTAGTTTGATGTTTGCATACAGTCAAACAAGAAAGAAAATGAAAAATTTCTC3'\n",
      "\n",
      "GC content is:35%\n",
      "\n",
      "GC content in subsections of 50 is:[28, 26, 32, 36, 42, 30, 38, 38, 34, 38, 52, 32, 42, 26]%\n",
      "\n",
      "translated MHC_DNA ['E', 'K', 'F', 'F', 'I', 'F', 'F', 'L', 'V', '_', 'L', 'Y', 'A', 'N', 'I', 'K', 'L', 'R', 'M', 'A', 'K', 'M', 'N', 'L', 'S', 'S', 'Y', 'I', 'L', 'I', 'L', 'T', 'F', 'S', 'L', 'F', 'S', 'Q', 'G', 'I', 'L', 'L', 'S', 'A', 'S', 'K', 'S', 'I', 'R', 'N', 'L', 'D', 'D', 'D', 'M', 'V', 'F', 'N', 'T', 'F', 'R', 'L', 'G', 'K', 'G', 'F', 'Q', 'K', 'E', 'D', 'T', 'A', 'E', 'K', 'S', 'V', 'I', 'A', 'P', 'S', 'L', 'E', 'Q', 'Y', 'K', 'N', 'D', 'E', 'S', 'S', 'F', 'M', 'N', 'E', 'E', 'E', 'N', 'K', 'V', 'S', 'K', 'N', 'T', 'G', 'S', 'K', 'H', 'N', 'F', 'L', 'N', 'H', 'G', 'L', 'P', 'L', 'N', 'L', 'A', 'I', 'K', 'G', 'Y', 'Q', 'A', 'L', 'K', 'G', 'S', 'V', 'D', 'F', 'P', 'A', 'E', 'N', 'G', 'V', 'Q', 'N', 'T', 'E', 'S', 'T', 'Q', 'E', 'K', 'R', 'E', 'I', 'G', 'D', 'E', 'E', 'N', 'S', 'A', 'K', 'F', 'P', 'I', 'G', 'R', 'R', 'D', 'F', 'D', 'M', 'L', 'R', 'C', 'M', 'L', 'G', 'R', 'V', 'Y', 'R', 'P', 'C', 'W', 'Q', 'V', '_', 'Y', 'L', 'L', 'V', 'H', 'I', 'I', 'F', 'S', 'E', 'E', 'N', 'K', 'S', 'I', '_', 'L', 'P', 'M', 'G', 'G', 'E', 'A', 'H', 'T', 'A', 'T', 'I', 'T', 'C', 'V', 'C', '_', 'M', 'S', 'V', 'L', 'K', 'E', 'S', 'S', 'V', 'K', 'C', 'I', 'S', 'N', '_', 'N', 'D', 'M', 'L', 'S', 'L', 'C', 'I', 'K', 'F', 'V', 'K', 'I', 'L', 'H']\n",
      "\n",
      "MHC codon usage for L AA {'CTT': 0.12, 'CTG': 0.27, 'CTA': 0.12, 'CTC': 0.15, 'TTA': 0.19, 'TTG': 0.15}%\n",
      "\n",
      "Reading frames:\n",
      "['E', 'K', 'F', 'F', 'I', 'F', 'F', 'L', 'V', '_', 'L', 'Y', 'A', 'N', 'I', 'K', 'L', 'R', 'M', 'A', 'K', 'M', 'N', 'L', 'S', 'S', 'Y', 'I', 'L', 'I', 'L', 'T', 'F', 'S', 'L', 'F', 'S', 'Q', 'G', 'I', 'L', 'L', 'S', 'A', 'S', 'K', 'S', 'I', 'R', 'N', 'L', 'D', 'D', 'D', 'M', 'V', 'F', 'N', 'T', 'F', 'R', 'L', 'G', 'K', 'G', 'F', 'Q', 'K', 'E', 'D', 'T', 'A', 'E', 'K', 'S', 'V', 'I', 'A', 'P', 'S', 'L', 'E', 'Q', 'Y', 'K', 'N', 'D', 'E', 'S', 'S', 'F', 'M', 'N', 'E', 'E', 'E', 'N', 'K', 'V', 'S', 'K', 'N', 'T', 'G', 'S', 'K', 'H', 'N', 'F', 'L', 'N', 'H', 'G', 'L', 'P', 'L', 'N', 'L', 'A', 'I', 'K', 'G', 'Y', 'Q', 'A', 'L', 'K', 'G', 'S', 'V', 'D', 'F', 'P', 'A', 'E', 'N', 'G', 'V', 'Q', 'N', 'T', 'E', 'S', 'T', 'Q', 'E', 'K', 'R', 'E', 'I', 'G', 'D', 'E', 'E', 'N', 'S', 'A', 'K', 'F', 'P', 'I', 'G', 'R', 'R', 'D', 'F', 'D', 'M', 'L', 'R', 'C', 'M', 'L', 'G', 'R', 'V', 'Y', 'R', 'P', 'C', 'W', 'Q', 'V', '_', 'Y', 'L', 'L', 'V', 'H', 'I', 'I', 'F', 'S', 'E', 'E', 'N', 'K', 'S', 'I', '_', 'L', 'P', 'M', 'G', 'G', 'E', 'A', 'H', 'T', 'A', 'T', 'I', 'T', 'C', 'V', 'C', '_', 'M', 'S', 'V', 'L', 'K', 'E', 'S', 'S', 'V', 'K', 'C', 'I', 'S', 'N', '_', 'N', 'D', 'M', 'L', 'S', 'L', 'C', 'I', 'K', 'F', 'V', 'K', 'I', 'L', 'H']\n",
      "\n",
      "['R', 'N', 'F', 'S', 'F', 'S', 'F', 'L', 'F', 'D', 'C', 'M', 'Q', 'T', 'S', 'N', '_', 'E', 'W', 'Q', 'R', '_', 'I', 'S', 'L', 'P', 'I', 'Y', '_', 'Y', '_', 'L', 'F', 'L', 'C', 'F', 'L', 'K', 'V', 'F', 'Y', 'F', 'Q', 'H', 'P', 'S', 'P', '_', 'E', 'I', '_', 'M', 'M', 'T', 'W', 'Y', 'L', 'I', 'H', 'S', 'G', 'W', 'G', 'K', 'A', 'F', 'R', 'R', 'K', 'T', 'L', 'Q', 'K', 'N', 'Q', 'L', 'L', 'L', 'L', 'P', 'W', 'N', 'N', 'I', 'K', 'M', 'M', 'R', 'A', 'V', 'S', '_', 'T', 'K', 'R', 'K', 'I', 'K', 'F', 'Q', 'R', 'T', 'Q', 'A', 'P', 'N', 'I', 'I', 'S', '_', 'I', 'M', 'V', 'C', 'H', 'S', 'I', 'W', 'L', '_', 'K', 'D', 'I', 'K', 'H', '_', 'K', 'D', 'L', '_', 'I', 'S', 'Q', 'L', 'R', 'M', 'E', 'F', 'R', 'I', 'L', 'N', 'Q', 'H', 'K', 'K', 'R', 'E', 'K', 'L', 'G', 'M', 'K', 'K', 'T', 'Q', 'L', 'N', 'F', 'L', '_', 'E', 'G', 'E', 'I', 'L', 'T', 'C', 'S', 'D', 'V', 'C', 'S', 'E', 'E', 'S', 'T', 'D', 'P', 'V', 'G', 'K', 'S', 'D', 'T', 'C', 'W', 'S', 'T', 'S', 'S', 'F', 'Q', 'K', 'K', 'I', 'K', 'A', 'F', 'N', 'C', 'Q', 'W', 'E', 'E', 'K', 'P', 'I', 'L', 'L', 'L', '_', 'L', 'V', 'Y', 'V', 'K', 'C', 'L', 'F', '_', 'K', 'K', 'V', 'V', 'L', 'N', 'V', 'S', 'V', 'T', 'E', 'M', 'I', 'C', 'F', 'L', 'C', 'A', 'L', 'N', 'L', '_', 'K', 'F', 'C']\n",
      "\n",
      "['E', 'I', 'F', 'H', 'F', 'L', 'S', 'C', 'L', 'T', 'V', 'C', 'K', 'H', 'Q', 'T', 'K', 'N', 'G', 'K', 'D', 'E', 'S', 'L', 'F', 'L', 'Y', 'I', 'N', 'T', 'N', 'F', 'F', 'F', 'V', 'F', 'S', 'R', 'Y', 'F', 'T', 'F', 'S', 'I', 'Q', 'V', 'H', 'K', 'K', 'F', 'R', '_', '_', 'H', 'G', 'I', '_', 'Y', 'I', 'Q', 'V', 'G', 'E', 'R', 'L', 'S', 'E', 'G', 'R', 'H', 'C', 'R', 'K', 'I', 'S', 'Y', 'C', 'S', 'F', 'P', 'G', 'T', 'I', '_', 'K', '_', '_', 'E', 'Q', 'F', 'H', 'E', 'R', 'R', 'G', 'K', '_', 'S', 'F', 'K', 'E', 'H', 'R', 'L', 'Q', 'T', '_', 'F', 'L', 'K', 'S', 'W', 'S', 'A', 'T', 'Q', 'S', 'G', 'Y', 'K', 'R', 'I', 'S', 'S', 'T', 'K', 'R', 'I', 'C', 'R', 'F', 'P', 'S', '_', 'E', 'W', 'S', 'S', 'E', 'Y', '_', 'I', 'N', 'T', 'R', 'K', 'E', 'R', 'N', 'W', 'G', '_', 'R', 'K', 'L', 'S', '_', 'I', 'S', 'Y', 'R', 'K', 'E', 'R', 'F', '_', 'H', 'A', 'Q', 'M', 'Y', 'A', 'R', 'K', 'S', 'L', 'P', 'T', 'L', 'L', 'A', 'S', 'L', 'I', 'P', 'V', 'G', 'P', 'H', 'H', 'L', 'F', 'R', 'R', 'K', '_', 'K', 'H', 'L', 'I', 'A', 'N', 'G', 'R', 'R', 'S', 'P', 'Y', 'C', 'Y', 'Y', 'N', 'L', 'C', 'M', 'L', 'N', 'V', 'C', 'F', 'K', 'R', 'K', '_', 'C', '_', 'M', 'Y', 'Q', '_', 'L', 'K', '_', 'Y', 'A', 'F', 'S', 'V', 'H', '_', 'I', 'C', 'E', 'N', 'S', 'A']\n",
      "\n",
      "['M', 'Q', 'N', 'F', 'H', 'K', 'F', 'N', 'A', 'Q', 'R', 'K', 'H', 'I', 'I', 'S', 'V', 'T', 'D', 'T', 'F', 'N', 'T', 'T', 'F', 'F', '_', 'N', 'R', 'H', 'L', 'T', 'Y', 'T', 'S', 'Y', 'S', 'S', 'S', 'M', 'G', 'F', 'S', 'S', 'H', 'W', 'Q', 'L', 'N', 'A', 'F', 'I', 'F', 'F', '_', 'K', 'D', 'D', 'V', 'D', 'Q', 'Q', 'V', 'S', 'D', 'L', 'P', 'T', 'G', 'S', 'V', 'D', 'S', 'S', 'E', 'H', 'T', 'S', 'E', 'H', 'V', 'K', 'I', 'S', 'P', 'S', 'Y', 'R', 'K', 'F', 'S', '_', 'V', 'F', 'F', 'I', 'P', 'N', 'F', 'S', 'L', 'F', 'L', 'C', '_', 'F', 'S', 'I', 'L', 'N', 'S', 'I', 'L', 'S', 'W', 'E', 'I', 'Y', 'R', 'S', 'F', '_', 'C', 'L', 'I', 'S', 'F', 'Y', 'S', 'Q', 'I', 'E', 'W', 'Q', 'T', 'M', 'I', '_', 'E', 'I', 'M', 'F', 'G', 'A', 'C', 'V', 'L', '_', 'N', 'F', 'I', 'F', 'L', 'F', 'V', 'H', 'E', 'T', 'A', 'L', 'I', 'I', 'F', 'I', 'L', 'F', 'Q', 'G', 'R', 'S', 'N', 'N', '_', 'F', 'F', 'C', 'S', 'V', 'F', 'L', 'L', 'K', 'A', 'F', 'P', 'Q', 'P', 'E', 'C', 'I', 'K', 'Y', 'H', 'V', 'I', 'I', '_', 'I', 'S', 'Y', 'G', 'L', 'G', 'C', '_', 'K', '_', 'N', 'T', 'L', 'R', 'K', 'Q', 'R', 'K', 'S', '_', 'Y', '_', 'Y', 'I', 'G', 'R', 'E', 'I', 'H', 'L', 'C', 'H', 'S', '_', 'F', 'D', 'V', 'C', 'I', 'Q', 'S', 'N', 'K', 'K', 'E', 'N', 'E', 'K', 'F', 'L']\n",
      "\n",
      "['C', 'R', 'I', 'F', 'T', 'N', 'L', 'M', 'H', 'R', 'E', 'S', 'I', 'S', 'F', 'Q', 'L', 'L', 'I', 'H', 'L', 'T', 'L', 'L', 'S', 'F', 'K', 'T', 'D', 'I', '_', 'H', 'T', 'Q', 'V', 'I', 'V', 'A', 'V', 'W', 'A', 'S', 'P', 'P', 'I', 'G', 'N', '_', 'M', 'L', 'L', 'F', 'S', 'S', 'E', 'K', 'M', 'M', 'W', 'T', 'N', 'R', 'Y', 'Q', 'T', 'C', 'Q', 'Q', 'G', 'R', '_', 'T', 'L', 'P', 'S', 'I', 'H', 'L', 'S', 'M', 'S', 'K', 'S', 'L', 'L', 'P', 'I', 'G', 'N', 'L', 'A', 'E', 'F', 'S', 'S', 'S', 'P', 'I', 'S', 'L', 'F', 'S', 'C', 'V', 'D', 'S', 'V', 'F', '_', 'T', 'P', 'F', 'S', 'A', 'G', 'K', 'S', 'T', 'D', 'P', 'F', 'S', 'A', '_', 'Y', 'P', 'F', 'I', 'A', 'R', 'L', 'S', 'G', 'R', 'P', '_', 'F', 'K', 'K', 'L', 'C', 'L', 'E', 'P', 'V', 'F', 'F', 'E', 'T', 'L', 'F', 'S', 'S', 'S', 'F', 'M', 'K', 'L', 'L', 'S', 'S', 'F', 'L', 'Y', 'C', 'S', 'R', 'E', 'G', 'A', 'I', 'T', 'D', 'F', 'S', 'A', 'V', 'S', 'S', 'F', '_', 'K', 'P', 'F', 'P', 'N', 'L', 'N', 'V', 'L', 'N', 'T', 'M', 'S', 'S', 'S', 'K', 'F', 'L', 'M', 'D', 'L', 'D', 'A', 'E', 'S', 'K', 'I', 'P', '_', 'E', 'N', 'K', 'E', 'K', 'V', 'S', 'I', 'N', 'I', '_', 'E', 'E', 'R', 'F', 'I', 'F', 'A', 'I', 'L', 'S', 'L', 'M', 'F', 'A', 'Y', 'S', 'Q', 'T', 'R', 'K', 'K', 'M', 'K', 'N', 'F']\n",
      "\n",
      "['A', 'E', 'F', 'S', 'Q', 'I', '_', 'C', 'T', 'E', 'K', 'A', 'Y', 'H', 'F', 'S', 'Y', '_', 'Y', 'I', '_', 'H', 'Y', 'F', 'L', 'L', 'K', 'Q', 'T', 'F', 'N', 'I', 'H', 'K', 'L', '_', '_', 'Q', 'Y', 'G', 'L', 'L', 'L', 'P', 'L', 'A', 'I', 'K', 'C', 'F', 'Y', 'F', 'L', 'L', 'K', 'R', '_', 'C', 'G', 'P', 'T', 'G', 'I', 'R', 'L', 'A', 'N', 'R', 'V', 'G', 'R', 'L', 'F', 'R', 'A', 'Y', 'I', '_', 'A', 'C', 'Q', 'N', 'L', 'S', 'F', 'L', '_', 'E', 'I', '_', 'L', 'S', 'F', 'L', 'H', 'P', 'Q', 'F', 'L', 'S', 'F', 'L', 'V', 'L', 'I', 'Q', 'Y', 'S', 'E', 'L', 'H', 'S', 'Q', 'L', 'G', 'N', 'L', 'Q', 'I', 'L', 'L', 'V', 'L', 'D', 'I', 'L', 'L', '_', 'P', 'D', '_', 'V', 'A', 'D', 'H', 'D', 'L', 'R', 'N', 'Y', 'V', 'W', 'S', 'L', 'C', 'S', 'L', 'K', 'L', 'Y', 'F', 'P', 'L', 'R', 'S', '_', 'N', 'C', 'S', 'H', 'H', 'F', 'Y', 'I', 'V', 'P', 'G', 'K', 'E', 'Q', '_', 'L', 'I', 'F', 'L', 'Q', 'C', 'L', 'P', 'S', 'E', 'S', 'L', 'S', 'P', 'T', '_', 'M', 'Y', '_', 'I', 'P', 'C', 'H', 'H', 'L', 'N', 'F', 'L', 'W', 'T', 'W', 'M', 'L', 'K', 'V', 'K', 'Y', 'L', 'E', 'K', 'T', 'K', 'K', 'K', 'L', 'V', 'L', 'I', 'Y', 'R', 'K', 'R', 'D', 'S', 'S', 'L', 'P', 'F', 'L', 'V', '_', 'C', 'L', 'H', 'T', 'V', 'K', 'Q', 'E', 'R', 'K', '_', 'K', 'I', 'S']\n",
      "\n",
      "Proteins:\n",
      "MAKMNLSSYILILTFSLFSQGILLSASKSIRNLDDDMVFNTFRLGKGFQKEDTAEKSVIAPSLEQYKNDESSFMNEEENKVSKNTGSKHNFLNHGLPLNLAIKGYQALKGSVDFPAENGVQNTESTQEKREIGDEENSAKFPIGRRDFDMLRCMLGRVYRPCWQV\n",
      "\n",
      "MNLSSYILILTFSLFSQGILLSASKSIRNLDDDMVFNTFRLGKGFQKEDTAEKSVIAPSLEQYKNDESSFMNEEENKVSKNTGSKHNFLNHGLPLNLAIKGYQALKGSVDFPAENGVQNTESTQEKREIGDEENSAKFPIGRRDFDMLRCMLGRVYRPCWQV\n",
      "\n",
      "MVFNTFRLGKGFQKEDTAEKSVIAPSLEQYKNDESSFMNEEENKVSKNTGSKHNFLNHGLPLNLAIKGYQALKGSVDFPAENGVQNTESTQEKREIGDEENSAKFPIGRRDFDMLRCMLGRVYRPCWQV\n",
      "\n",
      "MNEEENKVSKNTGSKHNFLNHGLPLNLAIKGYQALKGSVDFPAENGVQNTESTQEKREIGDEENSAKFPIGRRDFDMLRCMLGRVYRPCWQV\n",
      "\n",
      "MLRCMLGRVYRPCWQV\n",
      "\n",
      "MLGRVYRPCWQV\n",
      "\n",
      "MGGEAHTATITCVC\n",
      "\n",
      "MSVLKESSVKCISN\n",
      "\n",
      "MQTSN\n",
      "\n",
      "MMTWYLIHSGWGKAFRRKTLQKNQLLLLPWNNIKMMRAVS\n",
      "\n",
      "MTWYLIHSGWGKAFRRKTLQKNQLLLLPWNNIKMMRAVS\n",
      "\n",
      "MMRAVS\n",
      "\n",
      "MRAVS\n",
      "\n",
      "MVCHSIWL\n",
      "\n",
      "MEFRILNQHKKREKLGMKKTQLNFL\n",
      "\n",
      "MKKTQLNFL\n",
      "\n",
      "MICFLCALNL\n",
      "\n",
      "MYARKSLPTLLASLIPVGPHHLFRRK\n",
      "\n",
      "MLNVCFKRK\n",
      "\n",
      "MYQ\n",
      "\n",
      "MQNFHKFNAQRKHIISVTDTFNTTFF\n",
      "\n",
      "MGFSSHWQLNAFIFF\n",
      "\n",
      "MI\n",
      "\n",
      "MFGACVL\n",
      "\n",
      "MHRESISFQLLIHLTLLSFKTDI\n",
      "\n",
      "MLLFSSEKMMWTNRYQTCQQGR\n",
      "\n",
      "MMWTNRYQTCQQGR\n",
      "\n",
      "MWTNRYQTCQQGR\n",
      "\n",
      "MSKSLLPIGNLAEFSSSPISLFSCVDSVF\n",
      "\n",
      "MKLLSSFLYCSREGAITDFSAVSSF\n",
      "\n",
      "MSSSKFLMDLDAESKIP\n",
      "\n",
      "MDLDAESKIP\n",
      "\n",
      "MY\n",
      "\n",
      "MLKVKYLEKTKKKLVLIYRKRDSSLPFLV\n",
      "\n"
     ]
    }
   ],
   "source": [
    "print(f'{MHC_DNA.get_seq_info()}\\n')\n",
    "print (f'Biotype {MHC_DNA.get_seq_biotype()}\\n')\n",
    "print(f'Nucleotide frequency {MHC_DNA.countnuc_Frequency()}\\n')\n",
    "print(f\" MHC sequence :5'{MHC_DNA.seq}3'\\n\")\n",
    "print(f\" MHC transcript:5'{MHC_DNA.transcription()}3'\\n\")\n",
    "print(f\" MHC reverse complement: 5'{MHC_DNA.reverse_complement()}3'\\n\")\n",
    "print(f'GC content is:{MHC_DNA.gc_content()}%\\n')\n",
    "print(f'GC content in subsections of 50 is:{MHC_DNA.gc_content_subsec(50)}%\\n')\n",
    "print(f'translated MHC_DNA {MHC_DNA.translate_seq()}\\n')\n",
    "print (f\"MHC codon usage for L AA {MHC_DNA.codon_usage('L')}%\\n\")\n",
    "print ('Reading frames:')\n",
    "for frame in MHC_DNA.gen_reading_frames():\n",
    "    print(f'{frame}\\n')\n",
    "print ('Proteins:')\n",
    "for protein in MHC_DNA.all_proteins_from_rfs():\n",
    "    print(f'{protein}\\n')"
   ]
  },
  {
   "cell_type": "code",
   "execution_count": 28,
   "metadata": {},
   "outputs": [],
   "source": [
    "writeTextFile(\"MHC.txt\", MHC_DNA.seq)\n",
    "for rf in MHC_DNA.gen_reading_frames():\n",
    "    writeTextFile(\"MHC.txt\", str(rf), 'a')"
   ]
  },
  {
   "cell_type": "code",
   "execution_count": null,
   "metadata": {},
   "outputs": [],
   "source": []
  }
 ],
 "metadata": {
  "kernelspec": {
   "display_name": "Python 3",
   "language": "python",
   "name": "python3"
  },
  "language_info": {
   "codemirror_mode": {
    "name": "ipython",
    "version": 3
   },
   "file_extension": ".py",
   "mimetype": "text/x-python",
   "name": "python",
   "nbconvert_exporter": "python",
   "pygments_lexer": "ipython3",
   "version": "3.7.3"
  }
 },
 "nbformat": 4,
 "nbformat_minor": 2
}
