{
 "cells": [
  {
   "cell_type": "markdown",
   "metadata": {},
   "source": [
    "## Analysis of Insulin: from DNA to Protein Project"
   ]
  },
  {
   "cell_type": "markdown",
   "metadata": {},
   "source": [
    "### In this project I study and process the DNA sequence for human insulin, obtained from NCBI:NM_000207.3.  By applying python and a toolkit module I validate the DNA sequence and present an example of a non DNA sequence that can not be validated. Addtionally, to represent a real biological function, the reverese complement DNA and transcription results are determined.  Furhtermore,  statistical paramerters such as nucleotinde counts, GC content/ratio, and ratio of codon use for a given amino acid are calculated. Finally, open reading frames and proteins found within the DNA sequence are elucidated. "
   ]
  },
  {
   "cell_type": "code",
   "execution_count": 1,
   "metadata": {},
   "outputs": [],
   "source": [
    "from DNAtoolkit import *"
   ]
  },
  {
   "cell_type": "code",
   "execution_count": 2,
   "metadata": {},
   "outputs": [],
   "source": [
    "# Insulin DNA NCBI Reference Sequence: NM_000207.3\n",
    "DNA = 'AGCCCTCCAGGACAGGCTGCATCAGAAGAGGCCATCAAGCAGATCACTGTCCTTCTGCCATGGCCCTGTGGATGCGCCTCCTGCCCCTGCTGGCGCTGCTGGCCCTCTGGGGACCTGACCCAGCCGCAGCCTTTGTGAACCAACACCTGTGCGGCTCACACCTGGTGGAAGCTCTCTACCTAGTGTGCGGGGAACGAGGCTTCTTCTACACACCCAAGACCCGCCGGGAGGCAGAGGACCTGCAGGTGGGGCAGGTGGAGCTGGGCGGGGGCCCTGGTGCAGGCAGCCTGCAGCCCTTGGCCCTGGAGGGGTCCCTGCAGAAGCGTGGCATTGTGGAACAATGCTGTACCAGCATCTGCTCCCTCTACCAGCTGGAGAACTACTGCAACTAGACGCAGCCCGCAGGCAGCCCCACACCCGCCGCCTCCTGCACCGAGAGAGATGGAATAAAGCCCTTGAACCAGC'"
   ]
  },
  {
   "cell_type": "code",
   "execution_count": 3,
   "metadata": {},
   "outputs": [
    {
     "name": "stdout",
     "output_type": "stream",
     "text": [
      " 5'AGCCCTCCAGGACAGGCTGCATCAGAAGAGGCCATCAAGCAGATCACTGTCCTTCTGCCATGGCCCTGTGGATGCGCCTCCTGCCCCTGCTGGCGCTGCTGGCCCTCTGGGGACCTGACCCAGCCGCAGCCTTTGTGAACCAACACCTGTGCGGCTCACACCTGGTGGAAGCTCTCTACCTAGTGTGCGGGGAACGAGGCTTCTTCTACACACCCAAGACCCGCCGGGAGGCAGAGGACCTGCAGGTGGGGCAGGTGGAGCTGGGCGGGGGCCCTGGTGCAGGCAGCCTGCAGCCCTTGGCCCTGGAGGGGTCCCTGCAGAAGCGTGGCATTGTGGAACAATGCTGTACCAGCATCTGCTCCCTCTACCAGCTGGAGAACTACTGCAACTAGACGCAGCCCGCAGGCAGCCCCACACCCGCCGCCTCCTGCACCGAGAGAGATGGAATAAAGCCCTTGAACCAGC3'\n"
     ]
    }
   ],
   "source": [
    "# validate string to be DNA sequence by using validateSeq function:\n",
    "print(f\" 5'{validateSeq(DNA)}3'\")"
   ]
  },
  {
   "cell_type": "code",
   "execution_count": 4,
   "metadata": {},
   "outputs": [
    {
     "name": "stdout",
     "output_type": "stream",
     "text": [
      " 5'False3'\n"
     ]
    }
   ],
   "source": [
    "# validate string to be DNA sequence by using validateSeq function:(not DNA sequence example)\n",
    "not_DNA = 'ATGCRBFE'\n",
    "print(f\" 5'{validateSeq(not_DNA)}3'\")\n"
   ]
  },
  {
   "cell_type": "markdown",
   "metadata": {},
   "source": [
    "### Counting Neucleotides"
   ]
  },
  {
   "cell_type": "code",
   "execution_count": 39,
   "metadata": {
    "scrolled": true
   },
   "outputs": [
    {
     "name": "stdout",
     "output_type": "stream",
     "text": [
      " Sequence Length:465\n",
      "\n"
     ]
    }
   ],
   "source": [
    "# Determine the total number of nucleotides in the DNA sequence:\n",
    "print (f' Sequence Length:{len(DNA)}\\n')"
   ]
  },
  {
   "cell_type": "markdown",
   "metadata": {},
   "source": [
    "### Three ways to count individual nucleotides"
   ]
  },
  {
   "cell_type": "code",
   "execution_count": 6,
   "metadata": {},
   "outputs": [
    {
     "name": "stdout",
     "output_type": "stream",
     "text": [
      "91 156 141 77\n",
      "GC ratio of DNA sequence = 0.6387096774193548\n"
     ]
    }
   ],
   "source": [
    "# I  simple method for nucleotide count\n",
    "A = DNA.count ('A')\n",
    "C = DNA.count ('C')\n",
    "G = DNA.count ('G')\n",
    "T = DNA.count ('T')\n",
    "print (A, C, G, T)\n",
    "print ('GC ratio of DNA sequence =', (G+C)/(G+C+A+T))"
   ]
  },
  {
   "cell_type": "code",
   "execution_count": 7,
   "metadata": {},
   "outputs": [
    {
     "name": "stdout",
     "output_type": "stream",
     "text": [
      "please enter DNA sequence below:\n",
      "'AGCCCTCCAGGACAGGCTGCATCAGAAGAGGCCATCAAGCAGATCACTGTCCTTCTGCCATGGCCCTGTGGATGCGCCTCCTGCCCCTGCTGGCGCTGCTGGCCCTCTGGGGACCTGACCCAGCCGCAGCCTTTGTGAACCAACACCTGTGCGGCTCACACCTGGTGGAAGCTCTCTACCTAGTGTGCGGGGAACGAGGCTTCTTCTACACACCCAAGACCCGCCGGGAGGCAGAGGACCTGCAGGTGGGGCAGGTGGAGCTGGGCGGGGGCCCTGGTGCAGGCAGCCTGCAGCCCTTGGCCCTGGAGGGGTCCCTGCAGAAGCGTGGCATTGTGGAACAATGCTGTACCAGCATCTGCTCCCTCTACCAGCTGGAGAACTACTGCAACTAGACGCAGCCCGCAGGCAGCCCCACACCCGCCGCCTCCTGCACCGAGAGAGATGGAATAAAGCCCTTGAACCAGC'\n",
      "the number of nucleotides of your DNA sequence is 465\n",
      "the number of A in your DNA sequence is: 91\n",
      "the number of C in your DNA sequence is: 156\n",
      "the number of G in your DNA sequence is: 141\n",
      "the number of T in your DNA sequence is: 77\n",
      "the GC ratio of your DNA sequence is: 0.6387096774193548\n"
     ]
    }
   ],
   "source": [
    "# II nucleotide count and report with identifying messeage.\n",
    "DNA_seq  = input('please enter DNA sequence below:\\n')\n",
    "A = DNA.count ('A')\n",
    "C = DNA.count ('C')\n",
    "G = DNA.count ('G')\n",
    "T = DNA.count ('T')\n",
    "GC_ratio = (G+C)/(G+C+T+A)\n",
    "print ('the number of nucleotides of your DNA sequence is',len(DNA))\n",
    "print ('the number of A in your DNA sequence is:', A)\n",
    "print ('the number of C in your DNA sequence is:', C)\n",
    "print ('the number of G in your DNA sequence is:', G)\n",
    "print ('the number of T in your DNA sequence is:', T)\n",
    "print ('the GC ratio of your DNA sequence is:', GC_ratio)\n"
   ]
  },
  {
   "cell_type": "code",
   "execution_count": 8,
   "metadata": {},
   "outputs": [
    {
     "name": "stdout",
     "output_type": "stream",
     "text": [
      "{'A': 91, 'C': 156, 'G': 141, 'T': 77}\n"
     ]
    }
   ],
   "source": [
    "# III count nucleotides in DNA sequence is by using the 'countnucFrequency' Function from DNAtoolkit\n",
    "# the function returns a dictionary with the nucleotides and the key\n",
    "print(countnucFrequency(DNA))"
   ]
  },
  {
   "cell_type": "markdown",
   "metadata": {},
   "source": [
    "### Transcribing DNA to RNA"
   ]
  },
  {
   "cell_type": "code",
   "execution_count": 10,
   "metadata": {},
   "outputs": [
    {
     "name": "stdout",
     "output_type": "stream",
     "text": [
      " 5'GCTGGTTCAAGGGCTTTATTCCATCTCTCTCGGTGCAGGAGGCGGCGGGTGTGGGGCTGCCTGCGGGCTGCGTCTAGTTGCAGTAGTTCTCCAGCTGGTAGAGGGAGCAGATGCTGGTACAGCATTGTTCCACAATGCCACGCTTCTGCAGGGACCCCTCCAGGGCCAAGGGCTGCAGGCTGCCTGCACCAGGGCCCCCGCCCAGCTCCACCTGCCCCACCTGCAGGTCCTCTGCCTCCCGGCGGGTCTTGGGTGTGTAGAAGAAGCCTCGTTCCCCGCACACTAGGTAGAGAGCTTCCACCAGGTGTGAGCCGCACAGGTGTTGGTTCACAAAGGCTGCGGCTGGGTCAGGTCCCCAGAGGGCCAGCAGCGCCAGCAGGGGCAGGAGGCGCATCCACAGGGCCATGGCAGAAGGACAGTGATCTGCTTGATGGCCTCTTCTGATGCAGCCTGTCCTGGAGGGCT3'\n"
     ]
    }
   ],
   "source": [
    "# converting DNA sequence to complementary DNA sequence and reporting in 5'-3'(reversed) with 'complement_DNA' function\n",
    "complement_DNA =(rev_complement (DNA))\n",
    "print(f\" 5'{complement_DNA}3'\")"
   ]
  },
  {
   "cell_type": "code",
   "execution_count": 11,
   "metadata": {},
   "outputs": [
    {
     "name": "stdout",
     "output_type": "stream",
     "text": [
      "5'GCUGGUUCAAGGGCUUUAUUCCAUCUCUCUCGGUGCAGGAGGCGGCGGGUGUGGGGCUGCCUGCGGGCUGCGUCUAGUUGCAGUAGUUCUCCAGCUGGUAGAGGGAGCAGAUGCUGGUACAGCAUUGUUCCACAAUGCCACGCUUCUGCAGGGACCCCUCCAGGGCCAAGGGCUGCAGGCUGCCUGCACCAGGGCCCCCGCCCAGCUCCACCUGCCCCACCUGCAGGUCCUCUGCCUCCCGGCGGGUCUUGGGUGUGUAGAAGAAGCCUCGUUCCCCGCACACUAGGUAGAGAGCUUCCACCAGGUGUGAGCCGCACAGGUGUUGGUUCACAAAGGCUGCGGCUGGGUCAGGUCCCCAGAGGGCCAGCAGCGCCAGCAGGGGCAGGAGGCGCAUCCACAGGGCCAUGGCAGAAGGACAGUGAUCUGCUUGAUGGCCUCUUCUGAUGCAGCCUGUCCUGGAGGGCU3'\n"
     ]
    }
   ],
   "source": [
    "# converting complementary DNA sequence to RNA with 'transcription' function\n",
    "RNA =(transcription(complement_DNA))\n",
    "print(f\"5'{RNA}3'\")"
   ]
  },
  {
   "cell_type": "markdown",
   "metadata": {},
   "source": [
    "### Calculating GC content in complete DNA/RNA sequence & DNA sequence subsections by size."
   ]
  },
  {
   "cell_type": "code",
   "execution_count": 12,
   "metadata": {},
   "outputs": [
    {
     "name": "stdout",
     "output_type": "stream",
     "text": [
      " GC content in DNA sequence is: 64%\n"
     ]
    }
   ],
   "source": [
    "# calculate GC content in DNA sequence using 'GC_content' function\n",
    "print(f' GC content in DNA sequence is: {GC_content(DNA)}%')"
   ]
  },
  {
   "cell_type": "code",
   "execution_count": 13,
   "metadata": {},
   "outputs": [
    {
     "name": "stdout",
     "output_type": "stream",
     "text": [
      " GC content in RNA sequence is: 64%\n"
     ]
    }
   ],
   "source": [
    "# calculate GC content in RNA sequence using 'GC_content' function\n",
    "print(f' GC content in RNA sequence is: {GC_content(RNA)}%')"
   ]
  },
  {
   "cell_type": "code",
   "execution_count": 14,
   "metadata": {},
   "outputs": [
    {
     "name": "stdout",
     "output_type": "stream",
     "text": [
      " The GC content in DNA subsections k=75: [59, 68, 61, 75, 60, 61]%\n"
     ]
    }
   ],
   "source": [
    "# calculate GC content in subsections of sequence using 'GC_content_subsec' function.\n",
    "# default subsection k=20.\n",
    "print (f' The GC content in DNA subsections k=75: {GC_content_subsec(DNA,k=75)}%')"
   ]
  },
  {
   "cell_type": "markdown",
   "metadata": {},
   "source": [
    "### Determine the frequencey ratio of condons for a given AA in a DNA sequence"
   ]
  },
  {
   "cell_type": "code",
   "execution_count": 26,
   "metadata": {},
   "outputs": [
    {
     "name": "stdout",
     "output_type": "stream",
     "text": [
      "L & M AA codon frequencies are respectively:\n",
      "{'CTT': 0.14, 'CTG': 0.43, 'TTG': 0.29, 'CTC': 0.14}\n",
      "\n",
      "{'ATG': 1.0}\n"
     ]
    }
   ],
   "source": [
    "#calculating the frequency of  codons for a given AA in a DNA sequence by applying the 'codon_usage' function.\n",
    "# the number of times a codon appears in the sequence/the number of times \n",
    "# the AA is coded for. The function produces a dictinary with the codon as the key.\n",
    "L_codon_freq = codon_usage(DNA,'L')\n",
    "M_codon_freq = codon_usage(DNA,'M')\n",
    "print('L & M AA codon frequencies are respectively:')\n",
    "print (L_codon_freq)\n",
    "print ()\n",
    "print (M_codon_freq)"
   ]
  },
  {
   "cell_type": "markdown",
   "metadata": {},
   "source": [
    "### Convert DNA sequence to AA sequence"
   ]
  },
  {
   "cell_type": "code",
   "execution_count": 28,
   "metadata": {},
   "outputs": [
    {
     "name": "stdout",
     "output_type": "stream",
     "text": [
      "['S', 'P', 'P', 'G', 'Q', 'A', 'A', 'S', 'E', 'E', 'A', 'I', 'K', 'Q', 'I', 'T', 'V', 'L', 'L', 'P', 'W', 'P', 'C', 'G', 'C', 'A', 'S', 'C', 'P', 'C', 'W', 'R', 'C', 'W', 'P', 'S', 'G', 'D', 'L', 'T', 'Q', 'P', 'Q', 'P', 'L', '_', 'T', 'N', 'T', 'C', 'A', 'A', 'H', 'T', 'W', 'W', 'K', 'L', 'S', 'T', '_', 'C', 'A', 'G', 'N', 'E', 'A', 'S', 'S', 'T', 'H', 'P', 'R', 'P', 'A', 'G', 'R', 'Q', 'R', 'T', 'C', 'R', 'W', 'G', 'R', 'W', 'S', 'W', 'A', 'G', 'A', 'L', 'V', 'Q', 'A', 'A', 'C', 'S', 'P', 'W', 'P', 'W', 'R', 'G', 'P', 'C', 'R', 'S', 'V', 'A', 'L', 'W', 'N', 'N', 'A', 'V', 'P', 'A', 'S', 'A', 'P', 'S', 'T', 'S', 'W', 'R', 'T', 'T', 'A', 'T', 'R', 'R', 'S', 'P', 'Q', 'A', 'A', 'P', 'H', 'P', 'P', 'P', 'P', 'A', 'P', 'R', 'E', 'M', 'E', '_', 'S', 'P', '_', 'T', 'S']\n"
     ]
    }
   ],
   "source": [
    "# translating DNA to AA sequence using the 'translate_seq' function\n",
    "# the output is a list of AA. \n",
    "DNA_to_AA= translate_seq(DNA)\n",
    "print(DNA_to_AA)"
   ]
  },
  {
   "cell_type": "code",
   "execution_count": 29,
   "metadata": {
    "scrolled": false
   },
   "outputs": [
    {
     "name": "stdout",
     "output_type": "stream",
     "text": [
      "[9]  Reading frames:\n",
      "['S', 'P', 'P', 'G', 'Q', 'A', 'A', 'S', 'E', 'E', 'A', 'I', 'K', 'Q', 'I', 'T', 'V', 'L', 'L', 'P', 'W', 'P', 'C', 'G', 'C', 'A', 'S', 'C', 'P', 'C', 'W', 'R', 'C', 'W', 'P', 'S', 'G', 'D', 'L', 'T', 'Q', 'P', 'Q', 'P', 'L', '_', 'T', 'N', 'T', 'C', 'A', 'A', 'H', 'T', 'W', 'W', 'K', 'L', 'S', 'T', '_', 'C', 'A', 'G', 'N', 'E', 'A', 'S', 'S', 'T', 'H', 'P', 'R', 'P', 'A', 'G', 'R', 'Q', 'R', 'T', 'C', 'R', 'W', 'G', 'R', 'W', 'S', 'W', 'A', 'G', 'A', 'L', 'V', 'Q', 'A', 'A', 'C', 'S', 'P', 'W', 'P', 'W', 'R', 'G', 'P', 'C', 'R', 'S', 'V', 'A', 'L', 'W', 'N', 'N', 'A', 'V', 'P', 'A', 'S', 'A', 'P', 'S', 'T', 'S', 'W', 'R', 'T', 'T', 'A', 'T', 'R', 'R', 'S', 'P', 'Q', 'A', 'A', 'P', 'H', 'P', 'P', 'P', 'P', 'A', 'P', 'R', 'E', 'M', 'E', '_', 'S', 'P', '_', 'T', 'S']\n",
      "['A', 'L', 'Q', 'D', 'R', 'L', 'H', 'Q', 'K', 'R', 'P', 'S', 'S', 'R', 'S', 'L', 'S', 'F', 'C', 'H', 'G', 'P', 'V', 'D', 'A', 'P', 'P', 'A', 'P', 'A', 'G', 'A', 'A', 'G', 'P', 'L', 'G', 'T', '_', 'P', 'S', 'R', 'S', 'L', 'C', 'E', 'P', 'T', 'P', 'V', 'R', 'L', 'T', 'P', 'G', 'G', 'S', 'S', 'L', 'P', 'S', 'V', 'R', 'G', 'T', 'R', 'L', 'L', 'L', 'H', 'T', 'Q', 'D', 'P', 'P', 'G', 'G', 'R', 'G', 'P', 'A', 'G', 'G', 'A', 'G', 'G', 'A', 'G', 'R', 'G', 'P', 'W', 'C', 'R', 'Q', 'P', 'A', 'A', 'L', 'G', 'P', 'G', 'G', 'V', 'P', 'A', 'E', 'A', 'W', 'H', 'C', 'G', 'T', 'M', 'L', 'Y', 'Q', 'H', 'L', 'L', 'P', 'L', 'P', 'A', 'G', 'E', 'L', 'L', 'Q', 'L', 'D', 'A', 'A', 'R', 'R', 'Q', 'P', 'H', 'T', 'R', 'R', 'L', 'L', 'H', 'R', 'E', 'R', 'W', 'N', 'K', 'A', 'L', 'E', 'P']\n",
      "['P', 'S', 'R', 'T', 'G', 'C', 'I', 'R', 'R', 'G', 'H', 'Q', 'A', 'D', 'H', 'C', 'P', 'S', 'A', 'M', 'A', 'L', 'W', 'M', 'R', 'L', 'L', 'P', 'L', 'L', 'A', 'L', 'L', 'A', 'L', 'W', 'G', 'P', 'D', 'P', 'A', 'A', 'A', 'F', 'V', 'N', 'Q', 'H', 'L', 'C', 'G', 'S', 'H', 'L', 'V', 'E', 'A', 'L', 'Y', 'L', 'V', 'C', 'G', 'E', 'R', 'G', 'F', 'F', 'Y', 'T', 'P', 'K', 'T', 'R', 'R', 'E', 'A', 'E', 'D', 'L', 'Q', 'V', 'G', 'Q', 'V', 'E', 'L', 'G', 'G', 'G', 'P', 'G', 'A', 'G', 'S', 'L', 'Q', 'P', 'L', 'A', 'L', 'E', 'G', 'S', 'L', 'Q', 'K', 'R', 'G', 'I', 'V', 'E', 'Q', 'C', 'C', 'T', 'S', 'I', 'C', 'S', 'L', 'Y', 'Q', 'L', 'E', 'N', 'Y', 'C', 'N', '_', 'T', 'Q', 'P', 'A', 'G', 'S', 'P', 'T', 'P', 'A', 'A', 'S', 'C', 'T', 'E', 'R', 'D', 'G', 'I', 'K', 'P', 'L', 'N', 'Q']\n",
      "['A', 'G', 'S', 'R', 'A', 'L', 'F', 'H', 'L', 'S', 'R', 'C', 'R', 'R', 'R', 'R', 'V', 'W', 'G', 'C', 'L', 'R', 'A', 'A', 'S', 'S', 'C', 'S', 'S', 'S', 'P', 'A', 'G', 'R', 'G', 'S', 'R', 'C', 'W', 'Y', 'S', 'I', 'V', 'P', 'Q', 'C', 'H', 'A', 'S', 'A', 'G', 'T', 'P', 'P', 'G', 'P', 'R', 'A', 'A', 'G', 'C', 'L', 'H', 'Q', 'G', 'P', 'R', 'P', 'A', 'P', 'P', 'A', 'P', 'P', 'A', 'G', 'P', 'L', 'P', 'P', 'G', 'G', 'S', 'W', 'V', 'C', 'R', 'R', 'S', 'L', 'V', 'P', 'R', 'T', 'L', 'G', 'R', 'E', 'L', 'P', 'P', 'G', 'V', 'S', 'R', 'T', 'G', 'V', 'G', 'S', 'Q', 'R', 'L', 'R', 'L', 'G', 'Q', 'V', 'P', 'R', 'G', 'P', 'A', 'A', 'P', 'A', 'G', 'A', 'G', 'G', 'A', 'S', 'T', 'G', 'P', 'W', 'Q', 'K', 'D', 'S', 'D', 'L', 'L', 'D', 'G', 'L', 'F', '_', 'C', 'S', 'L', 'S', 'W', 'R', 'A']\n",
      "['L', 'V', 'Q', 'G', 'L', 'Y', 'S', 'I', 'S', 'L', 'G', 'A', 'G', 'G', 'G', 'G', 'C', 'G', 'A', 'A', 'C', 'G', 'L', 'R', 'L', 'V', 'A', 'V', 'V', 'L', 'Q', 'L', 'V', 'E', 'G', 'A', 'D', 'A', 'G', 'T', 'A', 'L', 'F', 'H', 'N', 'A', 'T', 'L', 'L', 'Q', 'G', 'P', 'L', 'Q', 'G', 'Q', 'G', 'L', 'Q', 'A', 'A', 'C', 'T', 'R', 'A', 'P', 'A', 'Q', 'L', 'H', 'L', 'P', 'H', 'L', 'Q', 'V', 'L', 'C', 'L', 'P', 'A', 'G', 'L', 'G', 'C', 'V', 'E', 'E', 'A', 'S', 'F', 'P', 'A', 'H', '_', 'V', 'E', 'S', 'F', 'H', 'Q', 'V', '_', 'A', 'A', 'Q', 'V', 'L', 'V', 'H', 'K', 'G', 'C', 'G', 'W', 'V', 'R', 'S', 'P', 'E', 'G', 'Q', 'Q', 'R', 'Q', 'Q', 'G', 'Q', 'E', 'A', 'H', 'P', 'Q', 'G', 'H', 'G', 'R', 'R', 'T', 'V', 'I', 'C', 'L', 'M', 'A', 'S', 'S', 'D', 'A', 'A', 'C', 'P', 'G', 'G']\n",
      "['W', 'F', 'K', 'G', 'F', 'I', 'P', 'S', 'L', 'S', 'V', 'Q', 'E', 'A', 'A', 'G', 'V', 'G', 'L', 'P', 'A', 'G', 'C', 'V', '_', 'L', 'Q', '_', 'F', 'S', 'S', 'W', '_', 'R', 'E', 'Q', 'M', 'L', 'V', 'Q', 'H', 'C', 'S', 'T', 'M', 'P', 'R', 'F', 'C', 'R', 'D', 'P', 'S', 'R', 'A', 'K', 'G', 'C', 'R', 'L', 'P', 'A', 'P', 'G', 'P', 'P', 'P', 'S', 'S', 'T', 'C', 'P', 'T', 'C', 'R', 'S', 'S', 'A', 'S', 'R', 'R', 'V', 'L', 'G', 'V', '_', 'K', 'K', 'P', 'R', 'S', 'P', 'H', 'T', 'R', '_', 'R', 'A', 'S', 'T', 'R', 'C', 'E', 'P', 'H', 'R', 'C', 'W', 'F', 'T', 'K', 'A', 'A', 'A', 'G', 'S', 'G', 'P', 'Q', 'R', 'A', 'S', 'S', 'A', 'S', 'R', 'G', 'R', 'R', 'R', 'I', 'H', 'R', 'A', 'M', 'A', 'E', 'G', 'Q', '_', 'S', 'A', '_', 'W', 'P', 'L', 'L', 'M', 'Q', 'P', 'V', 'L', 'E', 'G']\n"
     ]
    }
   ],
   "source": [
    "# Generate reading frames from sequence using 'gen_reading_frames' function\n",
    "print ('[9]  Reading frames:')\n",
    "for frame in gen_reading_frames(DNA):\n",
    "    print(frame)"
   ]
  },
  {
   "cell_type": "markdown",
   "metadata": {},
   "source": [
    "#### Extracting protein sequences from open reading frames (AA sequence, list)"
   ]
  },
  {
   "cell_type": "code",
   "execution_count": 35,
   "metadata": {},
   "outputs": [],
   "source": [
    "test_AA_sequence1 = ['S', 'P', 'P', 'G', 'Q', 'A', 'A', 'S', 'E', 'E', 'A', 'I', 'K', 'Q', 'I', 'T', 'V', 'L', 'L', 'P', 'W', 'P', 'C', 'G', 'C', 'A', 'S', 'C', 'P', 'C', 'W', 'R', 'C', 'W', 'P', 'S', 'G', 'D', 'L', 'T', 'Q', 'P', 'Q', 'P', 'L', '_', 'T', 'N', 'T', 'C', 'A', 'A', 'H', 'T', 'W', 'W', 'K', 'L', 'S', 'T', '_', 'C', 'A', 'G', 'N', 'E', 'A', 'S', 'S', 'T', 'H', 'P', 'R', 'P', 'A', 'G', 'R', 'Q', 'R', 'T', 'C', 'R', 'W', 'G', 'R', 'W', 'S', 'W', 'A', 'G', 'A', 'L', 'V', 'Q', 'A', 'A', 'C', 'S', 'P', 'W', 'P', 'W', 'R', 'G', 'P', 'C', 'R', 'S', 'V', 'A', 'L', 'W', 'N', 'N', 'A', 'V', 'P', 'A', 'S', 'A', 'P', 'S', 'T', 'S', 'W', 'R', 'T', 'T', 'A', 'T', 'R', 'R', 'S', 'P', 'Q', 'A', 'A', 'P', 'H', 'P', 'P', 'P', 'P', 'A', 'P', 'R', 'E', 'M', 'E', '_', 'S', 'P', '_', 'T', 'S']\n",
    "test_AA_sequence2 = ['P', 'S', 'R', 'T', 'G', 'C', 'I', 'R', 'R', 'G', 'H', 'Q', 'A', 'D', 'H', 'C', 'P', 'S', 'A', 'M', 'A', 'L', 'W', 'M', 'R', 'L', 'L', 'P', 'L', 'L', 'A', 'L', 'L', 'A', 'L', 'W', 'G', 'P', 'D', 'P', 'A', 'A', 'A', 'F', 'V', 'N', 'Q', 'H', 'L', 'C', 'G', 'S', 'H', 'L', 'V', 'E', 'A', 'L', 'Y', 'L', 'V', 'C', 'G', 'E', 'R', 'G', 'F', 'F', 'Y', 'T', 'P', 'K', 'T', 'R', 'R', 'E', 'A', 'E', 'D', 'L', 'Q', 'V', 'G', 'Q', 'V', 'E', 'L', 'G', 'G', 'G', 'P', 'G', 'A', 'G', 'S', 'L', 'Q', 'P', 'L', 'A', 'L', 'E', 'G', 'S', 'L', 'Q', 'K', 'R', 'G', 'I', 'V', 'E', 'Q', 'C', 'C', 'T', 'S', 'I', 'C', 'S', 'L', 'Y', 'Q', 'L', 'E', 'N', 'Y', 'C', 'N', '_', 'T', 'Q', 'P', 'A', 'G', 'S', 'P', 'T', 'P', 'A', 'A', 'S', 'C', 'T', 'E', 'R', 'D', 'G', 'I', 'K', 'P', 'L', 'N', 'Q']"
   ]
  },
  {
   "cell_type": "code",
   "execution_count": 33,
   "metadata": {},
   "outputs": [
    {
     "name": "stdout",
     "output_type": "stream",
     "text": [
      "['ME']\n"
     ]
    }
   ],
   "source": [
    "# compute all possible proteins from an AA sequence using the 'proteins_from_rf' function\n",
    "print (proteins_from_rf(test_AA_sequence1))"
   ]
  },
  {
   "cell_type": "code",
   "execution_count": 36,
   "metadata": {
    "scrolled": true
   },
   "outputs": [
    {
     "name": "stdout",
     "output_type": "stream",
     "text": [
      "['MALWMRLLPLLALLALWGPDPAAAFVNQHLCGSHLVEALYLVCGERGFFYTPKTRREAEDLQVGQVELGGGPGAGSLQPLALEGSLQKRGIVEQCCTSICSLYQLENYCN', 'MRLLPLLALLALWGPDPAAAFVNQHLCGSHLVEALYLVCGERGFFYTPKTRREAEDLQVGQVELGGGPGAGSLQPLALEGSLQKRGIVEQCCTSICSLYQLENYCN']\n"
     ]
    }
   ],
   "source": [
    "print (proteins_from_rf(test_AA_sequence2))"
   ]
  },
  {
   "cell_type": "markdown",
   "metadata": {},
   "source": [
    "#### Extract protiens from all 6 reading frames in a DNA sequence"
   ]
  },
  {
   "cell_type": "code",
   "execution_count": 44,
   "metadata": {},
   "outputs": [
    {
     "name": "stdout",
     "output_type": "stream",
     "text": [
      "\n",
      " All proteins in 6 open reading frames:\n",
      "\n",
      "MALWMRLLPLLALLALWGPDPAAAFVNQHLCGSHLVEALYLVCGERGFFYTPKTRREAEDLQVGQVELGGGPGAGSLQPLALEGSLQKRGIVEQCCTSICSLYQLENYCN\n",
      "\n",
      "MRLLPLLALLALWGPDPAAAFVNQHLCGSHLVEALYLVCGERGFFYTPKTRREAEDLQVGQVELGGGPGAGSLQPLALEGSLQKRGIVEQCCTSICSLYQLENYCN\n",
      "\n",
      "MLVQHCSTMPRFCRDPSRAKGCRLPAPGPPPSSTCPTCRSSASRRVLGV\n",
      "\n",
      "MPRFCRDPSRAKGCRLPAPGPPPSSTCPTCRSSASRRVLGV\n",
      "\n",
      "MAEGQ\n",
      "\n",
      "ME\n",
      "\n"
     ]
    }
   ],
   "source": [
    "# compute all proteins from 6 open reading frames in DNA sequence and arrange them by lenght\n",
    "print('\\n All proteins in 6 open reading frames:\\n')\n",
    "for prot in all_proteins_from_orfs(DNA,0,0,True):\n",
    "    print(f'{prot}\\n')"
   ]
  },
  {
   "cell_type": "code",
   "execution_count": null,
   "metadata": {},
   "outputs": [],
   "source": []
  }
 ],
 "metadata": {
  "kernelspec": {
   "display_name": "Python 3",
   "language": "python",
   "name": "python3"
  },
  "language_info": {
   "codemirror_mode": {
    "name": "ipython",
    "version": 3
   },
   "file_extension": ".py",
   "mimetype": "text/x-python",
   "name": "python",
   "nbconvert_exporter": "python",
   "pygments_lexer": "ipython3",
   "version": "3.7.3"
  }
 },
 "nbformat": 4,
 "nbformat_minor": 2
}
