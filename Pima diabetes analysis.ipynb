{
 "cells": [
  {
   "cell_type": "markdown",
   "metadata": {},
   "source": [
    "### Analysis of Pima Indians diabetes incidence"
   ]
  },
  {
   "cell_type": "markdown",
   "metadata": {},
   "source": [
    "#### The objective of this project is to study a large data set collected from the Pima Indian women and analyse the relationship between multiple parameters to the presence of diabetes. Addtionally, predictive models are developed and tested to determine the accuray to which diabetes incidence can be predicted in this population. \n",
    "\n",
    "#### The data set is composed of 768 instances of female patients 21 years and older of Pima Indian heritage. It was made availble by The National institutes of Diabetes and Digestive and Kidney Diseases and  donated by Dr. Vincent Sigillito, The John Hopkins University. \n",
    "\n",
    "#### The data is composed of 9 attributes: Number of times pregnant, Plasma glucose concentration at 2 hours in oral glucose tolerance test, Diastolic blood preassure (mm Hg), Tricepts skin fold (mm), 2-Hour serum insulin (mu U/ml), Body mass index (weight Kg/ height m)^2, Diabetes pedigree function, Age, and class (0 or 1) where 0 = no diabetes and 1 = yes diabetes.\n",
    "\n",
    "#### This project work includes: 1. data screening, processing, & cleaning, 2. correlation & covariance estimation & visulizations, 3. exploratory data analysis in which factors that may affect the patient classfication are  visualized, 4. machine learning model training & building including feature selection by recursive feature elimination, 5. machine learning model evaluation & selction, 6. customization & tuning of selected model, and 7. testing of the finalized selected model."
   ]
  },
  {
   "cell_type": "code",
   "execution_count": 1,
   "metadata": {},
   "outputs": [],
   "source": [
    "import pandas as pd\n",
    "from pandas import Series, DataFrame\n",
    "# import matplotlib.pyplot for data visualization\n",
    "import matplotlib as mpl\n",
    "import matplotlib.pyplot as plt\n",
    "import numpy as np\n",
    "import seaborn as sns\n",
    "%matplotlib inline\n",
    "import pylab\n",
    "pylab.rcParams['figure.figsize'] = (8.0, 6.0)"
   ]
  },
  {
   "cell_type": "markdown",
   "metadata": {},
   "source": [
    "#### Import the data set"
   ]
  },
  {
   "cell_type": "code",
   "execution_count": 2,
   "metadata": {},
   "outputs": [],
   "source": [
    "Pima=pd.read_csv('pima-indians-diabetes_mod.csv')"
   ]
  },
  {
   "cell_type": "markdown",
   "metadata": {},
   "source": [
    "#### Data screening, cleaning, and preprocessing"
   ]
  },
  {
   "cell_type": "code",
   "execution_count": 3,
   "metadata": {},
   "outputs": [
    {
     "data": {
      "text/html": [
       "<div>\n",
       "<style scoped>\n",
       "    .dataframe tbody tr th:only-of-type {\n",
       "        vertical-align: middle;\n",
       "    }\n",
       "\n",
       "    .dataframe tbody tr th {\n",
       "        vertical-align: top;\n",
       "    }\n",
       "\n",
       "    .dataframe thead th {\n",
       "        text-align: right;\n",
       "    }\n",
       "</style>\n",
       "<table border=\"1\" class=\"dataframe\">\n",
       "  <thead>\n",
       "    <tr style=\"text-align: right;\">\n",
       "      <th></th>\n",
       "      <th>Patient num</th>\n",
       "      <th>Pregnancies</th>\n",
       "      <th>Plasma_Glucose</th>\n",
       "      <th>Dia_BP</th>\n",
       "      <th>Tri_skin_mm</th>\n",
       "      <th>Serum_insulin</th>\n",
       "      <th>BMI</th>\n",
       "      <th>Dia_pedi_funct</th>\n",
       "      <th>Age</th>\n",
       "      <th>Class</th>\n",
       "    </tr>\n",
       "  </thead>\n",
       "  <tbody>\n",
       "    <tr>\n",
       "      <th>0</th>\n",
       "      <td>1</td>\n",
       "      <td>6</td>\n",
       "      <td>148</td>\n",
       "      <td>72</td>\n",
       "      <td>35</td>\n",
       "      <td>0</td>\n",
       "      <td>33.6</td>\n",
       "      <td>0.627</td>\n",
       "      <td>50</td>\n",
       "      <td>1</td>\n",
       "    </tr>\n",
       "    <tr>\n",
       "      <th>1</th>\n",
       "      <td>2</td>\n",
       "      <td>1</td>\n",
       "      <td>85</td>\n",
       "      <td>66</td>\n",
       "      <td>29</td>\n",
       "      <td>0</td>\n",
       "      <td>26.6</td>\n",
       "      <td>0.351</td>\n",
       "      <td>31</td>\n",
       "      <td>0</td>\n",
       "    </tr>\n",
       "    <tr>\n",
       "      <th>2</th>\n",
       "      <td>3</td>\n",
       "      <td>8</td>\n",
       "      <td>183</td>\n",
       "      <td>64</td>\n",
       "      <td>0</td>\n",
       "      <td>0</td>\n",
       "      <td>23.3</td>\n",
       "      <td>0.672</td>\n",
       "      <td>32</td>\n",
       "      <td>1</td>\n",
       "    </tr>\n",
       "    <tr>\n",
       "      <th>3</th>\n",
       "      <td>4</td>\n",
       "      <td>1</td>\n",
       "      <td>89</td>\n",
       "      <td>66</td>\n",
       "      <td>23</td>\n",
       "      <td>94</td>\n",
       "      <td>28.1</td>\n",
       "      <td>0.167</td>\n",
       "      <td>21</td>\n",
       "      <td>0</td>\n",
       "    </tr>\n",
       "    <tr>\n",
       "      <th>4</th>\n",
       "      <td>5</td>\n",
       "      <td>0</td>\n",
       "      <td>137</td>\n",
       "      <td>40</td>\n",
       "      <td>35</td>\n",
       "      <td>168</td>\n",
       "      <td>43.1</td>\n",
       "      <td>2.288</td>\n",
       "      <td>33</td>\n",
       "      <td>1</td>\n",
       "    </tr>\n",
       "  </tbody>\n",
       "</table>\n",
       "</div>"
      ],
      "text/plain": [
       "   Patient num  Pregnancies  Plasma_Glucose  Dia_BP  Tri_skin_mm  \\\n",
       "0            1            6             148      72           35   \n",
       "1            2            1              85      66           29   \n",
       "2            3            8             183      64            0   \n",
       "3            4            1              89      66           23   \n",
       "4            5            0             137      40           35   \n",
       "\n",
       "   Serum_insulin   BMI  Dia_pedi_funct  Age  Class  \n",
       "0              0  33.6           0.627   50      1  \n",
       "1              0  26.6           0.351   31      0  \n",
       "2              0  23.3           0.672   32      1  \n",
       "3             94  28.1           0.167   21      0  \n",
       "4            168  43.1           2.288   33      1  "
      ]
     },
     "execution_count": 3,
     "metadata": {},
     "output_type": "execute_result"
    }
   ],
   "source": [
    "Pima.head()"
   ]
  },
  {
   "cell_type": "code",
   "execution_count": 4,
   "metadata": {},
   "outputs": [
    {
     "data": {
      "text/html": [
       "<div>\n",
       "<style scoped>\n",
       "    .dataframe tbody tr th:only-of-type {\n",
       "        vertical-align: middle;\n",
       "    }\n",
       "\n",
       "    .dataframe tbody tr th {\n",
       "        vertical-align: top;\n",
       "    }\n",
       "\n",
       "    .dataframe thead th {\n",
       "        text-align: right;\n",
       "    }\n",
       "</style>\n",
       "<table border=\"1\" class=\"dataframe\">\n",
       "  <thead>\n",
       "    <tr style=\"text-align: right;\">\n",
       "      <th></th>\n",
       "      <th>Patient_num</th>\n",
       "      <th>Pregnancies</th>\n",
       "      <th>Plasma_Glucose</th>\n",
       "      <th>Dia_BP</th>\n",
       "      <th>Tri_skin_mm</th>\n",
       "      <th>Serum_insulin</th>\n",
       "      <th>BMI</th>\n",
       "      <th>Dia_pedi_funct</th>\n",
       "      <th>Age</th>\n",
       "      <th>Class</th>\n",
       "    </tr>\n",
       "  </thead>\n",
       "  <tbody>\n",
       "    <tr>\n",
       "      <th>0</th>\n",
       "      <td>1</td>\n",
       "      <td>6</td>\n",
       "      <td>148</td>\n",
       "      <td>72</td>\n",
       "      <td>35</td>\n",
       "      <td>0</td>\n",
       "      <td>33.6</td>\n",
       "      <td>0.627</td>\n",
       "      <td>50</td>\n",
       "      <td>1</td>\n",
       "    </tr>\n",
       "    <tr>\n",
       "      <th>1</th>\n",
       "      <td>2</td>\n",
       "      <td>1</td>\n",
       "      <td>85</td>\n",
       "      <td>66</td>\n",
       "      <td>29</td>\n",
       "      <td>0</td>\n",
       "      <td>26.6</td>\n",
       "      <td>0.351</td>\n",
       "      <td>31</td>\n",
       "      <td>0</td>\n",
       "    </tr>\n",
       "    <tr>\n",
       "      <th>2</th>\n",
       "      <td>3</td>\n",
       "      <td>8</td>\n",
       "      <td>183</td>\n",
       "      <td>64</td>\n",
       "      <td>0</td>\n",
       "      <td>0</td>\n",
       "      <td>23.3</td>\n",
       "      <td>0.672</td>\n",
       "      <td>32</td>\n",
       "      <td>1</td>\n",
       "    </tr>\n",
       "    <tr>\n",
       "      <th>3</th>\n",
       "      <td>4</td>\n",
       "      <td>1</td>\n",
       "      <td>89</td>\n",
       "      <td>66</td>\n",
       "      <td>23</td>\n",
       "      <td>94</td>\n",
       "      <td>28.1</td>\n",
       "      <td>0.167</td>\n",
       "      <td>21</td>\n",
       "      <td>0</td>\n",
       "    </tr>\n",
       "    <tr>\n",
       "      <th>4</th>\n",
       "      <td>5</td>\n",
       "      <td>0</td>\n",
       "      <td>137</td>\n",
       "      <td>40</td>\n",
       "      <td>35</td>\n",
       "      <td>168</td>\n",
       "      <td>43.1</td>\n",
       "      <td>2.288</td>\n",
       "      <td>33</td>\n",
       "      <td>1</td>\n",
       "    </tr>\n",
       "  </tbody>\n",
       "</table>\n",
       "</div>"
      ],
      "text/plain": [
       "   Patient_num  Pregnancies  Plasma_Glucose  Dia_BP  Tri_skin_mm  \\\n",
       "0            1            6             148      72           35   \n",
       "1            2            1              85      66           29   \n",
       "2            3            8             183      64            0   \n",
       "3            4            1              89      66           23   \n",
       "4            5            0             137      40           35   \n",
       "\n",
       "   Serum_insulin   BMI  Dia_pedi_funct  Age  Class  \n",
       "0              0  33.6           0.627   50      1  \n",
       "1              0  26.6           0.351   31      0  \n",
       "2              0  23.3           0.672   32      1  \n",
       "3             94  28.1           0.167   21      0  \n",
       "4            168  43.1           2.288   33      1  "
      ]
     },
     "execution_count": 4,
     "metadata": {},
     "output_type": "execute_result"
    }
   ],
   "source": [
    "# rename column so no spaces between words\n",
    "Pima.rename(columns = {'Patient num':'Patient_num'}, inplace= True)\n",
    "Pima.head()"
   ]
  },
  {
   "cell_type": "code",
   "execution_count": 5,
   "metadata": {},
   "outputs": [
    {
     "name": "stdout",
     "output_type": "stream",
     "text": [
      "<class 'pandas.core.frame.DataFrame'>\n",
      "RangeIndex: 768 entries, 0 to 767\n",
      "Data columns (total 10 columns):\n",
      "Patient_num       768 non-null int64\n",
      "Pregnancies       768 non-null int64\n",
      "Plasma_Glucose    768 non-null int64\n",
      "Dia_BP            768 non-null int64\n",
      "Tri_skin_mm       768 non-null int64\n",
      "Serum_insulin     768 non-null int64\n",
      "BMI               768 non-null float64\n",
      "Dia_pedi_funct    768 non-null float64\n",
      "Age               768 non-null int64\n",
      "Class             768 non-null int64\n",
      "dtypes: float64(2), int64(8)\n",
      "memory usage: 60.1 KB\n"
     ]
    }
   ],
   "source": [
    "# obtain information about the data:\n",
    "Pima.info()"
   ]
  },
  {
   "cell_type": "code",
   "execution_count": 6,
   "metadata": {},
   "outputs": [
    {
     "data": {
      "text/html": [
       "<div>\n",
       "<style scoped>\n",
       "    .dataframe tbody tr th:only-of-type {\n",
       "        vertical-align: middle;\n",
       "    }\n",
       "\n",
       "    .dataframe tbody tr th {\n",
       "        vertical-align: top;\n",
       "    }\n",
       "\n",
       "    .dataframe thead th {\n",
       "        text-align: right;\n",
       "    }\n",
       "</style>\n",
       "<table border=\"1\" class=\"dataframe\">\n",
       "  <thead>\n",
       "    <tr style=\"text-align: right;\">\n",
       "      <th></th>\n",
       "      <th>Patient_num</th>\n",
       "      <th>Pregnancies</th>\n",
       "      <th>Plasma_Glucose</th>\n",
       "      <th>Dia_BP</th>\n",
       "      <th>Tri_skin_mm</th>\n",
       "      <th>Serum_insulin</th>\n",
       "      <th>BMI</th>\n",
       "      <th>Dia_pedi_funct</th>\n",
       "      <th>Age</th>\n",
       "      <th>Class</th>\n",
       "    </tr>\n",
       "  </thead>\n",
       "  <tbody>\n",
       "    <tr>\n",
       "      <th>count</th>\n",
       "      <td>768.000000</td>\n",
       "      <td>768.000000</td>\n",
       "      <td>768.000000</td>\n",
       "      <td>768.000000</td>\n",
       "      <td>768.000000</td>\n",
       "      <td>768.000000</td>\n",
       "      <td>768.000000</td>\n",
       "      <td>768.000000</td>\n",
       "      <td>768.000000</td>\n",
       "      <td>768.000000</td>\n",
       "    </tr>\n",
       "    <tr>\n",
       "      <th>mean</th>\n",
       "      <td>384.500000</td>\n",
       "      <td>3.845052</td>\n",
       "      <td>120.894531</td>\n",
       "      <td>69.105469</td>\n",
       "      <td>20.536458</td>\n",
       "      <td>79.799479</td>\n",
       "      <td>31.992578</td>\n",
       "      <td>0.471876</td>\n",
       "      <td>33.240885</td>\n",
       "      <td>0.348958</td>\n",
       "    </tr>\n",
       "    <tr>\n",
       "      <th>std</th>\n",
       "      <td>221.846794</td>\n",
       "      <td>3.369578</td>\n",
       "      <td>31.972618</td>\n",
       "      <td>19.355807</td>\n",
       "      <td>15.952218</td>\n",
       "      <td>115.244002</td>\n",
       "      <td>7.884160</td>\n",
       "      <td>0.331329</td>\n",
       "      <td>11.760232</td>\n",
       "      <td>0.476951</td>\n",
       "    </tr>\n",
       "    <tr>\n",
       "      <th>min</th>\n",
       "      <td>1.000000</td>\n",
       "      <td>0.000000</td>\n",
       "      <td>0.000000</td>\n",
       "      <td>0.000000</td>\n",
       "      <td>0.000000</td>\n",
       "      <td>0.000000</td>\n",
       "      <td>0.000000</td>\n",
       "      <td>0.078000</td>\n",
       "      <td>21.000000</td>\n",
       "      <td>0.000000</td>\n",
       "    </tr>\n",
       "    <tr>\n",
       "      <th>25%</th>\n",
       "      <td>192.750000</td>\n",
       "      <td>1.000000</td>\n",
       "      <td>99.000000</td>\n",
       "      <td>62.000000</td>\n",
       "      <td>0.000000</td>\n",
       "      <td>0.000000</td>\n",
       "      <td>27.300000</td>\n",
       "      <td>0.243750</td>\n",
       "      <td>24.000000</td>\n",
       "      <td>0.000000</td>\n",
       "    </tr>\n",
       "    <tr>\n",
       "      <th>50%</th>\n",
       "      <td>384.500000</td>\n",
       "      <td>3.000000</td>\n",
       "      <td>117.000000</td>\n",
       "      <td>72.000000</td>\n",
       "      <td>23.000000</td>\n",
       "      <td>30.500000</td>\n",
       "      <td>32.000000</td>\n",
       "      <td>0.372500</td>\n",
       "      <td>29.000000</td>\n",
       "      <td>0.000000</td>\n",
       "    </tr>\n",
       "    <tr>\n",
       "      <th>75%</th>\n",
       "      <td>576.250000</td>\n",
       "      <td>6.000000</td>\n",
       "      <td>140.250000</td>\n",
       "      <td>80.000000</td>\n",
       "      <td>32.000000</td>\n",
       "      <td>127.250000</td>\n",
       "      <td>36.600000</td>\n",
       "      <td>0.626250</td>\n",
       "      <td>41.000000</td>\n",
       "      <td>1.000000</td>\n",
       "    </tr>\n",
       "    <tr>\n",
       "      <th>max</th>\n",
       "      <td>768.000000</td>\n",
       "      <td>17.000000</td>\n",
       "      <td>199.000000</td>\n",
       "      <td>122.000000</td>\n",
       "      <td>99.000000</td>\n",
       "      <td>846.000000</td>\n",
       "      <td>67.100000</td>\n",
       "      <td>2.420000</td>\n",
       "      <td>81.000000</td>\n",
       "      <td>1.000000</td>\n",
       "    </tr>\n",
       "  </tbody>\n",
       "</table>\n",
       "</div>"
      ],
      "text/plain": [
       "       Patient_num  Pregnancies  Plasma_Glucose      Dia_BP  Tri_skin_mm  \\\n",
       "count   768.000000   768.000000      768.000000  768.000000   768.000000   \n",
       "mean    384.500000     3.845052      120.894531   69.105469    20.536458   \n",
       "std     221.846794     3.369578       31.972618   19.355807    15.952218   \n",
       "min       1.000000     0.000000        0.000000    0.000000     0.000000   \n",
       "25%     192.750000     1.000000       99.000000   62.000000     0.000000   \n",
       "50%     384.500000     3.000000      117.000000   72.000000    23.000000   \n",
       "75%     576.250000     6.000000      140.250000   80.000000    32.000000   \n",
       "max     768.000000    17.000000      199.000000  122.000000    99.000000   \n",
       "\n",
       "       Serum_insulin         BMI  Dia_pedi_funct         Age       Class  \n",
       "count     768.000000  768.000000      768.000000  768.000000  768.000000  \n",
       "mean       79.799479   31.992578        0.471876   33.240885    0.348958  \n",
       "std       115.244002    7.884160        0.331329   11.760232    0.476951  \n",
       "min         0.000000    0.000000        0.078000   21.000000    0.000000  \n",
       "25%         0.000000   27.300000        0.243750   24.000000    0.000000  \n",
       "50%        30.500000   32.000000        0.372500   29.000000    0.000000  \n",
       "75%       127.250000   36.600000        0.626250   41.000000    1.000000  \n",
       "max       846.000000   67.100000        2.420000   81.000000    1.000000  "
      ]
     },
     "execution_count": 6,
     "metadata": {},
     "output_type": "execute_result"
    }
   ],
   "source": [
    "# statistic information \n",
    "Pima.describe()"
   ]
  },
  {
   "cell_type": "markdown",
   "metadata": {},
   "source": [
    "##### From looking at the statistics table we can see that some columns have 0 as a minimal value. In some of the column a 0 value would indicate missing data since 0 is not a physioligical posiblity."
   ]
  },
  {
   "cell_type": "code",
   "execution_count": 7,
   "metadata": {},
   "outputs": [
    {
     "name": "stdout",
     "output_type": "stream",
     "text": [
      "Plasma_Glucose      5\n",
      "Dia_BP             35\n",
      "Tri_skin_mm       227\n",
      "Serum_insulin     374\n",
      "BMI                11\n",
      "dtype: int64\n"
     ]
    }
   ],
   "source": [
    "# Determine the # of missing values (in this case 0s) for each column of interest\n",
    "missing_values = (Pima[['Plasma_Glucose','Dia_BP', 'Tri_skin_mm', 'Serum_insulin','BMI']]==0).sum()\n",
    "print(missing_values)"
   ]
  },
  {
   "cell_type": "code",
   "execution_count": 8,
   "metadata": {},
   "outputs": [],
   "source": [
    "# if columns are numbered instead of named the missing values can be counted by: num_missing = (Pima [[2,3,4,5,6]]==0).sum()"
   ]
  },
  {
   "cell_type": "code",
   "execution_count": 9,
   "metadata": {},
   "outputs": [],
   "source": [
    "# import NaN from Numpy. in python we use NaN to for missing values\n",
    "from numpy import nan"
   ]
  },
  {
   "cell_type": "code",
   "execution_count": 10,
   "metadata": {
    "scrolled": true
   },
   "outputs": [],
   "source": [
    "# replace missing values with NaN\n",
    "Pima[['Plasma_Glucose','Dia_BP', 'Tri_skin_mm', 'Serum_insulin','BMI']] = Pima[['Plasma_Glucose','Dia_BP', 'Tri_skin_mm', 'Serum_insulin','BMI']].replace(0,nan)"
   ]
  },
  {
   "cell_type": "code",
   "execution_count": 11,
   "metadata": {},
   "outputs": [
    {
     "name": "stdout",
     "output_type": "stream",
     "text": [
      "Patient_num         0\n",
      "Pregnancies         0\n",
      "Plasma_Glucose      5\n",
      "Dia_BP             35\n",
      "Tri_skin_mm       227\n",
      "Serum_insulin     374\n",
      "BMI                11\n",
      "Dia_pedi_funct      0\n",
      "Age                 0\n",
      "Class               0\n",
      "dtype: int64\n"
     ]
    }
   ],
   "source": [
    "# determine the number of missing values in each column\n",
    "print(Pima.isnull().sum())"
   ]
  },
  {
   "cell_type": "code",
   "execution_count": 12,
   "metadata": {},
   "outputs": [
    {
     "data": {
      "text/html": [
       "<div>\n",
       "<style scoped>\n",
       "    .dataframe tbody tr th:only-of-type {\n",
       "        vertical-align: middle;\n",
       "    }\n",
       "\n",
       "    .dataframe tbody tr th {\n",
       "        vertical-align: top;\n",
       "    }\n",
       "\n",
       "    .dataframe thead th {\n",
       "        text-align: right;\n",
       "    }\n",
       "</style>\n",
       "<table border=\"1\" class=\"dataframe\">\n",
       "  <thead>\n",
       "    <tr style=\"text-align: right;\">\n",
       "      <th></th>\n",
       "      <th>Patient_num</th>\n",
       "      <th>Pregnancies</th>\n",
       "      <th>Plasma_Glucose</th>\n",
       "      <th>Dia_BP</th>\n",
       "      <th>Tri_skin_mm</th>\n",
       "      <th>Serum_insulin</th>\n",
       "      <th>BMI</th>\n",
       "      <th>Dia_pedi_funct</th>\n",
       "      <th>Age</th>\n",
       "      <th>Class</th>\n",
       "    </tr>\n",
       "  </thead>\n",
       "  <tbody>\n",
       "    <tr>\n",
       "      <th>0</th>\n",
       "      <td>1</td>\n",
       "      <td>6</td>\n",
       "      <td>148.0</td>\n",
       "      <td>72.0</td>\n",
       "      <td>35.0</td>\n",
       "      <td>NaN</td>\n",
       "      <td>33.6</td>\n",
       "      <td>0.627</td>\n",
       "      <td>50</td>\n",
       "      <td>1</td>\n",
       "    </tr>\n",
       "    <tr>\n",
       "      <th>1</th>\n",
       "      <td>2</td>\n",
       "      <td>1</td>\n",
       "      <td>85.0</td>\n",
       "      <td>66.0</td>\n",
       "      <td>29.0</td>\n",
       "      <td>NaN</td>\n",
       "      <td>26.6</td>\n",
       "      <td>0.351</td>\n",
       "      <td>31</td>\n",
       "      <td>0</td>\n",
       "    </tr>\n",
       "    <tr>\n",
       "      <th>2</th>\n",
       "      <td>3</td>\n",
       "      <td>8</td>\n",
       "      <td>183.0</td>\n",
       "      <td>64.0</td>\n",
       "      <td>NaN</td>\n",
       "      <td>NaN</td>\n",
       "      <td>23.3</td>\n",
       "      <td>0.672</td>\n",
       "      <td>32</td>\n",
       "      <td>1</td>\n",
       "    </tr>\n",
       "    <tr>\n",
       "      <th>3</th>\n",
       "      <td>4</td>\n",
       "      <td>1</td>\n",
       "      <td>89.0</td>\n",
       "      <td>66.0</td>\n",
       "      <td>23.0</td>\n",
       "      <td>94.0</td>\n",
       "      <td>28.1</td>\n",
       "      <td>0.167</td>\n",
       "      <td>21</td>\n",
       "      <td>0</td>\n",
       "    </tr>\n",
       "    <tr>\n",
       "      <th>4</th>\n",
       "      <td>5</td>\n",
       "      <td>0</td>\n",
       "      <td>137.0</td>\n",
       "      <td>40.0</td>\n",
       "      <td>35.0</td>\n",
       "      <td>168.0</td>\n",
       "      <td>43.1</td>\n",
       "      <td>2.288</td>\n",
       "      <td>33</td>\n",
       "      <td>1</td>\n",
       "    </tr>\n",
       "    <tr>\n",
       "      <th>5</th>\n",
       "      <td>6</td>\n",
       "      <td>5</td>\n",
       "      <td>116.0</td>\n",
       "      <td>74.0</td>\n",
       "      <td>NaN</td>\n",
       "      <td>NaN</td>\n",
       "      <td>25.6</td>\n",
       "      <td>0.201</td>\n",
       "      <td>30</td>\n",
       "      <td>0</td>\n",
       "    </tr>\n",
       "    <tr>\n",
       "      <th>6</th>\n",
       "      <td>7</td>\n",
       "      <td>3</td>\n",
       "      <td>78.0</td>\n",
       "      <td>50.0</td>\n",
       "      <td>32.0</td>\n",
       "      <td>88.0</td>\n",
       "      <td>31.0</td>\n",
       "      <td>0.248</td>\n",
       "      <td>26</td>\n",
       "      <td>1</td>\n",
       "    </tr>\n",
       "    <tr>\n",
       "      <th>7</th>\n",
       "      <td>8</td>\n",
       "      <td>10</td>\n",
       "      <td>115.0</td>\n",
       "      <td>NaN</td>\n",
       "      <td>NaN</td>\n",
       "      <td>NaN</td>\n",
       "      <td>35.3</td>\n",
       "      <td>0.134</td>\n",
       "      <td>29</td>\n",
       "      <td>0</td>\n",
       "    </tr>\n",
       "    <tr>\n",
       "      <th>8</th>\n",
       "      <td>9</td>\n",
       "      <td>2</td>\n",
       "      <td>197.0</td>\n",
       "      <td>70.0</td>\n",
       "      <td>45.0</td>\n",
       "      <td>543.0</td>\n",
       "      <td>30.5</td>\n",
       "      <td>0.158</td>\n",
       "      <td>53</td>\n",
       "      <td>1</td>\n",
       "    </tr>\n",
       "    <tr>\n",
       "      <th>9</th>\n",
       "      <td>10</td>\n",
       "      <td>8</td>\n",
       "      <td>125.0</td>\n",
       "      <td>96.0</td>\n",
       "      <td>NaN</td>\n",
       "      <td>NaN</td>\n",
       "      <td>NaN</td>\n",
       "      <td>0.232</td>\n",
       "      <td>54</td>\n",
       "      <td>1</td>\n",
       "    </tr>\n",
       "  </tbody>\n",
       "</table>\n",
       "</div>"
      ],
      "text/plain": [
       "   Patient_num  Pregnancies  Plasma_Glucose  Dia_BP  Tri_skin_mm  \\\n",
       "0            1            6           148.0    72.0         35.0   \n",
       "1            2            1            85.0    66.0         29.0   \n",
       "2            3            8           183.0    64.0          NaN   \n",
       "3            4            1            89.0    66.0         23.0   \n",
       "4            5            0           137.0    40.0         35.0   \n",
       "5            6            5           116.0    74.0          NaN   \n",
       "6            7            3            78.0    50.0         32.0   \n",
       "7            8           10           115.0     NaN          NaN   \n",
       "8            9            2           197.0    70.0         45.0   \n",
       "9           10            8           125.0    96.0          NaN   \n",
       "\n",
       "   Serum_insulin   BMI  Dia_pedi_funct  Age  Class  \n",
       "0            NaN  33.6           0.627   50      1  \n",
       "1            NaN  26.6           0.351   31      0  \n",
       "2            NaN  23.3           0.672   32      1  \n",
       "3           94.0  28.1           0.167   21      0  \n",
       "4          168.0  43.1           2.288   33      1  \n",
       "5            NaN  25.6           0.201   30      0  \n",
       "6           88.0  31.0           0.248   26      1  \n",
       "7            NaN  35.3           0.134   29      0  \n",
       "8          543.0  30.5           0.158   53      1  \n",
       "9            NaN   NaN           0.232   54      1  "
      ]
     },
     "execution_count": 12,
     "metadata": {},
     "output_type": "execute_result"
    }
   ],
   "source": [
    "# look at the first 10 row to see the missing values have been replaced with Nan\n",
    "Pima.head(10)"
   ]
  },
  {
   "cell_type": "markdown",
   "metadata": {},
   "source": [
    "#### One way to deal with missing values is to remove the samples where data is missing:"
   ]
  },
  {
   "cell_type": "code",
   "execution_count": 13,
   "metadata": {},
   "outputs": [],
   "source": [
    "# Create new data set while removing rows (samples) with missing values\n",
    "Pima1=Pima.dropna()\n"
   ]
  },
  {
   "cell_type": "code",
   "execution_count": 14,
   "metadata": {},
   "outputs": [
    {
     "name": "stdout",
     "output_type": "stream",
     "text": [
      "<class 'pandas.core.frame.DataFrame'>\n",
      "Int64Index: 392 entries, 3 to 765\n",
      "Data columns (total 10 columns):\n",
      "Patient_num       392 non-null int64\n",
      "Pregnancies       392 non-null int64\n",
      "Plasma_Glucose    392 non-null float64\n",
      "Dia_BP            392 non-null float64\n",
      "Tri_skin_mm       392 non-null float64\n",
      "Serum_insulin     392 non-null float64\n",
      "BMI               392 non-null float64\n",
      "Dia_pedi_funct    392 non-null float64\n",
      "Age               392 non-null int64\n",
      "Class             392 non-null int64\n",
      "dtypes: float64(6), int64(4)\n",
      "memory usage: 33.7 KB\n"
     ]
    }
   ],
   "source": [
    "Pima1.info()"
   ]
  },
  {
   "cell_type": "code",
   "execution_count": 15,
   "metadata": {},
   "outputs": [
    {
     "data": {
      "text/html": [
       "<div>\n",
       "<style scoped>\n",
       "    .dataframe tbody tr th:only-of-type {\n",
       "        vertical-align: middle;\n",
       "    }\n",
       "\n",
       "    .dataframe tbody tr th {\n",
       "        vertical-align: top;\n",
       "    }\n",
       "\n",
       "    .dataframe thead th {\n",
       "        text-align: right;\n",
       "    }\n",
       "</style>\n",
       "<table border=\"1\" class=\"dataframe\">\n",
       "  <thead>\n",
       "    <tr style=\"text-align: right;\">\n",
       "      <th></th>\n",
       "      <th>Patient_num</th>\n",
       "      <th>Pregnancies</th>\n",
       "      <th>Plasma_Glucose</th>\n",
       "      <th>Dia_BP</th>\n",
       "      <th>Tri_skin_mm</th>\n",
       "      <th>Serum_insulin</th>\n",
       "      <th>BMI</th>\n",
       "      <th>Dia_pedi_funct</th>\n",
       "      <th>Age</th>\n",
       "      <th>Class</th>\n",
       "    </tr>\n",
       "  </thead>\n",
       "  <tbody>\n",
       "    <tr>\n",
       "      <th>3</th>\n",
       "      <td>4</td>\n",
       "      <td>1</td>\n",
       "      <td>89.0</td>\n",
       "      <td>66.0</td>\n",
       "      <td>23.0</td>\n",
       "      <td>94.0</td>\n",
       "      <td>28.1</td>\n",
       "      <td>0.167</td>\n",
       "      <td>21</td>\n",
       "      <td>0</td>\n",
       "    </tr>\n",
       "    <tr>\n",
       "      <th>4</th>\n",
       "      <td>5</td>\n",
       "      <td>0</td>\n",
       "      <td>137.0</td>\n",
       "      <td>40.0</td>\n",
       "      <td>35.0</td>\n",
       "      <td>168.0</td>\n",
       "      <td>43.1</td>\n",
       "      <td>2.288</td>\n",
       "      <td>33</td>\n",
       "      <td>1</td>\n",
       "    </tr>\n",
       "    <tr>\n",
       "      <th>6</th>\n",
       "      <td>7</td>\n",
       "      <td>3</td>\n",
       "      <td>78.0</td>\n",
       "      <td>50.0</td>\n",
       "      <td>32.0</td>\n",
       "      <td>88.0</td>\n",
       "      <td>31.0</td>\n",
       "      <td>0.248</td>\n",
       "      <td>26</td>\n",
       "      <td>1</td>\n",
       "    </tr>\n",
       "    <tr>\n",
       "      <th>8</th>\n",
       "      <td>9</td>\n",
       "      <td>2</td>\n",
       "      <td>197.0</td>\n",
       "      <td>70.0</td>\n",
       "      <td>45.0</td>\n",
       "      <td>543.0</td>\n",
       "      <td>30.5</td>\n",
       "      <td>0.158</td>\n",
       "      <td>53</td>\n",
       "      <td>1</td>\n",
       "    </tr>\n",
       "    <tr>\n",
       "      <th>13</th>\n",
       "      <td>14</td>\n",
       "      <td>1</td>\n",
       "      <td>189.0</td>\n",
       "      <td>60.0</td>\n",
       "      <td>23.0</td>\n",
       "      <td>846.0</td>\n",
       "      <td>30.1</td>\n",
       "      <td>0.398</td>\n",
       "      <td>59</td>\n",
       "      <td>1</td>\n",
       "    </tr>\n",
       "  </tbody>\n",
       "</table>\n",
       "</div>"
      ],
      "text/plain": [
       "    Patient_num  Pregnancies  Plasma_Glucose  Dia_BP  Tri_skin_mm  \\\n",
       "3             4            1            89.0    66.0         23.0   \n",
       "4             5            0           137.0    40.0         35.0   \n",
       "6             7            3            78.0    50.0         32.0   \n",
       "8             9            2           197.0    70.0         45.0   \n",
       "13           14            1           189.0    60.0         23.0   \n",
       "\n",
       "    Serum_insulin   BMI  Dia_pedi_funct  Age  Class  \n",
       "3            94.0  28.1           0.167   21      0  \n",
       "4           168.0  43.1           2.288   33      1  \n",
       "6            88.0  31.0           0.248   26      1  \n",
       "8           543.0  30.5           0.158   53      1  \n",
       "13          846.0  30.1           0.398   59      1  "
      ]
     },
     "execution_count": 15,
     "metadata": {},
     "output_type": "execute_result"
    }
   ],
   "source": [
    "Pima1.head()"
   ]
  },
  {
   "cell_type": "markdown",
   "metadata": {},
   "source": [
    "#### Another way to handle missing data is to replace the missing values for each column like the mean. "
   ]
  },
  {
   "cell_type": "code",
   "execution_count": 16,
   "metadata": {},
   "outputs": [
    {
     "name": "stdout",
     "output_type": "stream",
     "text": [
      "<class 'pandas.core.frame.DataFrame'>\n",
      "RangeIndex: 768 entries, 0 to 767\n",
      "Data columns (total 10 columns):\n",
      "Patient_num       768 non-null int64\n",
      "Pregnancies       768 non-null int64\n",
      "Plasma_Glucose    768 non-null float64\n",
      "Dia_BP            768 non-null float64\n",
      "Tri_skin_mm       768 non-null float64\n",
      "Serum_insulin     768 non-null float64\n",
      "BMI               768 non-null float64\n",
      "Dia_pedi_funct    768 non-null float64\n",
      "Age               768 non-null int64\n",
      "Class             768 non-null int64\n",
      "dtypes: float64(6), int64(4)\n",
      "memory usage: 60.1 KB\n"
     ]
    }
   ],
   "source": [
    "# create a new data set while replacing the missing values. Here missing values will be\n",
    "# replaced with the mean of each feature.\n",
    "Pima2 = Pima.fillna(Pima.mean())\n",
    "Pima2.info()"
   ]
  },
  {
   "cell_type": "code",
   "execution_count": 17,
   "metadata": {},
   "outputs": [
    {
     "name": "stdout",
     "output_type": "stream",
     "text": [
      "Patient_num       0\n",
      "Pregnancies       0\n",
      "Plasma_Glucose    0\n",
      "Dia_BP            0\n",
      "Tri_skin_mm       0\n",
      "Serum_insulin     0\n",
      "BMI               0\n",
      "Dia_pedi_funct    0\n",
      "Age               0\n",
      "Class             0\n",
      "dtype: int64\n"
     ]
    }
   ],
   "source": [
    "print(Pima2.isnull().sum())"
   ]
  },
  {
   "cell_type": "markdown",
   "metadata": {},
   "source": [
    "### Correlation and Covarience Estimations: \n",
    "#### Here I use the data set where missing data has been removed from data set since it real data"
   ]
  },
  {
   "cell_type": "code",
   "execution_count": 18,
   "metadata": {},
   "outputs": [
    {
     "name": "stdout",
     "output_type": "stream",
     "text": [
      "                Patient_num  Pregnancies  Plasma_Glucose    Dia_BP  \\\n",
      "Patient_num        1.000000    -0.064022       -0.016466  0.049713   \n",
      "Pregnancies       -0.064022     1.000000        0.198291  0.213355   \n",
      "Plasma_Glucose    -0.016466     0.198291        1.000000  0.210027   \n",
      "Dia_BP             0.049713     0.213355        0.210027  1.000000   \n",
      "Tri_skin_mm        0.005973     0.093209        0.198856  0.232571   \n",
      "Serum_insulin     -0.017399     0.078984        0.581223  0.098512   \n",
      "BMI                0.005397    -0.025347        0.209516  0.304403   \n",
      "Dia_pedi_funct    -0.018185     0.007562        0.140180 -0.015971   \n",
      "Age               -0.044682     0.679608        0.343641  0.300039   \n",
      "Class             -0.084278     0.256566        0.515703  0.192673   \n",
      "\n",
      "                Tri_skin_mm  Serum_insulin       BMI  Dia_pedi_funct  \\\n",
      "Patient_num        0.005973      -0.017399  0.005397       -0.018185   \n",
      "Pregnancies        0.093209       0.078984 -0.025347        0.007562   \n",
      "Plasma_Glucose     0.198856       0.581223  0.209516        0.140180   \n",
      "Dia_BP             0.232571       0.098512  0.304403       -0.015971   \n",
      "Tri_skin_mm        1.000000       0.182199  0.664355        0.160499   \n",
      "Serum_insulin      0.182199       1.000000  0.226397        0.135906   \n",
      "BMI                0.664355       0.226397  1.000000        0.158771   \n",
      "Dia_pedi_funct     0.160499       0.135906  0.158771        1.000000   \n",
      "Age                0.167761       0.217082  0.069814        0.085029   \n",
      "Class              0.255936       0.301429  0.270118        0.209330   \n",
      "\n",
      "                     Age     Class  \n",
      "Patient_num    -0.044682 -0.084278  \n",
      "Pregnancies     0.679608  0.256566  \n",
      "Plasma_Glucose  0.343641  0.515703  \n",
      "Dia_BP          0.300039  0.192673  \n",
      "Tri_skin_mm     0.167761  0.255936  \n",
      "Serum_insulin   0.217082  0.301429  \n",
      "BMI             0.069814  0.270118  \n",
      "Dia_pedi_funct  0.085029  0.209330  \n",
      "Age             1.000000  0.350804  \n",
      "Class           0.350804  1.000000  \n"
     ]
    }
   ],
   "source": [
    "# Looking at Correlation using basic correlation matrix using pandas:\n",
    "corrMat = Pima1.corr()\n",
    "print(corrMat)"
   ]
  },
  {
   "cell_type": "code",
   "execution_count": 19,
   "metadata": {},
   "outputs": [
    {
     "data": {
      "text/plain": [
       "<matplotlib.axes._subplots.AxesSubplot at 0x258d88b44a8>"
      ]
     },
     "execution_count": 19,
     "metadata": {},
     "output_type": "execute_result"
    },
    {
     "data": {
      "image/png": "[encoded data removed]",
      "text/plain": [
       "<Figure size 432x288 with 2 Axes>"
      ]
     },
     "metadata": {
      "needs_background": "light"
     },
     "output_type": "display_data"
    }
   ],
   "source": [
    "# Correlation Heat map\n",
    "sns.heatmap(corrMat)"
   ]
  },
  {
   "cell_type": "code",
   "execution_count": 20,
   "metadata": {},
   "outputs": [
    {
     "data": {
      "text/plain": [
       "<matplotlib.axes._subplots.AxesSubplot at 0x258d8a1bac8>"
      ]
     },
     "execution_count": 20,
     "metadata": {},
     "output_type": "execute_result"
    },
    {
     "data": {
      "image/png": "[encoded data removed]",
      "text/plain": [
       "<Figure size 864x432 with 2 Axes>"
      ]
     },
     "metadata": {
      "needs_background": "light"
     },
     "output_type": "display_data"
    }
   ],
   "source": [
    "# Correlation heat map\n",
    "plt.figure(figsize = (12,6))\n",
    "sns.heatmap(corrMat, annot = True,)"
   ]
  },
  {
   "cell_type": "code",
   "execution_count": 21,
   "metadata": {},
   "outputs": [
    {
     "name": "stdout",
     "output_type": "stream",
     "text": [
      "                 Patient_num  Pregnancies  Plasma_Glucose      Dia_BP  \\\n",
      "Patient_num     46663.109655   -44.413135     -109.767172  134.193825   \n",
      "Pregnancies       -44.413135    10.313247       19.652043    8.561981   \n",
      "Plasma_Glucose   -109.767172    19.652043      952.387781   80.994467   \n",
      "Dia_BP            134.193825     8.561981       80.994467  156.152304   \n",
      "Tri_skin_mm        13.570104     3.147933       64.537672   30.563156   \n",
      "Serum_insulin    -446.654640    30.144188     2131.662900  146.295162   \n",
      "BMI                 8.192793    -0.572058       45.439613   26.732178   \n",
      "Dia_pedi_funct     -1.357158     0.008390        1.494605   -0.068951   \n",
      "Age               -98.458486    22.263310      108.179694   38.245916   \n",
      "Class              -8.582115     0.388408        7.502349    1.134976   \n",
      "\n",
      "                Tri_skin_mm  Serum_insulin         BMI  Dia_pedi_funct  \\\n",
      "Patient_num       13.570104    -446.654640    8.192793       -1.357158   \n",
      "Pregnancies        3.147933      30.144188   -0.572058        0.008390   \n",
      "Plasma_Glucose    64.537672    2131.662900   45.439613        1.494605   \n",
      "Dia_BP            30.563156     146.295162   26.732178       -0.068951   \n",
      "Tri_skin_mm      110.595171     227.710489   49.099706        0.583139   \n",
      "Serum_insulin    227.710489   14123.347226  189.081594        5.580072   \n",
      "BMI               49.099706     189.081594   49.387994        0.385492   \n",
      "Dia_pedi_funct     0.583139       5.580072    0.385492        0.119362   \n",
      "Age               17.996692     263.163618    5.004782        0.299664   \n",
      "Class              1.268790      16.886711    0.894861        0.034092   \n",
      "\n",
      "                       Age      Class  \n",
      "Patient_num     -98.458486  -8.582115  \n",
      "Pregnancies      22.263310   0.388408  \n",
      "Plasma_Glucose  108.179694   7.502349  \n",
      "Dia_BP           38.245916   1.134976  \n",
      "Tri_skin_mm      17.996692   1.268790  \n",
      "Serum_insulin   263.163618  16.886711  \n",
      "BMI               5.004782   0.894861  \n",
      "Dia_pedi_funct    0.299664   0.034092  \n",
      "Age             104.055842   1.686896  \n",
      "Class             1.686896   0.222219  \n"
     ]
    }
   ],
   "source": [
    "# using covariance to study how changes in one varialbe are associated with changes in a \n",
    "# second variable.\n",
    "# Calculating covariance\n",
    "covMat = Pima1.cov()\n",
    "print (covMat)"
   ]
  },
  {
   "cell_type": "code",
   "execution_count": 22,
   "metadata": {},
   "outputs": [
    {
     "data": {
      "text/plain": [
       "<matplotlib.axes._subplots.AxesSubplot at 0x258d8d536a0>"
      ]
     },
     "execution_count": 22,
     "metadata": {},
     "output_type": "execute_result"
    },
    {
     "data": {
      "image/png": "[encoded data removed]",
      "text/plain": [
       "<Figure size 432x288 with 2 Axes>"
      ]
     },
     "metadata": {
      "needs_background": "light"
     },
     "output_type": "display_data"
    }
   ],
   "source": [
    "# Covariance heat map\n",
    "sns.heatmap(covMat)"
   ]
  },
  {
   "cell_type": "code",
   "execution_count": 23,
   "metadata": {},
   "outputs": [
    {
     "data": {
      "text/plain": [
       "<matplotlib.axes._subplots.AxesSubplot at 0x258d8b93e48>"
      ]
     },
     "execution_count": 23,
     "metadata": {},
     "output_type": "execute_result"
    },
    {
     "data": {
      "image/png": "[encoded data removed]",
      "text/plain": [
       "<Figure size 720x432 with 2 Axes>"
      ]
     },
     "metadata": {
      "needs_background": "light"
     },
     "output_type": "display_data"
    }
   ],
   "source": [
    "# covariance heat map2\n",
    "plt.figure(figsize = (10,6))\n",
    "sns.heatmap(covMat, annot = False, cmap = 'viridis')"
   ]
  },
  {
   "cell_type": "markdown",
   "metadata": {},
   "source": [
    "### Exploratory Data Analysis For Pima1 patient group"
   ]
  },
  {
   "cell_type": "markdown",
   "metadata": {},
   "source": [
    "#### Look at the class the patients were classified into:"
   ]
  },
  {
   "cell_type": "code",
   "execution_count": 24,
   "metadata": {},
   "outputs": [
    {
     "data": {
      "text/plain": [
       "Class\n",
       "0    262\n",
       "1    130\n",
       "Name: Class, dtype: int64"
      ]
     },
     "execution_count": 24,
     "metadata": {},
     "output_type": "execute_result"
    }
   ],
   "source": [
    "# Determine the number of patients in each class level (0 = no diabetes, 1 = yes diabetes)\n",
    "Pima1.groupby('Class')['Class'].count()"
   ]
  },
  {
   "cell_type": "code",
   "execution_count": 25,
   "metadata": {},
   "outputs": [
    {
     "data": {
      "text/plain": [
       "<seaborn.axisgrid.FacetGrid at 0x258d88f5eb8>"
      ]
     },
     "execution_count": 25,
     "metadata": {},
     "output_type": "execute_result"
    },
    {
     "data": {
      "image/png": "[encoded data removed]",
      "text/plain": [
       "<Figure size 540x360 with 1 Axes>"
      ]
     },
     "metadata": {
      "needs_background": "light"
     },
     "output_type": "display_data"
    }
   ],
   "source": [
    "# Use seaborn to plot the patient count in each class ( 0= no diabetes, 1= diabetes)\n",
    "fg1=sns.catplot('Class', data=Pima1, kind='count', aspect=1.5)\n",
    "fg1.set_xlabels('Class')\n",
    "fg1.set_ylabels('Number of Patients')"
   ]
  },
  {
   "cell_type": "markdown",
   "metadata": {},
   "source": [
    "#### Figure 1. Number of patients classified into category: 0 nondiabetic and 1 diabetic based on the results of the 2 hour glucose test."
   ]
  },
  {
   "cell_type": "markdown",
   "metadata": {},
   "source": [
    "#### Look at patient age:"
   ]
  },
  {
   "cell_type": "code",
   "execution_count": 26,
   "metadata": {},
   "outputs": [
    {
     "name": "stdout",
     "output_type": "stream",
     "text": [
      "The average and median age of patients are 31 and 27 years old, respectively.\n"
     ]
    }
   ],
   "source": [
    "print('The average and median age of patients are %0.f and %0.f years old, respectively.'%(Pima1.Age.mean(),Pima1.Age.median()))"
   ]
  },
  {
   "cell_type": "code",
   "execution_count": 27,
   "metadata": {},
   "outputs": [
    {
     "data": {
      "text/plain": [
       "count    392.000000\n",
       "mean      30.864796\n",
       "std       10.200777\n",
       "min       21.000000\n",
       "25%       23.000000\n",
       "50%       27.000000\n",
       "75%       36.000000\n",
       "max       81.000000\n",
       "Name: Age, dtype: float64"
      ]
     },
     "execution_count": 27,
     "metadata": {},
     "output_type": "execute_result"
    }
   ],
   "source": [
    "# obtain descriptive statistics for the patients Age\n",
    "Pima1.Age.describe()"
   ]
  },
  {
   "cell_type": "code",
   "execution_count": 28,
   "metadata": {},
   "outputs": [
    {
     "data": {
      "text/plain": [
       "Text(0.5, 1.0, 'Distribution of Patient Age')"
      ]
     },
     "execution_count": 28,
     "metadata": {},
     "output_type": "execute_result"
    },
    {
     "data": {
      "image/png": "[encoded data removed]",
      "text/plain": [
       "<Figure size 432x288 with 1 Axes>"
      ]
     },
     "metadata": {
      "needs_background": "light"
     },
     "output_type": "display_data"
    }
   ],
   "source": [
    "# plot the age distribution with an overlay of density plot\n",
    "age=Pima1['Age']\n",
    "age_dist = sns.distplot(age)\n",
    "age_dist.set_title(\"Distribution of Patient Age\")"
   ]
  },
  {
   "cell_type": "markdown",
   "metadata": {},
   "source": [
    "#### Figure 2. Patient Age distribution with an ovelay density plot. the density plot shows where the highest number of patients are based on age."
   ]
  },
  {
   "cell_type": "code",
   "execution_count": 29,
   "metadata": {},
   "outputs": [
    {
     "data": {
      "text/plain": [
       "<matplotlib.axes._subplots.AxesSubplot at 0x258d9110d30>"
      ]
     },
     "execution_count": 29,
     "metadata": {},
     "output_type": "execute_result"
    },
    {
     "data": {
      "image/png": "[encoded data removed]",
      "text/plain": [
       "<Figure size 432x288 with 1 Axes>"
      ]
     },
     "metadata": {
      "needs_background": "light"
     },
     "output_type": "display_data"
    }
   ],
   "source": [
    "#plot the distribution of age using histogram\n",
    "Pima1['Age'].hist(bins=12)"
   ]
  },
  {
   "cell_type": "markdown",
   "metadata": {},
   "source": [
    "#### Figure 3. Is a simple age distribution plot with the ages devided into 12 major groups."
   ]
  },
  {
   "cell_type": "code",
   "execution_count": 30,
   "metadata": {},
   "outputs": [
    {
     "data": {
      "image/png": "[encoded data removed]",
      "text/plain": [
       "<Figure size 432x288 with 1 Axes>"
      ]
     },
     "metadata": {
      "needs_background": "light"
     },
     "output_type": "display_data"
    }
   ],
   "source": [
    "# plot the distribution of age using matplotlib.pyplot\n",
    "plt.hist(Pima1['Age'],bins=12)\n",
    "plt.title(\"Patient Age Distribution\")\n",
    "plt.xlabel(\"AGE\")\n",
    "plt.ylabel(\" Number of Patients\")\n",
    "plt.show()"
   ]
  },
  {
   "cell_type": "markdown",
   "metadata": {},
   "source": [
    "#### Figure 4. Is a simple age distrbution plot with the ages deved into 12 major groups. This plot include title, and axis labels."
   ]
  },
  {
   "cell_type": "code",
   "execution_count": 31,
   "metadata": {},
   "outputs": [],
   "source": [
    "#create a function to define patients by age group (< 35, > 35 but <  50, & >50.)\n",
    "def middle_older_young(patient):\n",
    "    Age = patient\n",
    "    if Age < 35 :return 'young'\n",
    "    if 35 < Age < 50 :return 'middle'\n",
    "    if Age > 50 : return 'older'"
   ]
  },
  {
   "cell_type": "code",
   "execution_count": 32,
   "metadata": {},
   "outputs": [
    {
     "name": "stderr",
     "output_type": "stream",
     "text": [
      "C:\\Users\\Alberto\\Anaconda3\\lib\\site-packages\\ipykernel_launcher.py:2: SettingWithCopyWarning: \n",
      "A value is trying to be set on a copy of a slice from a DataFrame.\n",
      "Try using .loc[row_indexer,col_indexer] = value instead\n",
      "\n",
      "See the caveats in the documentation: http://pandas.pydata.org/pandas-docs/stable/indexing.html#indexing-view-versus-copy\n",
      "  \n"
     ]
    }
   ],
   "source": [
    "# add a column to Pima1 describing 'Age Group'\n",
    "Pima1['Age_Group']=Pima1['Age'].apply(middle_older_young)"
   ]
  },
  {
   "cell_type": "code",
   "execution_count": 33,
   "metadata": {},
   "outputs": [
    {
     "data": {
      "text/html": [
       "<div>\n",
       "<style scoped>\n",
       "    .dataframe tbody tr th:only-of-type {\n",
       "        vertical-align: middle;\n",
       "    }\n",
       "\n",
       "    .dataframe tbody tr th {\n",
       "        vertical-align: top;\n",
       "    }\n",
       "\n",
       "    .dataframe thead th {\n",
       "        text-align: right;\n",
       "    }\n",
       "</style>\n",
       "<table border=\"1\" class=\"dataframe\">\n",
       "  <thead>\n",
       "    <tr style=\"text-align: right;\">\n",
       "      <th></th>\n",
       "      <th>Patient_num</th>\n",
       "      <th>Pregnancies</th>\n",
       "      <th>Plasma_Glucose</th>\n",
       "      <th>Dia_BP</th>\n",
       "      <th>Tri_skin_mm</th>\n",
       "      <th>Serum_insulin</th>\n",
       "      <th>BMI</th>\n",
       "      <th>Dia_pedi_funct</th>\n",
       "      <th>Age</th>\n",
       "      <th>Class</th>\n",
       "      <th>Age_Group</th>\n",
       "    </tr>\n",
       "  </thead>\n",
       "  <tbody>\n",
       "    <tr>\n",
       "      <th>3</th>\n",
       "      <td>4</td>\n",
       "      <td>1</td>\n",
       "      <td>89.0</td>\n",
       "      <td>66.0</td>\n",
       "      <td>23.0</td>\n",
       "      <td>94.0</td>\n",
       "      <td>28.1</td>\n",
       "      <td>0.167</td>\n",
       "      <td>21</td>\n",
       "      <td>0</td>\n",
       "      <td>young</td>\n",
       "    </tr>\n",
       "    <tr>\n",
       "      <th>4</th>\n",
       "      <td>5</td>\n",
       "      <td>0</td>\n",
       "      <td>137.0</td>\n",
       "      <td>40.0</td>\n",
       "      <td>35.0</td>\n",
       "      <td>168.0</td>\n",
       "      <td>43.1</td>\n",
       "      <td>2.288</td>\n",
       "      <td>33</td>\n",
       "      <td>1</td>\n",
       "      <td>young</td>\n",
       "    </tr>\n",
       "    <tr>\n",
       "      <th>6</th>\n",
       "      <td>7</td>\n",
       "      <td>3</td>\n",
       "      <td>78.0</td>\n",
       "      <td>50.0</td>\n",
       "      <td>32.0</td>\n",
       "      <td>88.0</td>\n",
       "      <td>31.0</td>\n",
       "      <td>0.248</td>\n",
       "      <td>26</td>\n",
       "      <td>1</td>\n",
       "      <td>young</td>\n",
       "    </tr>\n",
       "    <tr>\n",
       "      <th>8</th>\n",
       "      <td>9</td>\n",
       "      <td>2</td>\n",
       "      <td>197.0</td>\n",
       "      <td>70.0</td>\n",
       "      <td>45.0</td>\n",
       "      <td>543.0</td>\n",
       "      <td>30.5</td>\n",
       "      <td>0.158</td>\n",
       "      <td>53</td>\n",
       "      <td>1</td>\n",
       "      <td>older</td>\n",
       "    </tr>\n",
       "    <tr>\n",
       "      <th>13</th>\n",
       "      <td>14</td>\n",
       "      <td>1</td>\n",
       "      <td>189.0</td>\n",
       "      <td>60.0</td>\n",
       "      <td>23.0</td>\n",
       "      <td>846.0</td>\n",
       "      <td>30.1</td>\n",
       "      <td>0.398</td>\n",
       "      <td>59</td>\n",
       "      <td>1</td>\n",
       "      <td>older</td>\n",
       "    </tr>\n",
       "    <tr>\n",
       "      <th>14</th>\n",
       "      <td>15</td>\n",
       "      <td>5</td>\n",
       "      <td>166.0</td>\n",
       "      <td>72.0</td>\n",
       "      <td>19.0</td>\n",
       "      <td>175.0</td>\n",
       "      <td>25.8</td>\n",
       "      <td>0.587</td>\n",
       "      <td>51</td>\n",
       "      <td>1</td>\n",
       "      <td>older</td>\n",
       "    </tr>\n",
       "    <tr>\n",
       "      <th>16</th>\n",
       "      <td>17</td>\n",
       "      <td>0</td>\n",
       "      <td>118.0</td>\n",
       "      <td>84.0</td>\n",
       "      <td>47.0</td>\n",
       "      <td>230.0</td>\n",
       "      <td>45.8</td>\n",
       "      <td>0.551</td>\n",
       "      <td>31</td>\n",
       "      <td>1</td>\n",
       "      <td>young</td>\n",
       "    </tr>\n",
       "    <tr>\n",
       "      <th>18</th>\n",
       "      <td>19</td>\n",
       "      <td>1</td>\n",
       "      <td>103.0</td>\n",
       "      <td>30.0</td>\n",
       "      <td>38.0</td>\n",
       "      <td>83.0</td>\n",
       "      <td>43.3</td>\n",
       "      <td>0.183</td>\n",
       "      <td>33</td>\n",
       "      <td>0</td>\n",
       "      <td>young</td>\n",
       "    </tr>\n",
       "    <tr>\n",
       "      <th>19</th>\n",
       "      <td>20</td>\n",
       "      <td>1</td>\n",
       "      <td>115.0</td>\n",
       "      <td>70.0</td>\n",
       "      <td>30.0</td>\n",
       "      <td>96.0</td>\n",
       "      <td>34.6</td>\n",
       "      <td>0.529</td>\n",
       "      <td>32</td>\n",
       "      <td>1</td>\n",
       "      <td>young</td>\n",
       "    </tr>\n",
       "    <tr>\n",
       "      <th>20</th>\n",
       "      <td>21</td>\n",
       "      <td>3</td>\n",
       "      <td>126.0</td>\n",
       "      <td>88.0</td>\n",
       "      <td>41.0</td>\n",
       "      <td>235.0</td>\n",
       "      <td>39.3</td>\n",
       "      <td>0.704</td>\n",
       "      <td>27</td>\n",
       "      <td>0</td>\n",
       "      <td>young</td>\n",
       "    </tr>\n",
       "    <tr>\n",
       "      <th>24</th>\n",
       "      <td>25</td>\n",
       "      <td>11</td>\n",
       "      <td>143.0</td>\n",
       "      <td>94.0</td>\n",
       "      <td>33.0</td>\n",
       "      <td>146.0</td>\n",
       "      <td>36.6</td>\n",
       "      <td>0.254</td>\n",
       "      <td>51</td>\n",
       "      <td>1</td>\n",
       "      <td>older</td>\n",
       "    </tr>\n",
       "    <tr>\n",
       "      <th>25</th>\n",
       "      <td>26</td>\n",
       "      <td>10</td>\n",
       "      <td>125.0</td>\n",
       "      <td>70.0</td>\n",
       "      <td>26.0</td>\n",
       "      <td>115.0</td>\n",
       "      <td>31.1</td>\n",
       "      <td>0.205</td>\n",
       "      <td>41</td>\n",
       "      <td>1</td>\n",
       "      <td>middle</td>\n",
       "    </tr>\n",
       "    <tr>\n",
       "      <th>27</th>\n",
       "      <td>28</td>\n",
       "      <td>1</td>\n",
       "      <td>97.0</td>\n",
       "      <td>66.0</td>\n",
       "      <td>15.0</td>\n",
       "      <td>140.0</td>\n",
       "      <td>23.2</td>\n",
       "      <td>0.487</td>\n",
       "      <td>22</td>\n",
       "      <td>0</td>\n",
       "      <td>young</td>\n",
       "    </tr>\n",
       "    <tr>\n",
       "      <th>28</th>\n",
       "      <td>29</td>\n",
       "      <td>13</td>\n",
       "      <td>145.0</td>\n",
       "      <td>82.0</td>\n",
       "      <td>19.0</td>\n",
       "      <td>110.0</td>\n",
       "      <td>22.2</td>\n",
       "      <td>0.245</td>\n",
       "      <td>57</td>\n",
       "      <td>0</td>\n",
       "      <td>older</td>\n",
       "    </tr>\n",
       "    <tr>\n",
       "      <th>31</th>\n",
       "      <td>32</td>\n",
       "      <td>3</td>\n",
       "      <td>158.0</td>\n",
       "      <td>76.0</td>\n",
       "      <td>36.0</td>\n",
       "      <td>245.0</td>\n",
       "      <td>31.6</td>\n",
       "      <td>0.851</td>\n",
       "      <td>28</td>\n",
       "      <td>1</td>\n",
       "      <td>young</td>\n",
       "    </tr>\n",
       "    <tr>\n",
       "      <th>32</th>\n",
       "      <td>33</td>\n",
       "      <td>3</td>\n",
       "      <td>88.0</td>\n",
       "      <td>58.0</td>\n",
       "      <td>11.0</td>\n",
       "      <td>54.0</td>\n",
       "      <td>24.8</td>\n",
       "      <td>0.267</td>\n",
       "      <td>22</td>\n",
       "      <td>0</td>\n",
       "      <td>young</td>\n",
       "    </tr>\n",
       "    <tr>\n",
       "      <th>35</th>\n",
       "      <td>36</td>\n",
       "      <td>4</td>\n",
       "      <td>103.0</td>\n",
       "      <td>60.0</td>\n",
       "      <td>33.0</td>\n",
       "      <td>192.0</td>\n",
       "      <td>24.0</td>\n",
       "      <td>0.966</td>\n",
       "      <td>33</td>\n",
       "      <td>0</td>\n",
       "      <td>young</td>\n",
       "    </tr>\n",
       "    <tr>\n",
       "      <th>39</th>\n",
       "      <td>40</td>\n",
       "      <td>4</td>\n",
       "      <td>111.0</td>\n",
       "      <td>72.0</td>\n",
       "      <td>47.0</td>\n",
       "      <td>207.0</td>\n",
       "      <td>37.1</td>\n",
       "      <td>1.390</td>\n",
       "      <td>56</td>\n",
       "      <td>1</td>\n",
       "      <td>older</td>\n",
       "    </tr>\n",
       "    <tr>\n",
       "      <th>40</th>\n",
       "      <td>41</td>\n",
       "      <td>3</td>\n",
       "      <td>180.0</td>\n",
       "      <td>64.0</td>\n",
       "      <td>25.0</td>\n",
       "      <td>70.0</td>\n",
       "      <td>34.0</td>\n",
       "      <td>0.271</td>\n",
       "      <td>26</td>\n",
       "      <td>0</td>\n",
       "      <td>young</td>\n",
       "    </tr>\n",
       "    <tr>\n",
       "      <th>43</th>\n",
       "      <td>44</td>\n",
       "      <td>9</td>\n",
       "      <td>171.0</td>\n",
       "      <td>110.0</td>\n",
       "      <td>24.0</td>\n",
       "      <td>240.0</td>\n",
       "      <td>45.4</td>\n",
       "      <td>0.721</td>\n",
       "      <td>54</td>\n",
       "      <td>1</td>\n",
       "      <td>older</td>\n",
       "    </tr>\n",
       "  </tbody>\n",
       "</table>\n",
       "</div>"
      ],
      "text/plain": [
       "    Patient_num  Pregnancies  Plasma_Glucose  Dia_BP  Tri_skin_mm  \\\n",
       "3             4            1            89.0    66.0         23.0   \n",
       "4             5            0           137.0    40.0         35.0   \n",
       "6             7            3            78.0    50.0         32.0   \n",
       "8             9            2           197.0    70.0         45.0   \n",
       "13           14            1           189.0    60.0         23.0   \n",
       "14           15            5           166.0    72.0         19.0   \n",
       "16           17            0           118.0    84.0         47.0   \n",
       "18           19            1           103.0    30.0         38.0   \n",
       "19           20            1           115.0    70.0         30.0   \n",
       "20           21            3           126.0    88.0         41.0   \n",
       "24           25           11           143.0    94.0         33.0   \n",
       "25           26           10           125.0    70.0         26.0   \n",
       "27           28            1            97.0    66.0         15.0   \n",
       "28           29           13           145.0    82.0         19.0   \n",
       "31           32            3           158.0    76.0         36.0   \n",
       "32           33            3            88.0    58.0         11.0   \n",
       "35           36            4           103.0    60.0         33.0   \n",
       "39           40            4           111.0    72.0         47.0   \n",
       "40           41            3           180.0    64.0         25.0   \n",
       "43           44            9           171.0   110.0         24.0   \n",
       "\n",
       "    Serum_insulin   BMI  Dia_pedi_funct  Age  Class Age_Group  \n",
       "3            94.0  28.1           0.167   21      0     young  \n",
       "4           168.0  43.1           2.288   33      1     young  \n",
       "6            88.0  31.0           0.248   26      1     young  \n",
       "8           543.0  30.5           0.158   53      1     older  \n",
       "13          846.0  30.1           0.398   59      1     older  \n",
       "14          175.0  25.8           0.587   51      1     older  \n",
       "16          230.0  45.8           0.551   31      1     young  \n",
       "18           83.0  43.3           0.183   33      0     young  \n",
       "19           96.0  34.6           0.529   32      1     young  \n",
       "20          235.0  39.3           0.704   27      0     young  \n",
       "24          146.0  36.6           0.254   51      1     older  \n",
       "25          115.0  31.1           0.205   41      1    middle  \n",
       "27          140.0  23.2           0.487   22      0     young  \n",
       "28          110.0  22.2           0.245   57      0     older  \n",
       "31          245.0  31.6           0.851   28      1     young  \n",
       "32           54.0  24.8           0.267   22      0     young  \n",
       "35          192.0  24.0           0.966   33      0     young  \n",
       "39          207.0  37.1           1.390   56      1     older  \n",
       "40           70.0  34.0           0.271   26      0     young  \n",
       "43          240.0  45.4           0.721   54      1     older  "
      ]
     },
     "execution_count": 33,
     "metadata": {},
     "output_type": "execute_result"
    }
   ],
   "source": [
    "Pima1.head(20)"
   ]
  },
  {
   "cell_type": "code",
   "execution_count": 34,
   "metadata": {},
   "outputs": [
    {
     "data": {
      "text/plain": [
       "<seaborn.axisgrid.FacetGrid at 0x258d9132908>"
      ]
     },
     "execution_count": 34,
     "metadata": {},
     "output_type": "execute_result"
    },
    {
     "data": {
      "image/png": "[encoded data removed]",
      "text/plain": [
       "<Figure size 610.25x360 with 1 Axes>"
      ]
     },
     "metadata": {
      "needs_background": "light"
     },
     "output_type": "display_data"
    }
   ],
   "source": [
    "#create catplot for patients splitt into age_group,and Class (0 = nondiabetic, 1 = diabetic)\n",
    "sns.catplot('Class',data = Pima1, kind='count', hue='Age_Group', order=[0,1], hue_order = ['young', 'middle','older'],aspect=1.5)\n"
   ]
  },
  {
   "cell_type": "markdown",
   "metadata": {},
   "source": [
    "#### Figure 5. Chart describing the patients Age group by Class category. 0=nondiabetic, 1= diabetic"
   ]
  },
  {
   "cell_type": "code",
   "execution_count": 35,
   "metadata": {},
   "outputs": [
    {
     "data": {
      "text/plain": [
       "young     285\n",
       "middle     71\n",
       "older      28\n",
       "Name: Age_Group, dtype: int64"
      ]
     },
     "execution_count": 35,
     "metadata": {},
     "output_type": "execute_result"
    }
   ],
   "source": [
    "#Determine the number of young, middle,and older patients\n",
    "Pima1['Age_Group'].value_counts()"
   ]
  },
  {
   "cell_type": "code",
   "execution_count": 36,
   "metadata": {},
   "outputs": [],
   "source": [
    "#create a function to define patients by BMI Class (< 18, > 18 but <  25, >25 but < 30, > 30 but < 40,  and >40.)\n",
    "def underweight_healthy_overweight_obese_exobese(patient):\n",
    "    BMI = patient\n",
    "    if BMI < 18 :return 'underweight'\n",
    "    if 18 < BMI < 25:return 'healthy'\n",
    "    if 24 < BMI < 29: return 'overweight'\n",
    "    if 29 < BMI < 39: return 'obese'\n",
    "    if BMI > 39 :return 'exobese'\n",
    "        "
   ]
  },
  {
   "cell_type": "code",
   "execution_count": 37,
   "metadata": {},
   "outputs": [
    {
     "name": "stderr",
     "output_type": "stream",
     "text": [
      "C:\\Users\\Alberto\\Anaconda3\\lib\\site-packages\\ipykernel_launcher.py:2: SettingWithCopyWarning: \n",
      "A value is trying to be set on a copy of a slice from a DataFrame.\n",
      "Try using .loc[row_indexer,col_indexer] = value instead\n",
      "\n",
      "See the caveats in the documentation: http://pandas.pydata.org/pandas-docs/stable/indexing.html#indexing-view-versus-copy\n",
      "  \n"
     ]
    }
   ],
   "source": [
    "# add a column to Pima1 describing 'BMI_scale'\n",
    "Pima1['BMI_scale']=Pima1['BMI'].apply(underweight_healthy_overweight_obese_exobese)"
   ]
  },
  {
   "cell_type": "code",
   "execution_count": 38,
   "metadata": {},
   "outputs": [
    {
     "data": {
      "text/html": [
       "<div>\n",
       "<style scoped>\n",
       "    .dataframe tbody tr th:only-of-type {\n",
       "        vertical-align: middle;\n",
       "    }\n",
       "\n",
       "    .dataframe tbody tr th {\n",
       "        vertical-align: top;\n",
       "    }\n",
       "\n",
       "    .dataframe thead th {\n",
       "        text-align: right;\n",
       "    }\n",
       "</style>\n",
       "<table border=\"1\" class=\"dataframe\">\n",
       "  <thead>\n",
       "    <tr style=\"text-align: right;\">\n",
       "      <th></th>\n",
       "      <th>Patient_num</th>\n",
       "      <th>Pregnancies</th>\n",
       "      <th>Plasma_Glucose</th>\n",
       "      <th>Dia_BP</th>\n",
       "      <th>Tri_skin_mm</th>\n",
       "      <th>Serum_insulin</th>\n",
       "      <th>BMI</th>\n",
       "      <th>Dia_pedi_funct</th>\n",
       "      <th>Age</th>\n",
       "      <th>Class</th>\n",
       "      <th>Age_Group</th>\n",
       "      <th>BMI_scale</th>\n",
       "    </tr>\n",
       "  </thead>\n",
       "  <tbody>\n",
       "    <tr>\n",
       "      <th>3</th>\n",
       "      <td>4</td>\n",
       "      <td>1</td>\n",
       "      <td>89.0</td>\n",
       "      <td>66.0</td>\n",
       "      <td>23.0</td>\n",
       "      <td>94.0</td>\n",
       "      <td>28.1</td>\n",
       "      <td>0.167</td>\n",
       "      <td>21</td>\n",
       "      <td>0</td>\n",
       "      <td>young</td>\n",
       "      <td>overweight</td>\n",
       "    </tr>\n",
       "    <tr>\n",
       "      <th>4</th>\n",
       "      <td>5</td>\n",
       "      <td>0</td>\n",
       "      <td>137.0</td>\n",
       "      <td>40.0</td>\n",
       "      <td>35.0</td>\n",
       "      <td>168.0</td>\n",
       "      <td>43.1</td>\n",
       "      <td>2.288</td>\n",
       "      <td>33</td>\n",
       "      <td>1</td>\n",
       "      <td>young</td>\n",
       "      <td>exobese</td>\n",
       "    </tr>\n",
       "    <tr>\n",
       "      <th>6</th>\n",
       "      <td>7</td>\n",
       "      <td>3</td>\n",
       "      <td>78.0</td>\n",
       "      <td>50.0</td>\n",
       "      <td>32.0</td>\n",
       "      <td>88.0</td>\n",
       "      <td>31.0</td>\n",
       "      <td>0.248</td>\n",
       "      <td>26</td>\n",
       "      <td>1</td>\n",
       "      <td>young</td>\n",
       "      <td>obese</td>\n",
       "    </tr>\n",
       "    <tr>\n",
       "      <th>8</th>\n",
       "      <td>9</td>\n",
       "      <td>2</td>\n",
       "      <td>197.0</td>\n",
       "      <td>70.0</td>\n",
       "      <td>45.0</td>\n",
       "      <td>543.0</td>\n",
       "      <td>30.5</td>\n",
       "      <td>0.158</td>\n",
       "      <td>53</td>\n",
       "      <td>1</td>\n",
       "      <td>older</td>\n",
       "      <td>obese</td>\n",
       "    </tr>\n",
       "    <tr>\n",
       "      <th>13</th>\n",
       "      <td>14</td>\n",
       "      <td>1</td>\n",
       "      <td>189.0</td>\n",
       "      <td>60.0</td>\n",
       "      <td>23.0</td>\n",
       "      <td>846.0</td>\n",
       "      <td>30.1</td>\n",
       "      <td>0.398</td>\n",
       "      <td>59</td>\n",
       "      <td>1</td>\n",
       "      <td>older</td>\n",
       "      <td>obese</td>\n",
       "    </tr>\n",
       "  </tbody>\n",
       "</table>\n",
       "</div>"
      ],
      "text/plain": [
       "    Patient_num  Pregnancies  Plasma_Glucose  Dia_BP  Tri_skin_mm  \\\n",
       "3             4            1            89.0    66.0         23.0   \n",
       "4             5            0           137.0    40.0         35.0   \n",
       "6             7            3            78.0    50.0         32.0   \n",
       "8             9            2           197.0    70.0         45.0   \n",
       "13           14            1           189.0    60.0         23.0   \n",
       "\n",
       "    Serum_insulin   BMI  Dia_pedi_funct  Age  Class Age_Group   BMI_scale  \n",
       "3            94.0  28.1           0.167   21      0     young  overweight  \n",
       "4           168.0  43.1           2.288   33      1     young     exobese  \n",
       "6            88.0  31.0           0.248   26      1     young       obese  \n",
       "8           543.0  30.5           0.158   53      1     older       obese  \n",
       "13          846.0  30.1           0.398   59      1     older       obese  "
      ]
     },
     "execution_count": 38,
     "metadata": {},
     "output_type": "execute_result"
    }
   ],
   "source": [
    "Pima1.head()"
   ]
  },
  {
   "cell_type": "code",
   "execution_count": 39,
   "metadata": {},
   "outputs": [],
   "source": [
    "#create a function to define patients by diabetic Class (< 1= nondiabetic, >0 = diabetic.)\n",
    "def nondiabetic_diabetic(patient):\n",
    "    Class = patient\n",
    "    if Class < 1 :return 'nondiabetic'\n",
    "    if Class > 0 :return 'diabetic'\n",
    "    "
   ]
  },
  {
   "cell_type": "code",
   "execution_count": 40,
   "metadata": {},
   "outputs": [
    {
     "name": "stderr",
     "output_type": "stream",
     "text": [
      "C:\\Users\\Alberto\\Anaconda3\\lib\\site-packages\\ipykernel_launcher.py:2: SettingWithCopyWarning: \n",
      "A value is trying to be set on a copy of a slice from a DataFrame.\n",
      "Try using .loc[row_indexer,col_indexer] = value instead\n",
      "\n",
      "See the caveats in the documentation: http://pandas.pydata.org/pandas-docs/stable/indexing.html#indexing-view-versus-copy\n",
      "  \n"
     ]
    }
   ],
   "source": [
    "# add a column to Pima1 describing 'diagnosis'\n",
    "Pima1['Diagnosis']=Pima1['Class'].apply(nondiabetic_diabetic)"
   ]
  },
  {
   "cell_type": "code",
   "execution_count": 41,
   "metadata": {},
   "outputs": [
    {
     "data": {
      "text/html": [
       "<div>\n",
       "<style scoped>\n",
       "    .dataframe tbody tr th:only-of-type {\n",
       "        vertical-align: middle;\n",
       "    }\n",
       "\n",
       "    .dataframe tbody tr th {\n",
       "        vertical-align: top;\n",
       "    }\n",
       "\n",
       "    .dataframe thead th {\n",
       "        text-align: right;\n",
       "    }\n",
       "</style>\n",
       "<table border=\"1\" class=\"dataframe\">\n",
       "  <thead>\n",
       "    <tr style=\"text-align: right;\">\n",
       "      <th></th>\n",
       "      <th>Patient_num</th>\n",
       "      <th>Pregnancies</th>\n",
       "      <th>Plasma_Glucose</th>\n",
       "      <th>Dia_BP</th>\n",
       "      <th>Tri_skin_mm</th>\n",
       "      <th>Serum_insulin</th>\n",
       "      <th>BMI</th>\n",
       "      <th>Dia_pedi_funct</th>\n",
       "      <th>Age</th>\n",
       "      <th>Class</th>\n",
       "      <th>Age_Group</th>\n",
       "      <th>BMI_scale</th>\n",
       "      <th>Diagnosis</th>\n",
       "    </tr>\n",
       "  </thead>\n",
       "  <tbody>\n",
       "    <tr>\n",
       "      <th>3</th>\n",
       "      <td>4</td>\n",
       "      <td>1</td>\n",
       "      <td>89.0</td>\n",
       "      <td>66.0</td>\n",
       "      <td>23.0</td>\n",
       "      <td>94.0</td>\n",
       "      <td>28.1</td>\n",
       "      <td>0.167</td>\n",
       "      <td>21</td>\n",
       "      <td>0</td>\n",
       "      <td>young</td>\n",
       "      <td>overweight</td>\n",
       "      <td>nondiabetic</td>\n",
       "    </tr>\n",
       "    <tr>\n",
       "      <th>4</th>\n",
       "      <td>5</td>\n",
       "      <td>0</td>\n",
       "      <td>137.0</td>\n",
       "      <td>40.0</td>\n",
       "      <td>35.0</td>\n",
       "      <td>168.0</td>\n",
       "      <td>43.1</td>\n",
       "      <td>2.288</td>\n",
       "      <td>33</td>\n",
       "      <td>1</td>\n",
       "      <td>young</td>\n",
       "      <td>exobese</td>\n",
       "      <td>diabetic</td>\n",
       "    </tr>\n",
       "    <tr>\n",
       "      <th>6</th>\n",
       "      <td>7</td>\n",
       "      <td>3</td>\n",
       "      <td>78.0</td>\n",
       "      <td>50.0</td>\n",
       "      <td>32.0</td>\n",
       "      <td>88.0</td>\n",
       "      <td>31.0</td>\n",
       "      <td>0.248</td>\n",
       "      <td>26</td>\n",
       "      <td>1</td>\n",
       "      <td>young</td>\n",
       "      <td>obese</td>\n",
       "      <td>diabetic</td>\n",
       "    </tr>\n",
       "    <tr>\n",
       "      <th>8</th>\n",
       "      <td>9</td>\n",
       "      <td>2</td>\n",
       "      <td>197.0</td>\n",
       "      <td>70.0</td>\n",
       "      <td>45.0</td>\n",
       "      <td>543.0</td>\n",
       "      <td>30.5</td>\n",
       "      <td>0.158</td>\n",
       "      <td>53</td>\n",
       "      <td>1</td>\n",
       "      <td>older</td>\n",
       "      <td>obese</td>\n",
       "      <td>diabetic</td>\n",
       "    </tr>\n",
       "    <tr>\n",
       "      <th>13</th>\n",
       "      <td>14</td>\n",
       "      <td>1</td>\n",
       "      <td>189.0</td>\n",
       "      <td>60.0</td>\n",
       "      <td>23.0</td>\n",
       "      <td>846.0</td>\n",
       "      <td>30.1</td>\n",
       "      <td>0.398</td>\n",
       "      <td>59</td>\n",
       "      <td>1</td>\n",
       "      <td>older</td>\n",
       "      <td>obese</td>\n",
       "      <td>diabetic</td>\n",
       "    </tr>\n",
       "  </tbody>\n",
       "</table>\n",
       "</div>"
      ],
      "text/plain": [
       "    Patient_num  Pregnancies  Plasma_Glucose  Dia_BP  Tri_skin_mm  \\\n",
       "3             4            1            89.0    66.0         23.0   \n",
       "4             5            0           137.0    40.0         35.0   \n",
       "6             7            3            78.0    50.0         32.0   \n",
       "8             9            2           197.0    70.0         45.0   \n",
       "13           14            1           189.0    60.0         23.0   \n",
       "\n",
       "    Serum_insulin   BMI  Dia_pedi_funct  Age  Class Age_Group   BMI_scale  \\\n",
       "3            94.0  28.1           0.167   21      0     young  overweight   \n",
       "4           168.0  43.1           2.288   33      1     young     exobese   \n",
       "6            88.0  31.0           0.248   26      1     young       obese   \n",
       "8           543.0  30.5           0.158   53      1     older       obese   \n",
       "13          846.0  30.1           0.398   59      1     older       obese   \n",
       "\n",
       "      Diagnosis  \n",
       "3   nondiabetic  \n",
       "4      diabetic  \n",
       "6      diabetic  \n",
       "8      diabetic  \n",
       "13     diabetic  "
      ]
     },
     "execution_count": 41,
     "metadata": {},
     "output_type": "execute_result"
    }
   ],
   "source": [
    "Pima1.head()"
   ]
  },
  {
   "cell_type": "code",
   "execution_count": 42,
   "metadata": {},
   "outputs": [
    {
     "data": {
      "text/plain": [
       "<seaborn.axisgrid.FacetGrid at 0x258d8d57e48>"
      ]
     },
     "execution_count": 42,
     "metadata": {},
     "output_type": "execute_result"
    },
    {
     "data": {
      "image/png": "[encoded data removed]",
      "text/plain": [
       "<Figure size 610.25x360 with 1 Axes>"
      ]
     },
     "metadata": {
      "needs_background": "light"
     },
     "output_type": "display_data"
    }
   ],
   "source": [
    "#create catplot for patients splitt into young,middle, older, and Diagnosis\n",
    "sns.catplot('Diagnosis',data = Pima1, kind='count', hue='Age_Group',  hue_order = ['young', 'middle','older'],aspect=1.5)"
   ]
  },
  {
   "cell_type": "markdown",
   "metadata": {},
   "source": [
    "#### Figure 6. Chart describing the patients Age group by diagnosis based on the  Class category. "
   ]
  },
  {
   "cell_type": "code",
   "execution_count": 43,
   "metadata": {},
   "outputs": [
    {
     "data": {
      "text/plain": [
       "<seaborn.axisgrid.FacetGrid at 0x258d93bb550>"
      ]
     },
     "execution_count": 43,
     "metadata": {},
     "output_type": "execute_result"
    },
    {
     "data": {
      "image/png": "[encoded data removed]",
      "text/plain": [
       "<Figure size 610.25x360 with 1 Axes>"
      ]
     },
     "metadata": {
      "needs_background": "light"
     },
     "output_type": "display_data"
    }
   ],
   "source": [
    "#create catplot for patients splitt into young,middle, older, and BMI_Scale\n",
    "sns.catplot('BMI_scale',data = Pima1, kind='count', hue='Age_Group',order=['underweight','healthy','overweight','obese','exobese'],  hue_order = ['young', 'middle','older'],aspect=1.5)"
   ]
  },
  {
   "cell_type": "markdown",
   "metadata": {},
   "source": [
    "#### Figure 7. Chart describing the patients age group by the BMI Scale. We can see that 1. there are no underweight patients, 2. in all BMI scale categories young patients contain the higest number, followed by middle aged, and older patients respectively."
   ]
  },
  {
   "cell_type": "code",
   "execution_count": 44,
   "metadata": {},
   "outputs": [
    {
     "data": {
      "text/plain": [
       "<seaborn.axisgrid.FacetGrid at 0x258da4b5358>"
      ]
     },
     "execution_count": 44,
     "metadata": {},
     "output_type": "execute_result"
    },
    {
     "data": {
      "image/png": "[encoded data removed]",
      "text/plain": [
       "<Figure size 790.25x360 with 2 Axes>"
      ]
     },
     "metadata": {
      "needs_background": "light"
     },
     "output_type": "display_data"
    }
   ],
   "source": [
    "# split the patients  into nondiabetic or diabetic \n",
    "sns.catplot('BMI_scale', data=Pima1, kind='count', hue = 'Age_Group', col='Diagnosis', order=['underweight','healthy','overweight','obese','exobese'],\n",
    "              hue_order = ['young', 'middle','older'], aspect=1, height=5)"
   ]
  },
  {
   "cell_type": "markdown",
   "metadata": {},
   "source": [
    "#### Figure 8. Two charts, one for each Diagnosis caterog (non diabetes & diabetes). The charts describe the patient population by Age Group and BMI scale based on whether they are diabetic or not."
   ]
  },
  {
   "cell_type": "markdown",
   "metadata": {},
   "source": [
    "### Other factors that may affect the diabetic status of patients\n",
    "#### Look at the number of pregnancies in the patients"
   ]
  },
  {
   "cell_type": "code",
   "execution_count": 45,
   "metadata": {},
   "outputs": [
    {
     "data": {
      "text/plain": [
       "Text(0.5, 1.0, 'Distribution of Patient Pregnancies')"
      ]
     },
     "execution_count": 45,
     "metadata": {},
     "output_type": "execute_result"
    },
    {
     "data": {
      "image/png": "[encoded data removed]",
      "text/plain": [
       "<Figure size 432x288 with 1 Axes>"
      ]
     },
     "metadata": {
      "needs_background": "light"
     },
     "output_type": "display_data"
    }
   ],
   "source": [
    "# plot the age distribution with an overlay of density plot\n",
    "Preg=Pima1['Pregnancies']\n",
    "Preg_dist = sns.distplot(Preg)\n",
    "Preg_dist.set_title(\"Distribution of Patient Pregnancies\")"
   ]
  },
  {
   "cell_type": "code",
   "execution_count": 46,
   "metadata": {},
   "outputs": [
    {
     "data": {
      "image/png": "[encoded data removed]",
      "text/plain": [
       "<Figure size 432x288 with 1 Axes>"
      ]
     },
     "metadata": {
      "needs_background": "light"
     },
     "output_type": "display_data"
    }
   ],
   "source": [
    "# plot the distribution of pregnanacies using matplotlib.pyplot\n",
    "plt.hist(Pima1['Pregnancies'],bins=5)\n",
    "plt.title(\"Patient Pregnancy Distribution\")\n",
    "plt.xlabel(\"# of Pregnancies\")\n",
    "plt.ylabel(\" Number of Patients\")\n",
    "plt.show()"
   ]
  },
  {
   "cell_type": "code",
   "execution_count": 47,
   "metadata": {},
   "outputs": [
    {
     "data": {
      "text/plain": [
       "count    392.000000\n",
       "mean       3.301020\n",
       "std        3.211424\n",
       "min        0.000000\n",
       "25%        1.000000\n",
       "50%        2.000000\n",
       "75%        5.000000\n",
       "max       17.000000\n",
       "Name: Pregnancies, dtype: float64"
      ]
     },
     "execution_count": 47,
     "metadata": {},
     "output_type": "execute_result"
    }
   ],
   "source": [
    "# Obtain descriptive statistics about the patients' pregnancies\n",
    "Pima1.Pregnancies.describe()"
   ]
  },
  {
   "cell_type": "code",
   "execution_count": 48,
   "metadata": {},
   "outputs": [],
   "source": [
    "#create a function to define patients by the number of prenancies\n",
    "def None_Low_Medium_MedHigh_High(patient):\n",
    "    Pregnancies = patient\n",
    "    if Pregnancies < 1 :return 'none'\n",
    "    if 0 < Pregnancies < 5:return 'Low'\n",
    "    if 4 < Pregnancies < 9: return 'Medium'\n",
    "    if 8 < Pregnancies < 13: return 'MedHigh'\n",
    "    if Pregnancies > 13 :return 'High'"
   ]
  },
  {
   "cell_type": "code",
   "execution_count": 49,
   "metadata": {},
   "outputs": [
    {
     "name": "stderr",
     "output_type": "stream",
     "text": [
      "C:\\Users\\Alberto\\Anaconda3\\lib\\site-packages\\ipykernel_launcher.py:2: SettingWithCopyWarning: \n",
      "A value is trying to be set on a copy of a slice from a DataFrame.\n",
      "Try using .loc[row_indexer,col_indexer] = value instead\n",
      "\n",
      "See the caveats in the documentation: http://pandas.pydata.org/pandas-docs/stable/indexing.html#indexing-view-versus-copy\n",
      "  \n"
     ]
    },
    {
     "data": {
      "text/html": [
       "<div>\n",
       "<style scoped>\n",
       "    .dataframe tbody tr th:only-of-type {\n",
       "        vertical-align: middle;\n",
       "    }\n",
       "\n",
       "    .dataframe tbody tr th {\n",
       "        vertical-align: top;\n",
       "    }\n",
       "\n",
       "    .dataframe thead th {\n",
       "        text-align: right;\n",
       "    }\n",
       "</style>\n",
       "<table border=\"1\" class=\"dataframe\">\n",
       "  <thead>\n",
       "    <tr style=\"text-align: right;\">\n",
       "      <th></th>\n",
       "      <th>Patient_num</th>\n",
       "      <th>Pregnancies</th>\n",
       "      <th>Plasma_Glucose</th>\n",
       "      <th>Dia_BP</th>\n",
       "      <th>Tri_skin_mm</th>\n",
       "      <th>Serum_insulin</th>\n",
       "      <th>BMI</th>\n",
       "      <th>Dia_pedi_funct</th>\n",
       "      <th>Age</th>\n",
       "      <th>Class</th>\n",
       "      <th>Age_Group</th>\n",
       "      <th>BMI_scale</th>\n",
       "      <th>Diagnosis</th>\n",
       "      <th>Preg_scale</th>\n",
       "    </tr>\n",
       "  </thead>\n",
       "  <tbody>\n",
       "    <tr>\n",
       "      <th>3</th>\n",
       "      <td>4</td>\n",
       "      <td>1</td>\n",
       "      <td>89.0</td>\n",
       "      <td>66.0</td>\n",
       "      <td>23.0</td>\n",
       "      <td>94.0</td>\n",
       "      <td>28.1</td>\n",
       "      <td>0.167</td>\n",
       "      <td>21</td>\n",
       "      <td>0</td>\n",
       "      <td>young</td>\n",
       "      <td>overweight</td>\n",
       "      <td>nondiabetic</td>\n",
       "      <td>Low</td>\n",
       "    </tr>\n",
       "    <tr>\n",
       "      <th>4</th>\n",
       "      <td>5</td>\n",
       "      <td>0</td>\n",
       "      <td>137.0</td>\n",
       "      <td>40.0</td>\n",
       "      <td>35.0</td>\n",
       "      <td>168.0</td>\n",
       "      <td>43.1</td>\n",
       "      <td>2.288</td>\n",
       "      <td>33</td>\n",
       "      <td>1</td>\n",
       "      <td>young</td>\n",
       "      <td>exobese</td>\n",
       "      <td>diabetic</td>\n",
       "      <td>none</td>\n",
       "    </tr>\n",
       "    <tr>\n",
       "      <th>6</th>\n",
       "      <td>7</td>\n",
       "      <td>3</td>\n",
       "      <td>78.0</td>\n",
       "      <td>50.0</td>\n",
       "      <td>32.0</td>\n",
       "      <td>88.0</td>\n",
       "      <td>31.0</td>\n",
       "      <td>0.248</td>\n",
       "      <td>26</td>\n",
       "      <td>1</td>\n",
       "      <td>young</td>\n",
       "      <td>obese</td>\n",
       "      <td>diabetic</td>\n",
       "      <td>Low</td>\n",
       "    </tr>\n",
       "    <tr>\n",
       "      <th>8</th>\n",
       "      <td>9</td>\n",
       "      <td>2</td>\n",
       "      <td>197.0</td>\n",
       "      <td>70.0</td>\n",
       "      <td>45.0</td>\n",
       "      <td>543.0</td>\n",
       "      <td>30.5</td>\n",
       "      <td>0.158</td>\n",
       "      <td>53</td>\n",
       "      <td>1</td>\n",
       "      <td>older</td>\n",
       "      <td>obese</td>\n",
       "      <td>diabetic</td>\n",
       "      <td>Low</td>\n",
       "    </tr>\n",
       "    <tr>\n",
       "      <th>13</th>\n",
       "      <td>14</td>\n",
       "      <td>1</td>\n",
       "      <td>189.0</td>\n",
       "      <td>60.0</td>\n",
       "      <td>23.0</td>\n",
       "      <td>846.0</td>\n",
       "      <td>30.1</td>\n",
       "      <td>0.398</td>\n",
       "      <td>59</td>\n",
       "      <td>1</td>\n",
       "      <td>older</td>\n",
       "      <td>obese</td>\n",
       "      <td>diabetic</td>\n",
       "      <td>Low</td>\n",
       "    </tr>\n",
       "  </tbody>\n",
       "</table>\n",
       "</div>"
      ],
      "text/plain": [
       "    Patient_num  Pregnancies  Plasma_Glucose  Dia_BP  Tri_skin_mm  \\\n",
       "3             4            1            89.0    66.0         23.0   \n",
       "4             5            0           137.0    40.0         35.0   \n",
       "6             7            3            78.0    50.0         32.0   \n",
       "8             9            2           197.0    70.0         45.0   \n",
       "13           14            1           189.0    60.0         23.0   \n",
       "\n",
       "    Serum_insulin   BMI  Dia_pedi_funct  Age  Class Age_Group   BMI_scale  \\\n",
       "3            94.0  28.1           0.167   21      0     young  overweight   \n",
       "4           168.0  43.1           2.288   33      1     young     exobese   \n",
       "6            88.0  31.0           0.248   26      1     young       obese   \n",
       "8           543.0  30.5           0.158   53      1     older       obese   \n",
       "13          846.0  30.1           0.398   59      1     older       obese   \n",
       "\n",
       "      Diagnosis Preg_scale  \n",
       "3   nondiabetic        Low  \n",
       "4      diabetic       none  \n",
       "6      diabetic        Low  \n",
       "8      diabetic        Low  \n",
       "13     diabetic        Low  "
      ]
     },
     "execution_count": 49,
     "metadata": {},
     "output_type": "execute_result"
    }
   ],
   "source": [
    "# add a column to the data frame describing the pregnancie scale.\n",
    "Pima1['Preg_scale']=Pima1['Pregnancies'].apply(None_Low_Medium_MedHigh_High)\n",
    "Pima1.head()"
   ]
  },
  {
   "cell_type": "code",
   "execution_count": 50,
   "metadata": {},
   "outputs": [
    {
     "data": {
      "text/plain": [
       "Low        229\n",
       "Medium      74\n",
       "none        56\n",
       "MedHigh     27\n",
       "High         3\n",
       "Name: Preg_scale, dtype: int64"
      ]
     },
     "execution_count": 50,
     "metadata": {},
     "output_type": "execute_result"
    }
   ],
   "source": [
    "#Determine the number of patients in each prenancy category\n",
    "Pima1['Preg_scale'].value_counts()"
   ]
  },
  {
   "cell_type": "code",
   "execution_count": 51,
   "metadata": {},
   "outputs": [
    {
     "data": {
      "text/plain": [
       "<seaborn.axisgrid.FacetGrid at 0x258da5d2550>"
      ]
     },
     "execution_count": 51,
     "metadata": {},
     "output_type": "execute_result"
    },
    {
     "data": {
      "image/png": "[encoded data removed]",
      "text/plain": [
       "<Figure size 620.25x360 with 1 Axes>"
      ]
     },
     "metadata": {
      "needs_background": "light"
     },
     "output_type": "display_data"
    }
   ],
   "source": [
    "#create catplot for patients splitt into young,middle, older, and Diagnosis\n",
    "sns.catplot('Diagnosis',data = Pima1, kind='count', hue='Preg_scale',  hue_order = ['none','Low', 'Medium', 'MedHigh','High'],aspect=1.5)"
   ]
  },
  {
   "cell_type": "code",
   "execution_count": 52,
   "metadata": {},
   "outputs": [
    {
     "data": {
      "text/plain": [
       "<seaborn.axisgrid.FacetGrid at 0x258da6ab8d0>"
      ]
     },
     "execution_count": 52,
     "metadata": {},
     "output_type": "execute_result"
    },
    {
     "data": {
      "image/png": "[encoded data removed]",
      "text/plain": [
       "<Figure size 790.25x360 with 2 Axes>"
      ]
     },
     "metadata": {
      "needs_background": "light"
     },
     "output_type": "display_data"
    }
   ],
   "source": [
    "# split the patients  into nondiabetic or diabetic \n",
    "sns.catplot('Preg_scale', data=Pima1, kind='count', hue = 'Age_Group', col='Diagnosis', order=['none','Low','Medium','MedHigh','High'],\n",
    "              hue_order = ['young', 'middle','older'], aspect=1, height=5)"
   ]
  },
  {
   "cell_type": "code",
   "execution_count": 53,
   "metadata": {},
   "outputs": [
    {
     "data": {
      "text/plain": [
       "<seaborn.axisgrid.FacetGrid at 0x258da983c50>"
      ]
     },
     "execution_count": 53,
     "metadata": {},
     "output_type": "execute_result"
    },
    {
     "data": {
      "image/png": "[encoded data removed]",
      "text/plain": [
       "<Figure size 360x360 with 1 Axes>"
      ]
     },
     "metadata": {
      "needs_background": "light"
     },
     "output_type": "display_data"
    }
   ],
   "source": [
    "#plot a linear plot of patient Diagnosis\n",
    "sns.lmplot('Age','Class', data=Pima1)"
   ]
  },
  {
   "cell_type": "markdown",
   "metadata": {},
   "source": [
    "#### Line plot showing the relationship between patients age and Diabetic insidence. A positive relation ship exist as the patients age."
   ]
  },
  {
   "cell_type": "code",
   "execution_count": 54,
   "metadata": {},
   "outputs": [
    {
     "data": {
      "text/plain": [
       "<seaborn.axisgrid.FacetGrid at 0x258daa0a4e0>"
      ]
     },
     "execution_count": 54,
     "metadata": {},
     "output_type": "execute_result"
    },
    {
     "data": {
      "image/png": "[encoded data removed]",
      "text/plain": [
       "<Figure size 459.125x360 with 1 Axes>"
      ]
     },
     "metadata": {
      "needs_background": "light"
     },
     "output_type": "display_data"
    }
   ],
   "source": [
    "# linear plot of patients Diabetic Diagnosis by Age and BMI\n",
    "sns.lmplot('Age', 'Class', data=Pima1, hue='BMI_scale', hue_order=['underweight','healthy','overweight','obese','exobese'])\n"
   ]
  },
  {
   "cell_type": "markdown",
   "metadata": {},
   "source": [
    "#### Line plot showing the relationship between patients age and Diabetic insidence by BMI scale. A positive relation ship exist as the patients age BMI increases."
   ]
  },
  {
   "cell_type": "markdown",
   "metadata": {},
   "source": [
    "### KDE Plot (kernle density estimate plot)\n",
    "#### KDE plot is used for visualizing the probability density of a continuous variable. It depicts the probability density at different values in a continuous variable."
   ]
  },
  {
   "cell_type": "code",
   "execution_count": 55,
   "metadata": {},
   "outputs": [
    {
     "data": {
      "text/plain": [
       "<seaborn.axisgrid.FacetGrid at 0x258daa44940>"
      ]
     },
     "execution_count": 55,
     "metadata": {},
     "output_type": "execute_result"
    },
    {
     "data": {
      "image/png": "[encoded data removed]",
      "text/plain": [
       "<Figure size 906.375x216 with 1 Axes>"
      ]
     },
     "metadata": {
      "needs_background": "light"
     },
     "output_type": "display_data"
    }
   ],
   "source": [
    "# KDE plot grouped by diabetic class\n",
    "fig = sns.FacetGrid(Pima1, hue='Class', aspect=4)\n",
    "fig.map(sns.kdeplot,'Age', shade=True)\n",
    "oldest = Pima1['Age'].max()\n",
    "fig.set(xlim=(0,oldest))\n",
    "fig.set(title='Distribution of Patients Age Grouped by Diabetic Class')\n",
    "fig.add_legend()"
   ]
  },
  {
   "cell_type": "code",
   "execution_count": 56,
   "metadata": {},
   "outputs": [
    {
     "data": {
      "text/plain": [
       "<seaborn.axisgrid.FacetGrid at 0x258dac8c978>"
      ]
     },
     "execution_count": 56,
     "metadata": {},
     "output_type": "execute_result"
    },
    {
     "data": {
      "image/png": "[encoded data removed]",
      "text/plain": [
       "<Figure size 934.25x216 with 1 Axes>"
      ]
     },
     "metadata": {
      "needs_background": "light"
     },
     "output_type": "display_data"
    }
   ],
   "source": [
    "# Kde Plot grouped by age group\n",
    "fig = sns.FacetGrid(Pima1, hue='Age_Group', aspect=4)\n",
    "fig.map(sns.kdeplot,'Age', shade=True)\n",
    "oldest = Pima1['Age'].max()\n",
    "fig.set(xlim=(0,oldest))\n",
    "fig.set(title='Distribution of Customer Age Grouped by Age group')\n",
    "fig.add_legend()"
   ]
  },
  {
   "cell_type": "code",
   "execution_count": 57,
   "metadata": {},
   "outputs": [
    {
     "data": {
      "text/plain": [
       "<seaborn.axisgrid.FacetGrid at 0x258dad0c9b0>"
      ]
     },
     "execution_count": 57,
     "metadata": {},
     "output_type": "execute_result"
    },
    {
     "data": {
      "image/png": "[encoded data removed]",
      "text/plain": [
       "<Figure size 955.875x216 with 1 Axes>"
      ]
     },
     "metadata": {
      "needs_background": "light"
     },
     "output_type": "display_data"
    }
   ],
   "source": [
    "# Kde Plot grouped by BMI Sclae\n",
    "fig = sns.FacetGrid(Pima1, hue='BMI_scale', aspect=4)\n",
    "fig.map(sns.kdeplot,'Age', shade=True)\n",
    "oldest = Pima1['Age'].max()\n",
    "fig.set(xlim=(0,oldest))\n",
    "fig.set(title='Distribution of Patient Age Grouped by BMI scale')\n",
    "fig.add_legend()"
   ]
  },
  {
   "cell_type": "markdown",
   "metadata": {},
   "source": [
    "### Classification to predict diabetic class"
   ]
  },
  {
   "cell_type": "code",
   "execution_count": 58,
   "metadata": {},
   "outputs": [
    {
     "data": {
      "text/html": [
       "<div>\n",
       "<style scoped>\n",
       "    .dataframe tbody tr th:only-of-type {\n",
       "        vertical-align: middle;\n",
       "    }\n",
       "\n",
       "    .dataframe tbody tr th {\n",
       "        vertical-align: top;\n",
       "    }\n",
       "\n",
       "    .dataframe thead th {\n",
       "        text-align: right;\n",
       "    }\n",
       "</style>\n",
       "<table border=\"1\" class=\"dataframe\">\n",
       "  <thead>\n",
       "    <tr style=\"text-align: right;\">\n",
       "      <th></th>\n",
       "      <th>Patient_num</th>\n",
       "      <th>Pregnancies</th>\n",
       "      <th>Plasma_Glucose</th>\n",
       "      <th>Dia_BP</th>\n",
       "      <th>Tri_skin_mm</th>\n",
       "      <th>Serum_insulin</th>\n",
       "      <th>BMI</th>\n",
       "      <th>Dia_pedi_funct</th>\n",
       "      <th>Age</th>\n",
       "      <th>Class</th>\n",
       "      <th>Age_Group</th>\n",
       "      <th>BMI_scale</th>\n",
       "      <th>Diagnosis</th>\n",
       "      <th>Preg_scale</th>\n",
       "    </tr>\n",
       "  </thead>\n",
       "  <tbody>\n",
       "    <tr>\n",
       "      <th>3</th>\n",
       "      <td>4</td>\n",
       "      <td>1</td>\n",
       "      <td>89.0</td>\n",
       "      <td>66.0</td>\n",
       "      <td>23.0</td>\n",
       "      <td>94.0</td>\n",
       "      <td>28.1</td>\n",
       "      <td>0.167</td>\n",
       "      <td>21</td>\n",
       "      <td>0</td>\n",
       "      <td>young</td>\n",
       "      <td>overweight</td>\n",
       "      <td>nondiabetic</td>\n",
       "      <td>Low</td>\n",
       "    </tr>\n",
       "    <tr>\n",
       "      <th>4</th>\n",
       "      <td>5</td>\n",
       "      <td>0</td>\n",
       "      <td>137.0</td>\n",
       "      <td>40.0</td>\n",
       "      <td>35.0</td>\n",
       "      <td>168.0</td>\n",
       "      <td>43.1</td>\n",
       "      <td>2.288</td>\n",
       "      <td>33</td>\n",
       "      <td>1</td>\n",
       "      <td>young</td>\n",
       "      <td>exobese</td>\n",
       "      <td>diabetic</td>\n",
       "      <td>none</td>\n",
       "    </tr>\n",
       "    <tr>\n",
       "      <th>6</th>\n",
       "      <td>7</td>\n",
       "      <td>3</td>\n",
       "      <td>78.0</td>\n",
       "      <td>50.0</td>\n",
       "      <td>32.0</td>\n",
       "      <td>88.0</td>\n",
       "      <td>31.0</td>\n",
       "      <td>0.248</td>\n",
       "      <td>26</td>\n",
       "      <td>1</td>\n",
       "      <td>young</td>\n",
       "      <td>obese</td>\n",
       "      <td>diabetic</td>\n",
       "      <td>Low</td>\n",
       "    </tr>\n",
       "    <tr>\n",
       "      <th>8</th>\n",
       "      <td>9</td>\n",
       "      <td>2</td>\n",
       "      <td>197.0</td>\n",
       "      <td>70.0</td>\n",
       "      <td>45.0</td>\n",
       "      <td>543.0</td>\n",
       "      <td>30.5</td>\n",
       "      <td>0.158</td>\n",
       "      <td>53</td>\n",
       "      <td>1</td>\n",
       "      <td>older</td>\n",
       "      <td>obese</td>\n",
       "      <td>diabetic</td>\n",
       "      <td>Low</td>\n",
       "    </tr>\n",
       "    <tr>\n",
       "      <th>13</th>\n",
       "      <td>14</td>\n",
       "      <td>1</td>\n",
       "      <td>189.0</td>\n",
       "      <td>60.0</td>\n",
       "      <td>23.0</td>\n",
       "      <td>846.0</td>\n",
       "      <td>30.1</td>\n",
       "      <td>0.398</td>\n",
       "      <td>59</td>\n",
       "      <td>1</td>\n",
       "      <td>older</td>\n",
       "      <td>obese</td>\n",
       "      <td>diabetic</td>\n",
       "      <td>Low</td>\n",
       "    </tr>\n",
       "  </tbody>\n",
       "</table>\n",
       "</div>"
      ],
      "text/plain": [
       "    Patient_num  Pregnancies  Plasma_Glucose  Dia_BP  Tri_skin_mm  \\\n",
       "3             4            1            89.0    66.0         23.0   \n",
       "4             5            0           137.0    40.0         35.0   \n",
       "6             7            3            78.0    50.0         32.0   \n",
       "8             9            2           197.0    70.0         45.0   \n",
       "13           14            1           189.0    60.0         23.0   \n",
       "\n",
       "    Serum_insulin   BMI  Dia_pedi_funct  Age  Class Age_Group   BMI_scale  \\\n",
       "3            94.0  28.1           0.167   21      0     young  overweight   \n",
       "4           168.0  43.1           2.288   33      1     young     exobese   \n",
       "6            88.0  31.0           0.248   26      1     young       obese   \n",
       "8           543.0  30.5           0.158   53      1     older       obese   \n",
       "13          846.0  30.1           0.398   59      1     older       obese   \n",
       "\n",
       "      Diagnosis Preg_scale  \n",
       "3   nondiabetic        Low  \n",
       "4      diabetic       none  \n",
       "6      diabetic        Low  \n",
       "8      diabetic        Low  \n",
       "13     diabetic        Low  "
      ]
     },
     "execution_count": 58,
     "metadata": {},
     "output_type": "execute_result"
    }
   ],
   "source": [
    "# confirm the beggining of the dataset \n",
    "Pima1.head()"
   ]
  },
  {
   "cell_type": "code",
   "execution_count": 59,
   "metadata": {},
   "outputs": [
    {
     "data": {
      "text/plain": [
       "Index(['Patient_num', 'Pregnancies', 'Plasma_Glucose', 'Dia_BP', 'Tri_skin_mm',\n",
       "       'Serum_insulin', 'BMI', 'Dia_pedi_funct', 'Age', 'Class', 'Age_Group',\n",
       "       'BMI_scale', 'Diagnosis', 'Preg_scale'],\n",
       "      dtype='object')"
      ]
     },
     "execution_count": 59,
     "metadata": {},
     "output_type": "execute_result"
    }
   ],
   "source": [
    "# look at column names only\n",
    "Pima1.columns"
   ]
  },
  {
   "cell_type": "markdown",
   "metadata": {},
   "source": [
    "### Feature Selection"
   ]
  },
  {
   "cell_type": "code",
   "execution_count": 60,
   "metadata": {},
   "outputs": [
    {
     "name": "stdout",
     "output_type": "stream",
     "text": [
      "Summary of Feature Sample\n"
     ]
    },
    {
     "data": {
      "text/html": [
       "<div>\n",
       "<style scoped>\n",
       "    .dataframe tbody tr th:only-of-type {\n",
       "        vertical-align: middle;\n",
       "    }\n",
       "\n",
       "    .dataframe tbody tr th {\n",
       "        vertical-align: top;\n",
       "    }\n",
       "\n",
       "    .dataframe thead th {\n",
       "        text-align: right;\n",
       "    }\n",
       "</style>\n",
       "<table border=\"1\" class=\"dataframe\">\n",
       "  <thead>\n",
       "    <tr style=\"text-align: right;\">\n",
       "      <th></th>\n",
       "      <th>Pregnancies</th>\n",
       "      <th>Plasma_Glucose</th>\n",
       "      <th>Dia_BP</th>\n",
       "      <th>Tri_skin_mm</th>\n",
       "      <th>Serum_insulin</th>\n",
       "      <th>BMI</th>\n",
       "      <th>Dia_pedi_funct</th>\n",
       "      <th>Age</th>\n",
       "    </tr>\n",
       "  </thead>\n",
       "  <tbody>\n",
       "    <tr>\n",
       "      <th>3</th>\n",
       "      <td>1</td>\n",
       "      <td>89.0</td>\n",
       "      <td>66.0</td>\n",
       "      <td>23.0</td>\n",
       "      <td>94.0</td>\n",
       "      <td>28.1</td>\n",
       "      <td>0.167</td>\n",
       "      <td>21</td>\n",
       "    </tr>\n",
       "    <tr>\n",
       "      <th>4</th>\n",
       "      <td>0</td>\n",
       "      <td>137.0</td>\n",
       "      <td>40.0</td>\n",
       "      <td>35.0</td>\n",
       "      <td>168.0</td>\n",
       "      <td>43.1</td>\n",
       "      <td>2.288</td>\n",
       "      <td>33</td>\n",
       "    </tr>\n",
       "    <tr>\n",
       "      <th>6</th>\n",
       "      <td>3</td>\n",
       "      <td>78.0</td>\n",
       "      <td>50.0</td>\n",
       "      <td>32.0</td>\n",
       "      <td>88.0</td>\n",
       "      <td>31.0</td>\n",
       "      <td>0.248</td>\n",
       "      <td>26</td>\n",
       "    </tr>\n",
       "    <tr>\n",
       "      <th>8</th>\n",
       "      <td>2</td>\n",
       "      <td>197.0</td>\n",
       "      <td>70.0</td>\n",
       "      <td>45.0</td>\n",
       "      <td>543.0</td>\n",
       "      <td>30.5</td>\n",
       "      <td>0.158</td>\n",
       "      <td>53</td>\n",
       "    </tr>\n",
       "    <tr>\n",
       "      <th>13</th>\n",
       "      <td>1</td>\n",
       "      <td>189.0</td>\n",
       "      <td>60.0</td>\n",
       "      <td>23.0</td>\n",
       "      <td>846.0</td>\n",
       "      <td>30.1</td>\n",
       "      <td>0.398</td>\n",
       "      <td>59</td>\n",
       "    </tr>\n",
       "  </tbody>\n",
       "</table>\n",
       "</div>"
      ],
      "text/plain": [
       "    Pregnancies  Plasma_Glucose  Dia_BP  Tri_skin_mm  Serum_insulin   BMI  \\\n",
       "3             1            89.0    66.0         23.0           94.0  28.1   \n",
       "4             0           137.0    40.0         35.0          168.0  43.1   \n",
       "6             3            78.0    50.0         32.0           88.0  31.0   \n",
       "8             2           197.0    70.0         45.0          543.0  30.5   \n",
       "13            1           189.0    60.0         23.0          846.0  30.1   \n",
       "\n",
       "    Dia_pedi_funct  Age  \n",
       "3            0.167   21  \n",
       "4            2.288   33  \n",
       "6            0.248   26  \n",
       "8            0.158   53  \n",
       "13           0.398   59  "
      ]
     },
     "execution_count": 60,
     "metadata": {},
     "output_type": "execute_result"
    }
   ],
   "source": [
    "# create variable for selected features\n",
    "features = Pima1.iloc[:, 1:9]\n",
    "print('Summary of Feature Sample')\n",
    "features.head(5)"
   ]
  },
  {
   "cell_type": "code",
   "execution_count": 61,
   "metadata": {},
   "outputs": [
    {
     "name": "stdout",
     "output_type": "stream",
     "text": [
      "Summary of Dependant Variable\n"
     ]
    },
    {
     "data": {
      "text/plain": [
       "3     0\n",
       "4     1\n",
       "6     1\n",
       "8     1\n",
       "13    1\n",
       "Name: Class, dtype: int64"
      ]
     },
     "execution_count": 61,
     "metadata": {},
     "output_type": "execute_result"
    }
   ],
   "source": [
    "# Select the dependent variable\n",
    "depVar= Pima1['Class']\n",
    "print('Summary of Dependant Variable')\n",
    "depVar.head(5)"
   ]
  },
  {
   "cell_type": "code",
   "execution_count": 62,
   "metadata": {},
   "outputs": [
    {
     "name": "stdout",
     "output_type": "stream",
     "text": [
      "The number of observation used in the x training set are: Int64Index([  3,   4,   6,   8,  13,  14,  16,  18,  19,  20,\n",
      "            ...\n",
      "            744, 745, 747, 748, 751, 753, 755, 760, 763, 765],\n",
      "           dtype='int64', length=392)\n"
     ]
    },
    {
     "data": {
      "text/html": [
       "<div>\n",
       "<style scoped>\n",
       "    .dataframe tbody tr th:only-of-type {\n",
       "        vertical-align: middle;\n",
       "    }\n",
       "\n",
       "    .dataframe tbody tr th {\n",
       "        vertical-align: top;\n",
       "    }\n",
       "\n",
       "    .dataframe thead th {\n",
       "        text-align: right;\n",
       "    }\n",
       "</style>\n",
       "<table border=\"1\" class=\"dataframe\">\n",
       "  <thead>\n",
       "    <tr style=\"text-align: right;\">\n",
       "      <th></th>\n",
       "      <th>Pregnancies</th>\n",
       "      <th>Plasma_Glucose</th>\n",
       "      <th>Dia_BP</th>\n",
       "      <th>Tri_skin_mm</th>\n",
       "      <th>Serum_insulin</th>\n",
       "      <th>BMI</th>\n",
       "      <th>Dia_pedi_funct</th>\n",
       "      <th>Age</th>\n",
       "    </tr>\n",
       "  </thead>\n",
       "  <tbody>\n",
       "    <tr>\n",
       "      <th>3</th>\n",
       "      <td>1</td>\n",
       "      <td>89.0</td>\n",
       "      <td>66.0</td>\n",
       "      <td>23.0</td>\n",
       "      <td>94.0</td>\n",
       "      <td>28.1</td>\n",
       "      <td>0.167</td>\n",
       "      <td>21</td>\n",
       "    </tr>\n",
       "    <tr>\n",
       "      <th>4</th>\n",
       "      <td>0</td>\n",
       "      <td>137.0</td>\n",
       "      <td>40.0</td>\n",
       "      <td>35.0</td>\n",
       "      <td>168.0</td>\n",
       "      <td>43.1</td>\n",
       "      <td>2.288</td>\n",
       "      <td>33</td>\n",
       "    </tr>\n",
       "    <tr>\n",
       "      <th>6</th>\n",
       "      <td>3</td>\n",
       "      <td>78.0</td>\n",
       "      <td>50.0</td>\n",
       "      <td>32.0</td>\n",
       "      <td>88.0</td>\n",
       "      <td>31.0</td>\n",
       "      <td>0.248</td>\n",
       "      <td>26</td>\n",
       "    </tr>\n",
       "    <tr>\n",
       "      <th>8</th>\n",
       "      <td>2</td>\n",
       "      <td>197.0</td>\n",
       "      <td>70.0</td>\n",
       "      <td>45.0</td>\n",
       "      <td>543.0</td>\n",
       "      <td>30.5</td>\n",
       "      <td>0.158</td>\n",
       "      <td>53</td>\n",
       "    </tr>\n",
       "    <tr>\n",
       "      <th>13</th>\n",
       "      <td>1</td>\n",
       "      <td>189.0</td>\n",
       "      <td>60.0</td>\n",
       "      <td>23.0</td>\n",
       "      <td>846.0</td>\n",
       "      <td>30.1</td>\n",
       "      <td>0.398</td>\n",
       "      <td>59</td>\n",
       "    </tr>\n",
       "  </tbody>\n",
       "</table>\n",
       "</div>"
      ],
      "text/plain": [
       "    Pregnancies  Plasma_Glucose  Dia_BP  Tri_skin_mm  Serum_insulin   BMI  \\\n",
       "3             1            89.0    66.0         23.0           94.0  28.1   \n",
       "4             0           137.0    40.0         35.0          168.0  43.1   \n",
       "6             3            78.0    50.0         32.0           88.0  31.0   \n",
       "8             2           197.0    70.0         45.0          543.0  30.5   \n",
       "13            1           189.0    60.0         23.0          846.0  30.1   \n",
       "\n",
       "    Dia_pedi_funct  Age  \n",
       "3            0.167   21  \n",
       "4            2.288   33  \n",
       "6            0.248   26  \n",
       "8            0.158   53  \n",
       "13           0.398   59  "
      ]
     },
     "execution_count": 62,
     "metadata": {},
     "output_type": "execute_result"
    }
   ],
   "source": [
    "# Define the X Training Set with variable = (feature Space: [:] )to select all the rowsX Training)\n",
    "X_train = (features [:])\n",
    "X_train_count=X_train.index\n",
    "print('The number of observation used in the x training set are:',str(X_train_count))\n",
    "X_train.head()"
   ]
  },
  {
   "cell_type": "code",
   "execution_count": 63,
   "metadata": {},
   "outputs": [
    {
     "data": {
      "text/html": [
       "<div>\n",
       "<style scoped>\n",
       "    .dataframe tbody tr th:only-of-type {\n",
       "        vertical-align: middle;\n",
       "    }\n",
       "\n",
       "    .dataframe tbody tr th {\n",
       "        vertical-align: top;\n",
       "    }\n",
       "\n",
       "    .dataframe thead th {\n",
       "        text-align: right;\n",
       "    }\n",
       "</style>\n",
       "<table border=\"1\" class=\"dataframe\">\n",
       "  <thead>\n",
       "    <tr style=\"text-align: right;\">\n",
       "      <th></th>\n",
       "      <th>Pregnancies</th>\n",
       "      <th>Plasma_Glucose</th>\n",
       "      <th>Dia_BP</th>\n",
       "      <th>Tri_skin_mm</th>\n",
       "      <th>Serum_insulin</th>\n",
       "      <th>BMI</th>\n",
       "      <th>Dia_pedi_funct</th>\n",
       "      <th>Age</th>\n",
       "    </tr>\n",
       "  </thead>\n",
       "  <tbody>\n",
       "    <tr>\n",
       "      <th>753</th>\n",
       "      <td>0</td>\n",
       "      <td>181.0</td>\n",
       "      <td>88.0</td>\n",
       "      <td>44.0</td>\n",
       "      <td>510.0</td>\n",
       "      <td>43.3</td>\n",
       "      <td>0.222</td>\n",
       "      <td>26</td>\n",
       "    </tr>\n",
       "    <tr>\n",
       "      <th>755</th>\n",
       "      <td>1</td>\n",
       "      <td>128.0</td>\n",
       "      <td>88.0</td>\n",
       "      <td>39.0</td>\n",
       "      <td>110.0</td>\n",
       "      <td>36.5</td>\n",
       "      <td>1.057</td>\n",
       "      <td>37</td>\n",
       "    </tr>\n",
       "    <tr>\n",
       "      <th>760</th>\n",
       "      <td>2</td>\n",
       "      <td>88.0</td>\n",
       "      <td>58.0</td>\n",
       "      <td>26.0</td>\n",
       "      <td>16.0</td>\n",
       "      <td>28.4</td>\n",
       "      <td>0.766</td>\n",
       "      <td>22</td>\n",
       "    </tr>\n",
       "    <tr>\n",
       "      <th>763</th>\n",
       "      <td>10</td>\n",
       "      <td>101.0</td>\n",
       "      <td>76.0</td>\n",
       "      <td>48.0</td>\n",
       "      <td>180.0</td>\n",
       "      <td>32.9</td>\n",
       "      <td>0.171</td>\n",
       "      <td>63</td>\n",
       "    </tr>\n",
       "    <tr>\n",
       "      <th>765</th>\n",
       "      <td>5</td>\n",
       "      <td>121.0</td>\n",
       "      <td>72.0</td>\n",
       "      <td>23.0</td>\n",
       "      <td>112.0</td>\n",
       "      <td>26.2</td>\n",
       "      <td>0.245</td>\n",
       "      <td>30</td>\n",
       "    </tr>\n",
       "  </tbody>\n",
       "</table>\n",
       "</div>"
      ],
      "text/plain": [
       "     Pregnancies  Plasma_Glucose  Dia_BP  Tri_skin_mm  Serum_insulin   BMI  \\\n",
       "753            0           181.0    88.0         44.0          510.0  43.3   \n",
       "755            1           128.0    88.0         39.0          110.0  36.5   \n",
       "760            2            88.0    58.0         26.0           16.0  28.4   \n",
       "763           10           101.0    76.0         48.0          180.0  32.9   \n",
       "765            5           121.0    72.0         23.0          112.0  26.2   \n",
       "\n",
       "     Dia_pedi_funct  Age  \n",
       "753           0.222   26  \n",
       "755           1.057   37  \n",
       "760           0.766   22  \n",
       "763           0.171   63  \n",
       "765           0.245   30  "
      ]
     },
     "execution_count": 63,
     "metadata": {},
     "output_type": "execute_result"
    }
   ],
   "source": [
    "X_train.tail()"
   ]
  },
  {
   "cell_type": "code",
   "execution_count": 64,
   "metadata": {},
   "outputs": [
    {
     "name": "stdout",
     "output_type": "stream",
     "text": [
      "The number of observations used in the Y training set are: 392\n"
     ]
    },
    {
     "data": {
      "text/plain": [
       "3     0\n",
       "4     1\n",
       "6     1\n",
       "8     1\n",
       "13    1\n",
       "Name: Class, dtype: int64"
      ]
     },
     "execution_count": 64,
     "metadata": {},
     "output_type": "execute_result"
    }
   ],
   "source": [
    "# Define the Y training set to include all rows and mathch the X training set\n",
    "Y_train = (depVar[:])\n",
    "Y_train_count= len(Y_train.index)\n",
    "print('The number of observations used in the Y training set are:', str(Y_train_count))\n",
    "Y_train.head()"
   ]
  },
  {
   "cell_type": "code",
   "execution_count": 65,
   "metadata": {},
   "outputs": [
    {
     "data": {
      "text/plain": [
       "753    1\n",
       "755    1\n",
       "760    0\n",
       "763    0\n",
       "765    0\n",
       "Name: Class, dtype: int64"
      ]
     },
     "execution_count": 65,
     "metadata": {},
     "output_type": "execute_result"
    }
   ],
   "source": [
    "Y_train.tail()"
   ]
  },
  {
   "cell_type": "markdown",
   "metadata": {},
   "source": [
    "### Since this is a classification problem the tools needed must be imported. These include: the classfication algorithms, packages to determine the model metrics, the rescaling fuction, and the cross validation function "
   ]
  },
  {
   "cell_type": "code",
   "execution_count": 66,
   "metadata": {},
   "outputs": [],
   "source": [
    "# For classification problem ensure classification algorithms are imported\n",
    "from sklearn.linear_model import LogisticRegression\n",
    "from sklearn.ensemble import RandomForestClassifier\n",
    "from sklearn.svm import SVC\n",
    "from sklearn.ensemble import AdaBoostClassifier\n",
    "from sklearn.ensemble import GradientBoostingClassifier\n",
    "\n",
    "# used to determine classification model metrics\n",
    "from sklearn.model_selection import KFold\n",
    "from sklearn.metrics import accuracy_score, precision_score, recall_score, confusion_matrix, precision_recall_curve\n",
    "\n",
    "# for rescaling of features use a scaler\n",
    "from sklearn.preprocessing import RobustScaler\n",
    "\n",
    "#cross validation\n",
    "from sklearn.model_selection import train_test_split"
   ]
  },
  {
   "cell_type": "code",
   "execution_count": 67,
   "metadata": {},
   "outputs": [],
   "source": [
    "# To Continue working toward our predictive model cross validation can now be applyed.\n",
    "X_train, X_test, Y_train, Y_test = train_test_split(X_train, Y_train, test_size = 0.3)"
   ]
  },
  {
   "cell_type": "code",
   "execution_count": 68,
   "metadata": {},
   "outputs": [
    {
     "name": "stdout",
     "output_type": "stream",
     "text": [
      "(274, 8)\n",
      "(118, 8)\n"
     ]
    }
   ],
   "source": [
    "# use shape function to double check that the split was made as needed\n",
    "print (X_train.shape)\n",
    "print (X_test.shape)"
   ]
  },
  {
   "cell_type": "code",
   "execution_count": 69,
   "metadata": {},
   "outputs": [
    {
     "name": "stdout",
     "output_type": "stream",
     "text": [
      "(274,)\n",
      "(118,)\n"
     ]
    }
   ],
   "source": [
    "print (Y_train.shape)\n",
    "print (Y_test.shape)"
   ]
  },
  {
   "cell_type": "code",
   "execution_count": 70,
   "metadata": {},
   "outputs": [],
   "source": [
    "# Establish the variable names that will represent each model\n",
    "modelLR = LogisticRegression(solver = 'lbfgs', multi_class = 'auto', max_iter = 700, n_jobs = 1, random_state = 15)\n",
    "modelRF = RandomForestClassifier(n_estimators = 100)\n",
    "modelSVM = SVC(gamma = 'scale')\n",
    "modelADA = AdaBoostClassifier()\n",
    "modelGB = GradientBoostingClassifier()"
   ]
  },
  {
   "cell_type": "code",
   "execution_count": 71,
   "metadata": {},
   "outputs": [],
   "source": [
    "# fuction for creating confusion matrix for each model\n",
    "def Cmatrix (CM, labels =  ['nondiabetic', 'diabetic']):\n",
    "    df = pd.DataFrame(data=CM, index=labels, columns=labels)\n",
    "    df.columns.name='PREDICTION'\n",
    "    df.loc['Total'] = df.sum()\n",
    "    df['Total'] = df.sum(axis=1)\n",
    "    return df"
   ]
  },
  {
   "cell_type": "code",
   "execution_count": 72,
   "metadata": {},
   "outputs": [],
   "source": [
    " # creating data frame for evaluation of metrics for all models\n",
    "metrics = pd.DataFrame(index=['accuracy', 'precision', 'recall'],\n",
    "                      columns = ['LogisticReg', 'Random Forest', 'Adaboost', 'Gradient Boosting'])"
   ]
  },
  {
   "cell_type": "code",
   "execution_count": 73,
   "metadata": {},
   "outputs": [],
   "source": [
    "# creating data frame for evaluation of metrics for all models with RFE\n",
    "metrics2 = pd.DataFrame(index=['accuracy', 'precision', 'recall'],\n",
    "                      columns = ['RFECV_LogisticReg', 'RFECV_Random Forest', 'RFECV_Adaboost', 'RFECV_Gradient Boosting'])"
   ]
  },
  {
   "cell_type": "markdown",
   "metadata": {},
   "source": [
    "### Pass the training data thru the classifier algorithms"
   ]
  },
  {
   "cell_type": "code",
   "execution_count": 74,
   "metadata": {},
   "outputs": [],
   "source": [
    "from sklearn.model_selection import cross_val_score"
   ]
  },
  {
   "cell_type": "code",
   "execution_count": 75,
   "metadata": {},
   "outputs": [
    {
     "name": "stdout",
     "output_type": "stream",
     "text": [
      "Acuracy: 0.792\n"
     ]
    },
    {
     "data": {
      "text/html": [
       "<div>\n",
       "<style scoped>\n",
       "    .dataframe tbody tr th:only-of-type {\n",
       "        vertical-align: middle;\n",
       "    }\n",
       "\n",
       "    .dataframe tbody tr th {\n",
       "        vertical-align: top;\n",
       "    }\n",
       "\n",
       "    .dataframe thead th {\n",
       "        text-align: right;\n",
       "    }\n",
       "</style>\n",
       "<table border=\"1\" class=\"dataframe\">\n",
       "  <thead>\n",
       "    <tr style=\"text-align: right;\">\n",
       "      <th>PREDICTION</th>\n",
       "      <th>nondiabetic</th>\n",
       "      <th>diabetic</th>\n",
       "      <th>Total</th>\n",
       "    </tr>\n",
       "  </thead>\n",
       "  <tbody>\n",
       "    <tr>\n",
       "      <th>nondiabetic</th>\n",
       "      <td>61</td>\n",
       "      <td>13</td>\n",
       "      <td>74</td>\n",
       "    </tr>\n",
       "    <tr>\n",
       "      <th>diabetic</th>\n",
       "      <td>18</td>\n",
       "      <td>26</td>\n",
       "      <td>44</td>\n",
       "    </tr>\n",
       "    <tr>\n",
       "      <th>Total</th>\n",
       "      <td>79</td>\n",
       "      <td>39</td>\n",
       "      <td>118</td>\n",
       "    </tr>\n",
       "  </tbody>\n",
       "</table>\n",
       "</div>"
      ],
      "text/plain": [
       "PREDICTION   nondiabetic  diabetic  Total\n",
       "nondiabetic           61        13     74\n",
       "diabetic              18        26     44\n",
       "Total                 79        39    118"
      ]
     },
     "execution_count": 75,
     "metadata": {},
     "output_type": "execute_result"
    }
   ],
   "source": [
    "# Logistic Regression Classifier Model Fitting\n",
    "crossvalidation = KFold(n_splits=5, shuffle=True, random_state=1)\n",
    "score=np.mean(cross_val_score(modelLR, X_train,Y_train, scoring ='accuracy', cv= crossvalidation))\n",
    "print('Acuracy: %.3f' % score)\n",
    "\n",
    "#use the training data to train the estimator\n",
    "modelLR.fit(X_train,Y_train)\n",
    "\n",
    "# making predictions and evaluating the model\n",
    "y_pred_test = modelLR.predict(X_test)\n",
    "metrics.loc['accuracy', 'LogisticReg']= accuracy_score(y_pred= y_pred_test, y_true=Y_test)\n",
    "metrics.loc['precision','LogisticReg']= precision_score(y_pred= y_pred_test, y_true=Y_test)\n",
    "metrics.loc['recall', 'LogisticReg']= recall_score(y_pred= y_pred_test, y_true=Y_test)\n",
    "\n",
    "# confusion matrix\n",
    "CM = confusion_matrix(y_pred=y_pred_test, y_true=Y_test)\n",
    "Cmatrix(CM)"
   ]
  },
  {
   "cell_type": "markdown",
   "metadata": {},
   "source": [
    "### Use Recursive Feature Elimination with Logistic Regression classifier (to see if model improves)¶"
   ]
  },
  {
   "cell_type": "code",
   "execution_count": 76,
   "metadata": {},
   "outputs": [],
   "source": [
    "# import RFE module\n",
    "from sklearn.feature_selection import RFECV"
   ]
  },
  {
   "cell_type": "code",
   "execution_count": 77,
   "metadata": {},
   "outputs": [
    {
     "name": "stdout",
     "output_type": "stream",
     "text": [
      "Optimal number of features: 5\n",
      "Best features: Index(['Plasma_Glucose', 'Dia_BP', 'BMI', 'Dia_pedi_funct', 'Age'], dtype='object')\n"
     ]
    }
   ],
   "source": [
    "# Use Recursive Feature elimination with cross validation for feature selection\n",
    "rfecv_LR = RFECV(estimator = modelLR, step =1, cv = 5, scoring = 'accuracy')\n",
    "rfecv_LR = rfecv_LR.fit(X_train, Y_train)\n",
    "print('Optimal number of features:', rfecv_LR.n_features_)\n",
    "print('Best features:', X_train.columns [rfecv_LR.support_] )"
   ]
  },
  {
   "cell_type": "code",
   "execution_count": 78,
   "metadata": {},
   "outputs": [
    {
     "data": {
      "text/plain": [
       "array([0.68244829, 0.64951419, 0.72999278, 0.76305435, 0.78064454,\n",
       "       0.77330447, 0.77700818, 0.77700818])"
      ]
     },
     "execution_count": 78,
     "metadata": {},
     "output_type": "execute_result"
    }
   ],
   "source": [
    "# look at the RFE socores\n",
    "rfecv_LR.grid_scores_"
   ]
  },
  {
   "cell_type": "code",
   "execution_count": 79,
   "metadata": {},
   "outputs": [
    {
     "data": {
      "image/png": "[encoded data removed]",
      "text/plain": [
       "<Figure size 432x288 with 1 Axes>"
      ]
     },
     "metadata": {
      "needs_background": "light"
     },
     "output_type": "display_data"
    }
   ],
   "source": [
    "# plot the RFE scores vs the number of selected features\n",
    "plt.figure()\n",
    "plt.xlabel(\"number of features selected\")\n",
    "plt.ylabel(\"cross validation score of number of selected features\")\n",
    "plt.plot(range(1, len(rfecv_LR.grid_scores_) +1), rfecv_LR.grid_scores_)\n",
    "plt.show()"
   ]
  },
  {
   "cell_type": "code",
   "execution_count": 80,
   "metadata": {},
   "outputs": [],
   "source": [
    "# Fit the RFE feature elimination resutl thru the classifier but first we must transform the X_train and X_test to be able to\n",
    "# to use the RFE results.\n",
    "\n",
    "X_train_rfecv_LR = rfecv_LR.transform(X_train)\n",
    "X_test_rfecv_LR = rfecv_LR.transform(X_test)"
   ]
  },
  {
   "cell_type": "code",
   "execution_count": 81,
   "metadata": {},
   "outputs": [
    {
     "name": "stdout",
     "output_type": "stream",
     "text": [
      "Acuracy: 0.806\n"
     ]
    },
    {
     "data": {
      "text/html": [
       "<div>\n",
       "<style scoped>\n",
       "    .dataframe tbody tr th:only-of-type {\n",
       "        vertical-align: middle;\n",
       "    }\n",
       "\n",
       "    .dataframe tbody tr th {\n",
       "        vertical-align: top;\n",
       "    }\n",
       "\n",
       "    .dataframe thead th {\n",
       "        text-align: right;\n",
       "    }\n",
       "</style>\n",
       "<table border=\"1\" class=\"dataframe\">\n",
       "  <thead>\n",
       "    <tr style=\"text-align: right;\">\n",
       "      <th>PREDICTION</th>\n",
       "      <th>nondiabetic</th>\n",
       "      <th>diabetic</th>\n",
       "      <th>Total</th>\n",
       "    </tr>\n",
       "  </thead>\n",
       "  <tbody>\n",
       "    <tr>\n",
       "      <th>nondiabetic</th>\n",
       "      <td>61</td>\n",
       "      <td>13</td>\n",
       "      <td>74</td>\n",
       "    </tr>\n",
       "    <tr>\n",
       "      <th>diabetic</th>\n",
       "      <td>17</td>\n",
       "      <td>27</td>\n",
       "      <td>44</td>\n",
       "    </tr>\n",
       "    <tr>\n",
       "      <th>Total</th>\n",
       "      <td>78</td>\n",
       "      <td>40</td>\n",
       "      <td>118</td>\n",
       "    </tr>\n",
       "  </tbody>\n",
       "</table>\n",
       "</div>"
      ],
      "text/plain": [
       "PREDICTION   nondiabetic  diabetic  Total\n",
       "nondiabetic           61        13     74\n",
       "diabetic              17        27     44\n",
       "Total                 78        40    118"
      ]
     },
     "execution_count": 81,
     "metadata": {},
     "output_type": "execute_result"
    }
   ],
   "source": [
    "# Logistic Regression Classifier Model Fitting to the RFE\n",
    "crossvalidation = KFold(n_splits=5, shuffle=True, random_state=1)\n",
    "score=np.mean(cross_val_score(modelLR, X_train_rfecv_LR,Y_train, scoring ='accuracy', cv= crossvalidation))\n",
    "print('Acuracy: %.3f' % score)\n",
    "\n",
    "#use the training data to train the estimator\n",
    "model_rfecv_LR  = modelLR.fit(X_train_rfecv_LR,Y_train)\n",
    "\n",
    "# making predictions and evaluating the model\n",
    "y_pred_test = model_rfecv_LR.predict(X_test_rfecv_LR)\n",
    "metrics2.loc['accuracy', 'RFECV_LogisticReg']= accuracy_score(y_pred= y_pred_test, y_true=Y_test)\n",
    "metrics2.loc['precision','RFECV_LogisticReg']= precision_score(y_pred= y_pred_test, y_true=Y_test)\n",
    "metrics2.loc['recall', 'RFECV_LogisticReg']= recall_score(y_pred= y_pred_test, y_true=Y_test)\n",
    "\n",
    "# confusion matrix\n",
    "CM = confusion_matrix(y_pred=y_pred_test, y_true=Y_test)\n",
    "Cmatrix(CM)"
   ]
  },
  {
   "cell_type": "markdown",
   "metadata": {},
   "source": [
    "### Random Forest"
   ]
  },
  {
   "cell_type": "code",
   "execution_count": 82,
   "metadata": {},
   "outputs": [
    {
     "name": "stdout",
     "output_type": "stream",
     "text": [
      "Acuracy: 0.788\n"
     ]
    },
    {
     "data": {
      "text/html": [
       "<div>\n",
       "<style scoped>\n",
       "    .dataframe tbody tr th:only-of-type {\n",
       "        vertical-align: middle;\n",
       "    }\n",
       "\n",
       "    .dataframe tbody tr th {\n",
       "        vertical-align: top;\n",
       "    }\n",
       "\n",
       "    .dataframe thead th {\n",
       "        text-align: right;\n",
       "    }\n",
       "</style>\n",
       "<table border=\"1\" class=\"dataframe\">\n",
       "  <thead>\n",
       "    <tr style=\"text-align: right;\">\n",
       "      <th>PREDICTION</th>\n",
       "      <th>nondiabetic</th>\n",
       "      <th>diabetic</th>\n",
       "      <th>Total</th>\n",
       "    </tr>\n",
       "  </thead>\n",
       "  <tbody>\n",
       "    <tr>\n",
       "      <th>nondiabetic</th>\n",
       "      <td>63</td>\n",
       "      <td>11</td>\n",
       "      <td>74</td>\n",
       "    </tr>\n",
       "    <tr>\n",
       "      <th>diabetic</th>\n",
       "      <td>15</td>\n",
       "      <td>29</td>\n",
       "      <td>44</td>\n",
       "    </tr>\n",
       "    <tr>\n",
       "      <th>Total</th>\n",
       "      <td>78</td>\n",
       "      <td>40</td>\n",
       "      <td>118</td>\n",
       "    </tr>\n",
       "  </tbody>\n",
       "</table>\n",
       "</div>"
      ],
      "text/plain": [
       "PREDICTION   nondiabetic  diabetic  Total\n",
       "nondiabetic           63        11     74\n",
       "diabetic              15        29     44\n",
       "Total                 78        40    118"
      ]
     },
     "execution_count": 82,
     "metadata": {},
     "output_type": "execute_result"
    }
   ],
   "source": [
    "# Random Forest Classifier Model Fitting\n",
    "crossvalidation = KFold(n_splits=5, shuffle=True, random_state=1)\n",
    "score=np.mean(cross_val_score(modelRF, X_train,Y_train, scoring ='accuracy', cv= crossvalidation))\n",
    "print('Acuracy: %.3f' % score)\n",
    "\n",
    "#use the training data to train the estimator\n",
    "modelRF.fit(X_train,Y_train)\n",
    "\n",
    "# making predictions and evaluating the model\n",
    "y_pred_test = modelRF.predict(X_test)\n",
    "metrics.loc['accuracy', 'Random Forest']= accuracy_score(y_pred= y_pred_test, y_true=Y_test)\n",
    "metrics.loc['precision','Random Forest']= precision_score(y_pred= y_pred_test, y_true=Y_test)\n",
    "metrics.loc['recall', 'Random Forest']= recall_score(y_pred= y_pred_test, y_true=Y_test)\n",
    "\n",
    "# confusion matrix\n",
    "CM = confusion_matrix(y_pred=y_pred_test, y_true=Y_test)\n",
    "Cmatrix(CM)"
   ]
  },
  {
   "cell_type": "markdown",
   "metadata": {},
   "source": [
    "### Use Recursive Feature Elimination with Random Forest classifier (to see if model improves)"
   ]
  },
  {
   "cell_type": "code",
   "execution_count": 83,
   "metadata": {},
   "outputs": [
    {
     "name": "stdout",
     "output_type": "stream",
     "text": [
      "Optimal number of features: 6\n",
      "Best features: Index(['Plasma_Glucose', 'Dia_BP', 'Serum_insulin', 'BMI', 'Dia_pedi_funct',\n",
      "       'Age'],\n",
      "      dtype='object')\n"
     ]
    }
   ],
   "source": [
    "# Use Recursive Feature elimination with cross validation for feature selection\n",
    "rfecv_RF = RFECV(estimator = modelRF, step =1, cv = 5, scoring = 'accuracy')\n",
    "rfecv_RF = rfecv_RF.fit(X_train, Y_train)\n",
    "print('Optimal number of features:', rfecv_RF.n_features_)\n",
    "print('Best features:', X_train.columns [rfecv_RF.support_])"
   ]
  },
  {
   "cell_type": "code",
   "execution_count": 84,
   "metadata": {},
   "outputs": [
    {
     "data": {
      "text/plain": [
       "array([0.76253247, 0.71934103, 0.79242184, 0.78871813, 0.8034632 ,\n",
       "       0.80716691, 0.78878307, 0.78130832])"
      ]
     },
     "execution_count": 84,
     "metadata": {},
     "output_type": "execute_result"
    }
   ],
   "source": [
    "# look at the RFE socores\n",
    "rfecv_RF.grid_scores_"
   ]
  },
  {
   "cell_type": "code",
   "execution_count": 85,
   "metadata": {},
   "outputs": [
    {
     "data": {
      "image/png": "[encoded data removed]",
      "text/plain": [
       "<Figure size 432x288 with 1 Axes>"
      ]
     },
     "metadata": {
      "needs_background": "light"
     },
     "output_type": "display_data"
    }
   ],
   "source": [
    "# plot the RFE scores vs the number of selected features\n",
    "plt.figure()\n",
    "plt.xlabel(\"number of features selected\")\n",
    "plt.ylabel(\"cross validation score of number of selected features\")\n",
    "plt.plot(range(1, len(rfecv_RF.grid_scores_) +1), rfecv_RF.grid_scores_)\n",
    "plt.show()"
   ]
  },
  {
   "cell_type": "code",
   "execution_count": 86,
   "metadata": {},
   "outputs": [],
   "source": [
    "# Fit the RFE feature elimination resutl thru the classifier but first we must transform the X_train and X_test to be able to\n",
    "# to use the RFE results.\n",
    "\n",
    "X_train_rfecv_RF = rfecv_RF.transform(X_train)\n",
    "X_test_rfecv_RF = rfecv_RF.transform(X_test)"
   ]
  },
  {
   "cell_type": "code",
   "execution_count": 87,
   "metadata": {},
   "outputs": [
    {
     "name": "stdout",
     "output_type": "stream",
     "text": [
      "Acuracy: 0.803\n"
     ]
    },
    {
     "data": {
      "text/html": [
       "<div>\n",
       "<style scoped>\n",
       "    .dataframe tbody tr th:only-of-type {\n",
       "        vertical-align: middle;\n",
       "    }\n",
       "\n",
       "    .dataframe tbody tr th {\n",
       "        vertical-align: top;\n",
       "    }\n",
       "\n",
       "    .dataframe thead th {\n",
       "        text-align: right;\n",
       "    }\n",
       "</style>\n",
       "<table border=\"1\" class=\"dataframe\">\n",
       "  <thead>\n",
       "    <tr style=\"text-align: right;\">\n",
       "      <th>PREDICTION</th>\n",
       "      <th>nondiabetic</th>\n",
       "      <th>diabetic</th>\n",
       "      <th>Total</th>\n",
       "    </tr>\n",
       "  </thead>\n",
       "  <tbody>\n",
       "    <tr>\n",
       "      <th>nondiabetic</th>\n",
       "      <td>65</td>\n",
       "      <td>9</td>\n",
       "      <td>74</td>\n",
       "    </tr>\n",
       "    <tr>\n",
       "      <th>diabetic</th>\n",
       "      <td>16</td>\n",
       "      <td>28</td>\n",
       "      <td>44</td>\n",
       "    </tr>\n",
       "    <tr>\n",
       "      <th>Total</th>\n",
       "      <td>81</td>\n",
       "      <td>37</td>\n",
       "      <td>118</td>\n",
       "    </tr>\n",
       "  </tbody>\n",
       "</table>\n",
       "</div>"
      ],
      "text/plain": [
       "PREDICTION   nondiabetic  diabetic  Total\n",
       "nondiabetic           65         9     74\n",
       "diabetic              16        28     44\n",
       "Total                 81        37    118"
      ]
     },
     "execution_count": 87,
     "metadata": {},
     "output_type": "execute_result"
    }
   ],
   "source": [
    "# Random Forest Classifier Model Fitting to the RFE\n",
    "crossvalidation = KFold(n_splits=5, shuffle=True, random_state=1)\n",
    "score=np.mean(cross_val_score(modelRF, X_train_rfecv_RF,Y_train, scoring ='accuracy', cv= crossvalidation))\n",
    "print('Acuracy: %.3f' % score)\n",
    "\n",
    "#use the training data to train the estimator\n",
    "model_rfecv_RF  = modelRF.fit(X_train_rfecv_RF,Y_train)\n",
    "\n",
    "# making predictions and evaluating the model\n",
    "y_pred_test = model_rfecv_RF.predict(X_test_rfecv_RF)\n",
    "metrics2.loc['accuracy', 'RFECV_Random Forest']= accuracy_score(y_pred= y_pred_test, y_true=Y_test)\n",
    "metrics2.loc['precision','RFECV_Random Forest']= precision_score(y_pred= y_pred_test, y_true=Y_test)\n",
    "metrics2.loc['recall', 'RFECV_Random Forest']= recall_score(y_pred= y_pred_test, y_true=Y_test)\n",
    "\n",
    "# confusion matrix\n",
    "CM = confusion_matrix(y_pred=y_pred_test, y_true=Y_test)\n",
    "Cmatrix(CM)"
   ]
  },
  {
   "cell_type": "markdown",
   "metadata": {},
   "source": [
    "### Adaboost Classifier"
   ]
  },
  {
   "cell_type": "code",
   "execution_count": 88,
   "metadata": {},
   "outputs": [
    {
     "name": "stdout",
     "output_type": "stream",
     "text": [
      "Acuracy: 0.763\n"
     ]
    },
    {
     "data": {
      "text/html": [
       "<div>\n",
       "<style scoped>\n",
       "    .dataframe tbody tr th:only-of-type {\n",
       "        vertical-align: middle;\n",
       "    }\n",
       "\n",
       "    .dataframe tbody tr th {\n",
       "        vertical-align: top;\n",
       "    }\n",
       "\n",
       "    .dataframe thead th {\n",
       "        text-align: right;\n",
       "    }\n",
       "</style>\n",
       "<table border=\"1\" class=\"dataframe\">\n",
       "  <thead>\n",
       "    <tr style=\"text-align: right;\">\n",
       "      <th>PREDICTION</th>\n",
       "      <th>nondiabetic</th>\n",
       "      <th>diabetic</th>\n",
       "      <th>Total</th>\n",
       "    </tr>\n",
       "  </thead>\n",
       "  <tbody>\n",
       "    <tr>\n",
       "      <th>nondiabetic</th>\n",
       "      <td>58</td>\n",
       "      <td>16</td>\n",
       "      <td>74</td>\n",
       "    </tr>\n",
       "    <tr>\n",
       "      <th>diabetic</th>\n",
       "      <td>14</td>\n",
       "      <td>30</td>\n",
       "      <td>44</td>\n",
       "    </tr>\n",
       "    <tr>\n",
       "      <th>Total</th>\n",
       "      <td>72</td>\n",
       "      <td>46</td>\n",
       "      <td>118</td>\n",
       "    </tr>\n",
       "  </tbody>\n",
       "</table>\n",
       "</div>"
      ],
      "text/plain": [
       "PREDICTION   nondiabetic  diabetic  Total\n",
       "nondiabetic           58        16     74\n",
       "diabetic              14        30     44\n",
       "Total                 72        46    118"
      ]
     },
     "execution_count": 88,
     "metadata": {},
     "output_type": "execute_result"
    }
   ],
   "source": [
    "# Adaboost Classifier Model Fitting\n",
    "crossvalidation = KFold(n_splits=5, shuffle=True, random_state=1)\n",
    "score=np.mean(cross_val_score(modelADA, X_train,Y_train, scoring ='accuracy', cv= crossvalidation))\n",
    "print('Acuracy: %.3f' % score)\n",
    "\n",
    "#use the training data to train the estimator\n",
    "modelADA.fit(X_train,Y_train)\n",
    "\n",
    "# making predictions and evaluating the model\n",
    "y_pred_test = modelADA.predict(X_test)\n",
    "metrics.loc['accuracy', 'Adaboost']= accuracy_score(y_pred= y_pred_test, y_true=Y_test)\n",
    "metrics.loc['precision','Adaboost']= precision_score(y_pred= y_pred_test, y_true=Y_test)\n",
    "metrics.loc['recall', 'Adaboost']= recall_score(y_pred= y_pred_test, y_true=Y_test)\n",
    "\n",
    "# confusion matrix\n",
    "CM = confusion_matrix(y_pred=y_pred_test, y_true=Y_test)\n",
    "Cmatrix(CM)"
   ]
  },
  {
   "cell_type": "code",
   "execution_count": 89,
   "metadata": {},
   "outputs": [
    {
     "name": "stdout",
     "output_type": "stream",
     "text": [
      "Optimal number of features: 5\n",
      "Best features: Index(['Plasma_Glucose', 'Serum_insulin', 'BMI', 'Dia_pedi_funct', 'Age'], dtype='object')\n"
     ]
    }
   ],
   "source": [
    "# Use Recursive Feature elimination with cross validation for feature selection\n",
    "rfecv_ADA = RFECV(estimator = modelADA, step =1, cv = 5, scoring = 'accuracy')\n",
    "rfecv_ADA = rfecv_ADA.fit(X_train, Y_train)\n",
    "print('Optimal number of features:', rfecv_ADA.n_features_)\n",
    "print('Best features:', X_train.columns [rfecv_ADA.support_])"
   ]
  },
  {
   "cell_type": "code",
   "execution_count": 90,
   "metadata": {},
   "outputs": [
    {
     "data": {
      "text/plain": [
       "array([0.62815777, 0.73753247, 0.7407696 , 0.74130111, 0.7703343 ,\n",
       "       0.76657047, 0.73349928, 0.75208273])"
      ]
     },
     "execution_count": 90,
     "metadata": {},
     "output_type": "execute_result"
    }
   ],
   "source": [
    "# look at the RFE socores\n",
    "rfecv_ADA.grid_scores_"
   ]
  },
  {
   "cell_type": "code",
   "execution_count": 91,
   "metadata": {},
   "outputs": [
    {
     "data": {
      "image/png": "[encoded data removed]",
      "text/plain": [
       "<Figure size 432x288 with 1 Axes>"
      ]
     },
     "metadata": {
      "needs_background": "light"
     },
     "output_type": "display_data"
    }
   ],
   "source": [
    "# plot the RFE scores vs the number of selected features\n",
    "plt.figure()\n",
    "plt.xlabel(\"number of features selected\")\n",
    "plt.ylabel(\"cross validation score of number of selected features\")\n",
    "plt.plot(range(1, len(rfecv_ADA.grid_scores_) +1), rfecv_ADA.grid_scores_)\n",
    "plt.show()"
   ]
  },
  {
   "cell_type": "code",
   "execution_count": 92,
   "metadata": {},
   "outputs": [],
   "source": [
    "# Fit the RFE feature elimination resutl thru the classifier but first we must transform the X_train and X_test to be able to\n",
    "# to use the RFE results.\n",
    "\n",
    "X_train_rfecv_ADA = rfecv_ADA.transform(X_train)\n",
    "X_test_rfecv_ADA = rfecv_ADA.transform(X_test)"
   ]
  },
  {
   "cell_type": "code",
   "execution_count": 93,
   "metadata": {},
   "outputs": [
    {
     "name": "stdout",
     "output_type": "stream",
     "text": [
      "Acuracy: 0.795\n"
     ]
    },
    {
     "data": {
      "text/html": [
       "<div>\n",
       "<style scoped>\n",
       "    .dataframe tbody tr th:only-of-type {\n",
       "        vertical-align: middle;\n",
       "    }\n",
       "\n",
       "    .dataframe tbody tr th {\n",
       "        vertical-align: top;\n",
       "    }\n",
       "\n",
       "    .dataframe thead th {\n",
       "        text-align: right;\n",
       "    }\n",
       "</style>\n",
       "<table border=\"1\" class=\"dataframe\">\n",
       "  <thead>\n",
       "    <tr style=\"text-align: right;\">\n",
       "      <th>PREDICTION</th>\n",
       "      <th>nondiabetic</th>\n",
       "      <th>diabetic</th>\n",
       "      <th>Total</th>\n",
       "    </tr>\n",
       "  </thead>\n",
       "  <tbody>\n",
       "    <tr>\n",
       "      <th>nondiabetic</th>\n",
       "      <td>56</td>\n",
       "      <td>18</td>\n",
       "      <td>74</td>\n",
       "    </tr>\n",
       "    <tr>\n",
       "      <th>diabetic</th>\n",
       "      <td>11</td>\n",
       "      <td>33</td>\n",
       "      <td>44</td>\n",
       "    </tr>\n",
       "    <tr>\n",
       "      <th>Total</th>\n",
       "      <td>67</td>\n",
       "      <td>51</td>\n",
       "      <td>118</td>\n",
       "    </tr>\n",
       "  </tbody>\n",
       "</table>\n",
       "</div>"
      ],
      "text/plain": [
       "PREDICTION   nondiabetic  diabetic  Total\n",
       "nondiabetic           56        18     74\n",
       "diabetic              11        33     44\n",
       "Total                 67        51    118"
      ]
     },
     "execution_count": 93,
     "metadata": {},
     "output_type": "execute_result"
    }
   ],
   "source": [
    "# Adaboost Classifier Model Fitting to the RFE\n",
    "crossvalidation = KFold(n_splits=5, shuffle=True, random_state=1)\n",
    "score=np.mean(cross_val_score(modelADA, X_train_rfecv_ADA,Y_train, scoring ='accuracy', cv= crossvalidation))\n",
    "print('Acuracy: %.3f' % score)\n",
    "\n",
    "#use the training data to train the estimator\n",
    "model_rfecv_ADA  = modelADA.fit(X_train_rfecv_ADA,Y_train)\n",
    "\n",
    "# making predictions and evaluating the model\n",
    "y_pred_test = model_rfecv_ADA.predict(X_test_rfecv_ADA)\n",
    "metrics2.loc['accuracy', 'RFECV_Adaboost']= accuracy_score(y_pred= y_pred_test, y_true=Y_test)\n",
    "metrics2.loc['precision','RFECV_Adaboost']= precision_score(y_pred= y_pred_test, y_true=Y_test)\n",
    "metrics2.loc['recall', 'RFECV_Adaboost']= recall_score(y_pred= y_pred_test, y_true=Y_test)\n",
    "\n",
    "# confusion matrix\n",
    "CM = confusion_matrix(y_pred=y_pred_test, y_true=Y_test)\n",
    "Cmatrix(CM)"
   ]
  },
  {
   "cell_type": "markdown",
   "metadata": {},
   "source": [
    "### Gradient Boosting Classifier"
   ]
  },
  {
   "cell_type": "code",
   "execution_count": 94,
   "metadata": {},
   "outputs": [
    {
     "name": "stdout",
     "output_type": "stream",
     "text": [
      "Acuracy: 0.763\n"
     ]
    },
    {
     "data": {
      "text/html": [
       "<div>\n",
       "<style scoped>\n",
       "    .dataframe tbody tr th:only-of-type {\n",
       "        vertical-align: middle;\n",
       "    }\n",
       "\n",
       "    .dataframe tbody tr th {\n",
       "        vertical-align: top;\n",
       "    }\n",
       "\n",
       "    .dataframe thead th {\n",
       "        text-align: right;\n",
       "    }\n",
       "</style>\n",
       "<table border=\"1\" class=\"dataframe\">\n",
       "  <thead>\n",
       "    <tr style=\"text-align: right;\">\n",
       "      <th>PREDICTION</th>\n",
       "      <th>nondiabetic</th>\n",
       "      <th>diabetic</th>\n",
       "      <th>Total</th>\n",
       "    </tr>\n",
       "  </thead>\n",
       "  <tbody>\n",
       "    <tr>\n",
       "      <th>nondiabetic</th>\n",
       "      <td>61</td>\n",
       "      <td>13</td>\n",
       "      <td>74</td>\n",
       "    </tr>\n",
       "    <tr>\n",
       "      <th>diabetic</th>\n",
       "      <td>18</td>\n",
       "      <td>26</td>\n",
       "      <td>44</td>\n",
       "    </tr>\n",
       "    <tr>\n",
       "      <th>Total</th>\n",
       "      <td>79</td>\n",
       "      <td>39</td>\n",
       "      <td>118</td>\n",
       "    </tr>\n",
       "  </tbody>\n",
       "</table>\n",
       "</div>"
      ],
      "text/plain": [
       "PREDICTION   nondiabetic  diabetic  Total\n",
       "nondiabetic           61        13     74\n",
       "diabetic              18        26     44\n",
       "Total                 79        39    118"
      ]
     },
     "execution_count": 94,
     "metadata": {},
     "output_type": "execute_result"
    }
   ],
   "source": [
    "# Gradient Boosting Model Fitting\n",
    "crossvalidation = KFold(n_splits=5, shuffle=True, random_state=1)\n",
    "score=np.mean(cross_val_score(modelGB, X_train,Y_train, scoring ='accuracy', cv= crossvalidation))\n",
    "print('Acuracy: %.3f' % score)\n",
    "\n",
    "#use the training data to train the estimator\n",
    "modelGB.fit(X_train,Y_train)\n",
    "\n",
    "# making predictions and evaluating the model\n",
    "y_pred_test = modelGB.predict(X_test)\n",
    "metrics.loc['accuracy', 'Gradient Boosting']= accuracy_score(y_pred= y_pred_test, y_true=Y_test)\n",
    "metrics.loc['precision','Gradient Boosting']= precision_score(y_pred= y_pred_test, y_true=Y_test)\n",
    "metrics.loc['recall', 'Gradient Boosting']= recall_score(y_pred= y_pred_test, y_true=Y_test)\n",
    "\n",
    "# confusion matrix\n",
    "CM = confusion_matrix(y_pred=y_pred_test, y_true=Y_test)\n",
    "Cmatrix(CM)"
   ]
  },
  {
   "cell_type": "code",
   "execution_count": 95,
   "metadata": {},
   "outputs": [
    {
     "name": "stdout",
     "output_type": "stream",
     "text": [
      "Optimal number of features: 5\n",
      "Best features: Index(['Plasma_Glucose', 'Serum_insulin', 'BMI', 'Dia_pedi_funct', 'Age'], dtype='object')\n"
     ]
    }
   ],
   "source": [
    "# Use Recursive Feature elimination with cross validation for feature selection\n",
    "rfecv_GB = RFECV(estimator = modelGB, step =1, cv = 5, scoring = 'accuracy')\n",
    "rfecv_GB = rfecv_GB.fit(X_train, Y_train)\n",
    "print('Optimal number of features:', rfecv_GB.n_features_)\n",
    "print('Best features:', X_train.columns [rfecv_GB.support_])"
   ]
  },
  {
   "cell_type": "code",
   "execution_count": 96,
   "metadata": {},
   "outputs": [
    {
     "data": {
      "text/plain": [
       "array([0.7479822 , 0.75551708, 0.78481722, 0.79195767, 0.81047379,\n",
       "       0.77740741, 0.79215488, 0.78475228])"
      ]
     },
     "execution_count": 96,
     "metadata": {},
     "output_type": "execute_result"
    }
   ],
   "source": [
    "# look at the RFE socores\n",
    "rfecv_GB.grid_scores_"
   ]
  },
  {
   "cell_type": "code",
   "execution_count": 97,
   "metadata": {},
   "outputs": [
    {
     "data": {
      "image/png": "[encoded data removed]",
      "text/plain": [
       "<Figure size 432x288 with 1 Axes>"
      ]
     },
     "metadata": {
      "needs_background": "light"
     },
     "output_type": "display_data"
    }
   ],
   "source": [
    "# plot the RFE scores vs the number of selected features\n",
    "plt.figure()\n",
    "plt.xlabel(\"number of features selected\")\n",
    "plt.ylabel(\"cross validation score of number of selected features\")\n",
    "plt.plot(range(1, len(rfecv_GB.grid_scores_) +1), rfecv_GB.grid_scores_)\n",
    "plt.show()"
   ]
  },
  {
   "cell_type": "code",
   "execution_count": 98,
   "metadata": {},
   "outputs": [],
   "source": [
    "# Fit the RFE feature elimination resutl thru the classifier but first we must transform the X_train and X_test to be able to\n",
    "# to use the RFE results.\n",
    "\n",
    "X_train_rfecv_GB = rfecv_GB.transform(X_train)\n",
    "X_test_rfecv_GB = rfecv_GB.transform(X_test)"
   ]
  },
  {
   "cell_type": "code",
   "execution_count": 99,
   "metadata": {},
   "outputs": [
    {
     "name": "stdout",
     "output_type": "stream",
     "text": [
      "Acuracy: 0.781\n"
     ]
    },
    {
     "data": {
      "text/html": [
       "<div>\n",
       "<style scoped>\n",
       "    .dataframe tbody tr th:only-of-type {\n",
       "        vertical-align: middle;\n",
       "    }\n",
       "\n",
       "    .dataframe tbody tr th {\n",
       "        vertical-align: top;\n",
       "    }\n",
       "\n",
       "    .dataframe thead th {\n",
       "        text-align: right;\n",
       "    }\n",
       "</style>\n",
       "<table border=\"1\" class=\"dataframe\">\n",
       "  <thead>\n",
       "    <tr style=\"text-align: right;\">\n",
       "      <th>PREDICTION</th>\n",
       "      <th>nondiabetic</th>\n",
       "      <th>diabetic</th>\n",
       "      <th>Total</th>\n",
       "    </tr>\n",
       "  </thead>\n",
       "  <tbody>\n",
       "    <tr>\n",
       "      <th>nondiabetic</th>\n",
       "      <td>61</td>\n",
       "      <td>13</td>\n",
       "      <td>74</td>\n",
       "    </tr>\n",
       "    <tr>\n",
       "      <th>diabetic</th>\n",
       "      <td>16</td>\n",
       "      <td>28</td>\n",
       "      <td>44</td>\n",
       "    </tr>\n",
       "    <tr>\n",
       "      <th>Total</th>\n",
       "      <td>77</td>\n",
       "      <td>41</td>\n",
       "      <td>118</td>\n",
       "    </tr>\n",
       "  </tbody>\n",
       "</table>\n",
       "</div>"
      ],
      "text/plain": [
       "PREDICTION   nondiabetic  diabetic  Total\n",
       "nondiabetic           61        13     74\n",
       "diabetic              16        28     44\n",
       "Total                 77        41    118"
      ]
     },
     "execution_count": 99,
     "metadata": {},
     "output_type": "execute_result"
    }
   ],
   "source": [
    "# Gradient bosting Classifier Model Fitting to the RFE\n",
    "crossvalidation = KFold(n_splits=5, shuffle=True, random_state=1)\n",
    "score=np.mean(cross_val_score(modelGB, X_train_rfecv_GB,Y_train, scoring ='accuracy', cv= crossvalidation))\n",
    "print('Acuracy: %.3f' % score)\n",
    "\n",
    "#use the training data to train the estimator\n",
    "model_rfecv_GB  = modelGB.fit(X_train_rfecv_GB,Y_train)\n",
    "\n",
    "# making predictions and evaluating the model\n",
    "y_pred_test = model_rfecv_GB.predict(X_test_rfecv_GB)\n",
    "metrics2.loc['accuracy', 'RFECV_Gradient Boosting']= accuracy_score(y_pred= y_pred_test, y_true=Y_test)\n",
    "metrics2.loc['precision','RFECV_Gradient Boosting']= precision_score(y_pred= y_pred_test, y_true=Y_test)\n",
    "metrics2.loc['recall', 'RFECV_Gradient Boosting']= recall_score(y_pred= y_pred_test, y_true=Y_test)\n",
    "\n",
    "# confusion matrix\n",
    "CM = confusion_matrix(y_pred=y_pred_test, y_true=Y_test)\n",
    "Cmatrix(CM)"
   ]
  },
  {
   "cell_type": "markdown",
   "metadata": {},
   "source": [
    "### Model Evaluation"
   ]
  },
  {
   "cell_type": "code",
   "execution_count": 100,
   "metadata": {},
   "outputs": [
    {
     "data": {
      "text/html": [
       "<div>\n",
       "<style scoped>\n",
       "    .dataframe tbody tr th:only-of-type {\n",
       "        vertical-align: middle;\n",
       "    }\n",
       "\n",
       "    .dataframe tbody tr th {\n",
       "        vertical-align: top;\n",
       "    }\n",
       "\n",
       "    .dataframe thead th {\n",
       "        text-align: right;\n",
       "    }\n",
       "</style>\n",
       "<table border=\"1\" class=\"dataframe\">\n",
       "  <thead>\n",
       "    <tr style=\"text-align: right;\">\n",
       "      <th></th>\n",
       "      <th>LogisticReg</th>\n",
       "      <th>Random Forest</th>\n",
       "      <th>Adaboost</th>\n",
       "      <th>Gradient Boosting</th>\n",
       "    </tr>\n",
       "  </thead>\n",
       "  <tbody>\n",
       "    <tr>\n",
       "      <th>accuracy</th>\n",
       "      <td>73.7288</td>\n",
       "      <td>77.9661</td>\n",
       "      <td>74.5763</td>\n",
       "      <td>73.7288</td>\n",
       "    </tr>\n",
       "    <tr>\n",
       "      <th>precision</th>\n",
       "      <td>66.6667</td>\n",
       "      <td>72.5</td>\n",
       "      <td>65.2174</td>\n",
       "      <td>66.6667</td>\n",
       "    </tr>\n",
       "    <tr>\n",
       "      <th>recall</th>\n",
       "      <td>59.0909</td>\n",
       "      <td>65.9091</td>\n",
       "      <td>68.1818</td>\n",
       "      <td>59.0909</td>\n",
       "    </tr>\n",
       "  </tbody>\n",
       "</table>\n",
       "</div>"
      ],
      "text/plain": [
       "          LogisticReg Random Forest Adaboost Gradient Boosting\n",
       "accuracy      73.7288       77.9661  74.5763           73.7288\n",
       "precision     66.6667          72.5  65.2174           66.6667\n",
       "recall        59.0909       65.9091  68.1818           59.0909"
      ]
     },
     "execution_count": 100,
     "metadata": {},
     "output_type": "execute_result"
    }
   ],
   "source": [
    "# look at the recorded metrics for the classification models\n",
    "100*metrics"
   ]
  },
  {
   "cell_type": "code",
   "execution_count": 101,
   "metadata": {},
   "outputs": [
    {
     "data": {
      "text/html": [
       "<div>\n",
       "<style scoped>\n",
       "    .dataframe tbody tr th:only-of-type {\n",
       "        vertical-align: middle;\n",
       "    }\n",
       "\n",
       "    .dataframe tbody tr th {\n",
       "        vertical-align: top;\n",
       "    }\n",
       "\n",
       "    .dataframe thead th {\n",
       "        text-align: right;\n",
       "    }\n",
       "</style>\n",
       "<table border=\"1\" class=\"dataframe\">\n",
       "  <thead>\n",
       "    <tr style=\"text-align: right;\">\n",
       "      <th></th>\n",
       "      <th>RFECV_LogisticReg</th>\n",
       "      <th>RFECV_Random Forest</th>\n",
       "      <th>RFECV_Adaboost</th>\n",
       "      <th>RFECV_Gradient Boosting</th>\n",
       "    </tr>\n",
       "  </thead>\n",
       "  <tbody>\n",
       "    <tr>\n",
       "      <th>accuracy</th>\n",
       "      <td>74.5763</td>\n",
       "      <td>78.8136</td>\n",
       "      <td>75.4237</td>\n",
       "      <td>75.4237</td>\n",
       "    </tr>\n",
       "    <tr>\n",
       "      <th>precision</th>\n",
       "      <td>67.5</td>\n",
       "      <td>75.6757</td>\n",
       "      <td>64.7059</td>\n",
       "      <td>68.2927</td>\n",
       "    </tr>\n",
       "    <tr>\n",
       "      <th>recall</th>\n",
       "      <td>61.3636</td>\n",
       "      <td>63.6364</td>\n",
       "      <td>75</td>\n",
       "      <td>63.6364</td>\n",
       "    </tr>\n",
       "  </tbody>\n",
       "</table>\n",
       "</div>"
      ],
      "text/plain": [
       "          RFECV_LogisticReg RFECV_Random Forest RFECV_Adaboost  \\\n",
       "accuracy            74.5763             78.8136        75.4237   \n",
       "precision              67.5             75.6757        64.7059   \n",
       "recall              61.3636             63.6364             75   \n",
       "\n",
       "          RFECV_Gradient Boosting  \n",
       "accuracy                  75.4237  \n",
       "precision                 68.2927  \n",
       "recall                    63.6364  "
      ]
     },
     "execution_count": 101,
     "metadata": {},
     "output_type": "execute_result"
    }
   ],
   "source": [
    "# Look at the recorded metrics for the classification models with RFE\n",
    "100*metrics2"
   ]
  },
  {
   "cell_type": "markdown",
   "metadata": {},
   "source": [
    "### Note: Accuracy describes the proportion of the total number of predictions that are corect. Overall how often the model predicts correctly. Precision describes the proportion of positive prediction that are actually correct. when the model predicts diabetic(1) how ofen in the model correct. Recall describes the proportion of positive observed values correctly predicted as such. The proportion of actual diabetic patients the model will correctly predict as such"
   ]
  },
  {
   "cell_type": "code",
   "execution_count": 102,
   "metadata": {},
   "outputs": [
    {
     "data": {
      "image/png": "[encoded data removed]",
      "text/plain": [
       "<Figure size 576x360 with 1 Axes>"
      ]
     },
     "metadata": {
      "needs_background": "light"
     },
     "output_type": "display_data"
    }
   ],
   "source": [
    "# plot the model metrics for visualization\n",
    "fig1, ax = plt.subplots(figsize=(8,5))\n",
    "metrics.plot(kind='barh', ax=ax)\n",
    "ax.grid();"
   ]
  },
  {
   "cell_type": "code",
   "execution_count": 103,
   "metadata": {},
   "outputs": [
    {
     "data": {
      "image/png": "[encoded data removed]",
      "text/plain": [
       "<Figure size 576x360 with 1 Axes>"
      ]
     },
     "metadata": {
      "needs_background": "light"
     },
     "output_type": "display_data"
    }
   ],
   "source": [
    "# plot the model metrics2 for models with RFE for  visualization\n",
    "fig2, ax = plt.subplots(figsize=(8,5))\n",
    "metrics2.plot(kind='barh', ax=ax)\n",
    "ax.grid();"
   ]
  },
  {
   "cell_type": "markdown",
   "metadata": {},
   "source": [
    " ### Based on the metrics I will look at classifiers Random Forest and Gradient boositing with RFECV."
   ]
  },
  {
   "cell_type": "code",
   "execution_count": 104,
   "metadata": {},
   "outputs": [],
   "source": [
    "# look at the relationship between precision and recall metrics for RFECV_RF and RFECV_Gradient Boosting\n",
    "# to determine which is the better model with higher recall score\n",
    "precision_rfecv_RF, recall_rfecv_RF, threshold_rfecv_RF = precision_recall_curve(y_true=Y_test,\n",
    "                                                               probas_pred=model_rfecv_RF.predict_proba(X_test_rfecv_RF)\n",
    "                                                              [:,1])\n",
    "precision_rfecv_GB, recall_rfecv_GB, threshold_rfecv_GB = precision_recall_curve(y_true=Y_test,\n",
    "                                                               probas_pred=model_rfecv_GB.predict_proba(X_test_rfecv_GB)[:,1])"
   ]
  },
  {
   "cell_type": "code",
   "execution_count": 105,
   "metadata": {},
   "outputs": [
    {
     "data": {
      "image/png": "[encoded data removed]",
      "text/plain": [
       "<Figure size 576x360 with 1 Axes>"
      ]
     },
     "metadata": {
      "needs_background": "light"
     },
     "output_type": "display_data"
    }
   ],
   "source": [
    "# make a plot using precision and recall metrics for the two models\n",
    "fig3, ax = plt.subplots(figsize=(8,5))\n",
    "ax.plot(precision_rfecv_RF, recall_rfecv_RF, label='rfecv_Random Forest')\n",
    "ax.plot(precision_rfecv_GB, recall_rfecv_GB, label='rfecv_Gradient Boosting')\n",
    "ax.set_xlabel('Precision')\n",
    "ax.set_ylabel('Recall')\n",
    "ax.set_title('Precision-Recall Curve')\n",
    "ax.hlines(y=0.7, xmin=0, xmax=1, color='red')\n",
    "ax.legend()\n",
    "ax.grid();\n",
    "            "
   ]
  },
  {
   "cell_type": "markdown",
   "metadata": {},
   "source": [
    "### The Precision-Recall Curve shows that for the majority of the precision points the rfecv_Gradient Boosting model has a higher recall. This shows that this is the better model for our predictions."
   ]
  },
  {
   "cell_type": "markdown",
   "metadata": {},
   "source": [
    "### Adjusting the Classification Threshold"
   ]
  },
  {
   "cell_type": "code",
   "execution_count": 106,
   "metadata": {},
   "outputs": [
    {
     "data": {
      "image/png": "[encoded data removed]",
      "text/plain": [
       "<Figure size 576x360 with 1 Axes>"
      ]
     },
     "metadata": {
      "needs_background": "light"
     },
     "output_type": "display_data"
    }
   ],
   "source": [
    "#Looking at the relationship between the  threshold and precision and recall metrics to deterimine \n",
    "# the optimal threshold for model_rfecv_GB to have a higher recall score\n",
    "fig4,ax=plt.subplots(figsize=(8,5))\n",
    "ax.plot(threshold_rfecv_GB, precision_rfecv_GB[1:], label='Precision')\n",
    "ax.plot(threshold_rfecv_GB, recall_rfecv_GB[1:], label='Recall')\n",
    "ax.set_xlabel('Classification Threshold')\n",
    "ax.set_ylabel('Precision, Recall')\n",
    "ax.hlines(y=0.6, xmin=0,xmax=1, color='red')\n",
    "ax.legend()\n",
    "ax.grid();"
   ]
  },
  {
   "cell_type": "markdown",
   "metadata": {},
   "source": [
    "### Modifiy the rfecv_Gradient Boosting Classifier with to classfication thereshold of 0.2"
   ]
  },
  {
   "cell_type": "code",
   "execution_count": 114,
   "metadata": {},
   "outputs": [
    {
     "name": "stdout",
     "output_type": "stream",
     "text": [
      "Recall: 90.9090909090909\n",
      "Precision: 62.5\n"
     ]
    },
    {
     "data": {
      "text/html": [
       "<div>\n",
       "<style scoped>\n",
       "    .dataframe tbody tr th:only-of-type {\n",
       "        vertical-align: middle;\n",
       "    }\n",
       "\n",
       "    .dataframe tbody tr th {\n",
       "        vertical-align: top;\n",
       "    }\n",
       "\n",
       "    .dataframe thead th {\n",
       "        text-align: right;\n",
       "    }\n",
       "</style>\n",
       "<table border=\"1\" class=\"dataframe\">\n",
       "  <thead>\n",
       "    <tr style=\"text-align: right;\">\n",
       "      <th>PREDICTION</th>\n",
       "      <th>nondiabetic</th>\n",
       "      <th>diabetic</th>\n",
       "      <th>Total</th>\n",
       "    </tr>\n",
       "  </thead>\n",
       "  <tbody>\n",
       "    <tr>\n",
       "      <th>nondiabetic</th>\n",
       "      <td>50</td>\n",
       "      <td>24</td>\n",
       "      <td>74</td>\n",
       "    </tr>\n",
       "    <tr>\n",
       "      <th>diabetic</th>\n",
       "      <td>4</td>\n",
       "      <td>40</td>\n",
       "      <td>44</td>\n",
       "    </tr>\n",
       "    <tr>\n",
       "      <th>Total</th>\n",
       "      <td>54</td>\n",
       "      <td>64</td>\n",
       "      <td>118</td>\n",
       "    </tr>\n",
       "  </tbody>\n",
       "</table>\n",
       "</div>"
      ],
      "text/plain": [
       "PREDICTION   nondiabetic  diabetic  Total\n",
       "nondiabetic           50        24     74\n",
       "diabetic               4        40     44\n",
       "Total                 54        64    118"
      ]
     },
     "execution_count": 114,
     "metadata": {},
     "output_type": "execute_result"
    }
   ],
   "source": [
    "y_pred_proba = model_rfecv_GB.predict_proba(X_test_rfecv_GB)[:,1]\n",
    "y_pred_test = (y_pred_proba >=0.15).astype('int')\n",
    "\n",
    "#confusion matrix\n",
    "CM = confusion_matrix(y_pred=y_pred_test, y_true=Y_test)\n",
    "print(\"Recall:\", 100*recall_score(y_pred=y_pred_test, y_true=Y_test))\n",
    "print(\"Precision:\", 100*precision_score(y_pred=y_pred_test, y_true=Y_test))\n",
    "Cmatrix(CM)\n"
   ]
  },
  {
   "cell_type": "markdown",
   "metadata": {},
   "source": [
    "### The rfecv_ Gradient Boosting Cassifier with a modified classfication threshold to 0.15 will be used for predictions. This model yields a precision score of 63 % and a recall score of 91%. This means that 91% of the predicted to be diabetic actually are diabetic.¶"
   ]
  },
  {
   "cell_type": "code",
   "execution_count": null,
   "metadata": {},
   "outputs": [],
   "source": []
  }
 ],
 "metadata": {
  "kernelspec": {
   "display_name": "Python 3",
   "language": "python",
   "name": "python3"
  },
  "language_info": {
   "codemirror_mode": {
    "name": "ipython",
    "version": 3
   },
   "file_extension": ".py",
   "mimetype": "text/x-python",
   "name": "python",
   "nbconvert_exporter": "python",
   "pygments_lexer": "ipython3",
   "version": "3.7.3"
  }
 },
 "nbformat": 4,
 "nbformat_minor": 2
}
