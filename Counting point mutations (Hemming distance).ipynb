{
 "cells": [
  {
   "cell_type": "markdown",
   "metadata": {},
   "source": [
    "Objective: Find the Hemming distance (number of point mutations) between two strings (DNA sequences). Here I first create a file containing the two DNA seqeuces as strings seperated by lines. Using the with open fuction the file is then opened and the contents are read. Then using the splitlines comand the string are split and placed in to a list for indexing. The strings in the list, which are to be comapred to determine the hemming distance, are then named by referencing their index location on the list. "
   ]
  },
  {
   "cell_type": "code",
   "execution_count": 1,
   "metadata": {},
   "outputs": [],
   "source": [
    "# create, open, and write text to a file\n",
    "with open ('DNAstrings.txt', 'w') as fh:\n",
    "    fh.write('GAGCCTACTAACGGGAT \\nCATCGTAATGACGGCCT')\n"
   ]
  },
  {
   "cell_type": "code",
   "execution_count": 2,
   "metadata": {},
   "outputs": [
    {
     "name": "stdout",
     "output_type": "stream",
     "text": [
      "['GAGCCTACTAACGGGAT ', 'CATCGTAATGACGGCCT']\n"
     ]
    }
   ],
   "source": [
    "# open file and look at the strings in list form.\n",
    "with open ('DNAstrings.txt', 'r') as fh:\n",
    "    contents = fh.read()\n",
    "# split the strings in the list\n",
    "    contents2 = contents.splitlines()\n",
    "    print (contents2)"
   ]
  },
  {
   "cell_type": "code",
   "execution_count": 3,
   "metadata": {},
   "outputs": [
    {
     "name": "stdout",
     "output_type": "stream",
     "text": [
      "GAGCCTACTAACGGGAT \n",
      "CATCGTAATGACGGCCT\n"
     ]
    }
   ],
   "source": [
    "# look at the strings in list lines form:\n",
    "for line in contents2:\n",
    "    print(line)"
   ]
  },
  {
   "cell_type": "code",
   "execution_count": 4,
   "metadata": {},
   "outputs": [],
   "source": [
    "# name the DNA sequences by index on the list here named contents2.\n",
    "DNAst1 = contents2[0]\n",
    "DNAst2 = contents2[1]"
   ]
  },
  {
   "cell_type": "code",
   "execution_count": 5,
   "metadata": {},
   "outputs": [
    {
     "name": "stdout",
     "output_type": "stream",
     "text": [
      "The Hemming distance betwen the two DNA sequences is: 7\n"
     ]
    }
   ],
   "source": [
    "# compare the two DNA sequences using the zip function and count the number of different bases.\n",
    "Hemming_distance = 0\n",
    "for st1, st2 in zip(DNAst1, DNAst2):\n",
    "    if st1 != st2:\n",
    "        Hemming_distance +=1\n",
    "print('The Hemming distance betwen the two DNA sequences is:', (Hemming_distance))\n"
   ]
  },
  {
   "cell_type": "code",
   "execution_count": null,
   "metadata": {},
   "outputs": [],
   "source": []
  }
 ],
 "metadata": {
  "kernelspec": {
   "display_name": "Python 3",
   "language": "python",
   "name": "python3"
  },
  "language_info": {
   "codemirror_mode": {
    "name": "ipython",
    "version": 3
   },
   "file_extension": ".py",
   "mimetype": "text/x-python",
   "name": "python",
   "nbconvert_exporter": "python",
   "pygments_lexer": "ipython3",
   "version": "3.7.3"
  }
 },
 "nbformat": 4,
 "nbformat_minor": 2
}
