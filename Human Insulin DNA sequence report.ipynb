{
 "cells": [
  {
   "cell_type": "markdown",
   "metadata": {},
   "source": [
    "### Analysis of Insulin: from DNA sequence to protein Report"
   ]
  },
  {
   "cell_type": "markdown",
   "metadata": {},
   "source": [
    "#### In this project the DNA sequence for human insulin, obtained from NCBI:NM_000207.3 is analysed and processed. By applying python and a toolkit module the DNA sequence is validated. Addtionally,  a combination of functions is applyed to quickly produce  reverese complement and transcription results; furthermore,  statistical paramerters such as nucleotinde counts, GC content/ratio, & ratio of codon use for a given amino acid are calculated. Finally,  open reading frames  and  proteins found within the DNA sequence are elucidated and presented in a consice report. This report is a follow up to the Human Insulin DNA Analysis project."
   ]
  },
  {
   "cell_type": "code",
   "execution_count": 1,
   "metadata": {},
   "outputs": [],
   "source": [
    "from DNAtoolkit import *"
   ]
  },
  {
   "cell_type": "code",
   "execution_count": 2,
   "metadata": {},
   "outputs": [],
   "source": [
    "# Insulin DNA NCBI Reference Sequence: NM_000207.3\n",
    "DNA = 'AGCCCTCCAGGACAGGCTGCATCAGAAGAGGCCATCAAGCAGATCACTGTCCTTCTGCCATGGCCCTGTGGATGCGCCTCCTGCCCCTGCTGGCGCTGCTGGCCCTCTGGGGACCTGACCCAGCCGCAGCCTTTGTGAACCAACACCTGTGCGGCTCACACCTGGTGGAAGCTCTCTACCTAGTGTGCGGGGAACGAGGCTTCTTCTACACACCCAAGACCCGCCGGGAGGCAGAGGACCTGCAGGTGGGGCAGGTGGAGCTGGGCGGGGGCCCTGGTGCAGGCAGCCTGCAGCCCTTGGCCCTGGAGGGGTCCCTGCAGAAGCGTGGCATTGTGGAACAATGCTGTACCAGCATCTGCTCCCTCTACCAGCTGGAGAACTACTGCAACTAGACGCAGCCCGCAGGCAGCCCCACACCCGCCGCCTCCTGCACCGAGAGAGATGGAATAAAGCCCTTGAACCAGC'"
   ]
  },
  {
   "cell_type": "code",
   "execution_count": 3,
   "metadata": {},
   "outputs": [
    {
     "name": "stdout",
     "output_type": "stream",
     "text": [
      " 5'AGCCCTCCAGGACAGGCTGCATCAGAAGAGGCCATCAAGCAGATCACTGTCCTTCTGCCATGGCCCTGTGGATGCGCCTCCTGCCCCTGCTGGCGCTGCTGGCCCTCTGGGGACCTGACCCAGCCGCAGCCTTTGTGAACCAACACCTGTGCGGCTCACACCTGGTGGAAGCTCTCTACCTAGTGTGCGGGGAACGAGGCTTCTTCTACACACCCAAGACCCGCCGGGAGGCAGAGGACCTGCAGGTGGGGCAGGTGGAGCTGGGCGGGGGCCCTGGTGCAGGCAGCCTGCAGCCCTTGGCCCTGGAGGGGTCCCTGCAGAAGCGTGGCATTGTGGAACAATGCTGTACCAGCATCTGCTCCCTCTACCAGCTGGAGAACTACTGCAACTAGACGCAGCCCGCAGGCAGCCCCACACCCGCCGCCTCCTGCACCGAGAGAGATGGAATAAAGCCCTTGAACCAGC3'\n"
     ]
    }
   ],
   "source": [
    "# validate string to be DNA sequence by using validateSeq function:\n",
    "print(f\" 5'{validateSeq(DNA)}3'\")"
   ]
  },
  {
   "cell_type": "code",
   "execution_count": 6,
   "metadata": {
    "scrolled": false
   },
   "outputs": [
    {
     "name": "stdout",
     "output_type": "stream",
     "text": [
      " \n",
      "Sequence:\n",
      " 5'AGCCCTCCAGGACAGGCTGCATCAGAAGAGGCCATCAAGCAGATCACTGTCCTTCTGCCATGGCCCTGTGGATGCGCCTCCTGCCCCTGCTGGCGCTGCTGGCCCTCTGGGGACCTGACCCAGCCGCAGCCTTTGTGAACCAACACCTGTGCGGCTCACACCTGGTGGAAGCTCTCTACCTAGTGTGCGGGGAACGAGGCTTCTTCTACACACCCAAGACCCGCCGGGAGGCAGAGGACCTGCAGGTGGGGCAGGTGGAGCTGGGCGGGGGCCCTGGTGCAGGCAGCCTGCAGCCCTTGGCCCTGGAGGGGTCCCTGCAGAAGCGTGGCATTGTGGAACAATGCTGTACCAGCATCTGCTCCCTCTACCAGCTGGAGAACTACTGCAACTAGACGCAGCCCGCAGGCAGCCCCACACCCGCCGCCTCCTGCACCGAGAGAGATGGAATAAAGCCCTTGAACCAGC3'\n",
      "\n",
      "[1] Sequence Length:465\n",
      "\n",
      "[2] Nucleotide Frequency:\n",
      " {'A': 91, 'C': 156, 'G': 141, 'T': 77}\n",
      "\n",
      "[3] GC content of DNA Sequence is 64%\n",
      "\n",
      "[4] The GC content in DNA subsections k=75: [59, 68, 61, 75, 60, 61]%\n",
      "\n",
      "[5] Complementary DNA Sequence:\n",
      " 5'GCTGGTTCAAGGGCTTTATTCCATCTCTCTCGGTGCAGGAGGCGGCGGGTGTGGGGCTGCCTGCGGGCTGCGTCTAGTTGCAGTAGTTCTCCAGCTGGTAGAGGGAGCAGATGCTGGTACAGCATTGTTCCACAATGCCACGCTTCTGCAGGGACCCCTCCAGGGCCAAGGGCTGCAGGCTGCCTGCACCAGGGCCCCCGCCCAGCTCCACCTGCCCCACCTGCAGGTCCTCTGCCTCCCGGCGGGTCTTGGGTGTGTAGAAGAAGCCTCGTTCCCCGCACACTAGGTAGAGAGCTTCCACCAGGTGTGAGCCGCACAGGTGTTGGTTCACAAAGGCTGCGGCTGGGTCAGGTCCCCAGAGGGCCAGCAGCGCCAGCAGGGGCAGGAGGCGCATCCACAGGGCCATGGCAGAAGGACAGTGATCTGCTTGATGGCCTCTTCTGATGCAGCCTGTCCTGGAGGGCT3'\n",
      "\n",
      "[6] RNA sequence from DNA sequence:\n",
      " 5'AGCCCUCCAGGACAGGCUGCAUCAGAAGAGGCCAUCAAGCAGAUCACUGUCCUUCUGCCAUGGCCCUGUGGAUGCGCCUCCUGCCCCUGCUGGCGCUGCUGGCCCUCUGGGGACCUGACCCAGCCGCAGCCUUUGUGAACCAACACCUGUGCGGCUCACACCUGGUGGAAGCUCUCUACCUAGUGUGCGGGGAACGAGGCUUCUUCUACACACCCAAGACCCGCCGGGAGGCAGAGGACCUGCAGGUGGGGCAGGUGGAGCUGGGCGGGGGCCCUGGUGCAGGCAGCCUGCAGCCCUUGGCCCUGGAGGGGUCCCUGCAGAAGCGUGGCAUUGUGGAACAAUGCUGUACCAGCAUCUGCUCCCUCUACCAGCUGGAGAACUACUGCAACUAGACGCAGCCCGCAGGCAGCCCCACACCCGCCGCCUCCUGCACCGAGAGAGAUGGAAUAAAGCCCUUGAACCAGC3'\n",
      "\n",
      "[7] Amino Acid sequence from DNA: ['S', 'P', 'P', 'G', 'Q', 'A', 'A', 'S', 'E', 'E', 'A', 'I', 'K', 'Q', 'I', 'T', 'V', 'L', 'L', 'P', 'W', 'P', 'C', 'G', 'C', 'A', 'S', 'C', 'P', 'C', 'W', 'R', 'C', 'W', 'P', 'S', 'G', 'D', 'L', 'T', 'Q', 'P', 'Q', 'P', 'L', '_', 'T', 'N', 'T', 'C', 'A', 'A', 'H', 'T', 'W', 'W', 'K', 'L', 'S', 'T', '_', 'C', 'A', 'G', 'N', 'E', 'A', 'S', 'S', 'T', 'H', 'P', 'R', 'P', 'A', 'G', 'R', 'Q', 'R', 'T', 'C', 'R', 'W', 'G', 'R', 'W', 'S', 'W', 'A', 'G', 'A', 'L', 'V', 'Q', 'A', 'A', 'C', 'S', 'P', 'W', 'P', 'W', 'R', 'G', 'P', 'C', 'R', 'S', 'V', 'A', 'L', 'W', 'N', 'N', 'A', 'V', 'P', 'A', 'S', 'A', 'P', 'S', 'T', 'S', 'W', 'R', 'T', 'T', 'A', 'T', 'R', 'R', 'S', 'P', 'Q', 'A', 'A', 'P', 'H', 'P', 'P', 'P', 'P', 'A', 'P', 'R', 'E', 'M', 'E', '_', 'S', 'P', '_', 'T', 'S']\n",
      "\n",
      "[8] Codon frequency (V): {'GTC': 0.25, 'GTG': 0.5, 'GTA': 0.25}\n",
      "\n",
      "[9] Codon frequency (L): {'CTT': 0.14, 'CTG': 0.43, 'TTG': 0.29, 'CTC': 0.14}\n",
      "\n",
      "[10]  Reading frames:\n",
      "['S', 'P', 'P', 'G', 'Q', 'A', 'A', 'S', 'E', 'E', 'A', 'I', 'K', 'Q', 'I', 'T', 'V', 'L', 'L', 'P', 'W', 'P', 'C', 'G', 'C', 'A', 'S', 'C', 'P', 'C', 'W', 'R', 'C', 'W', 'P', 'S', 'G', 'D', 'L', 'T', 'Q', 'P', 'Q', 'P', 'L', '_', 'T', 'N', 'T', 'C', 'A', 'A', 'H', 'T', 'W', 'W', 'K', 'L', 'S', 'T', '_', 'C', 'A', 'G', 'N', 'E', 'A', 'S', 'S', 'T', 'H', 'P', 'R', 'P', 'A', 'G', 'R', 'Q', 'R', 'T', 'C', 'R', 'W', 'G', 'R', 'W', 'S', 'W', 'A', 'G', 'A', 'L', 'V', 'Q', 'A', 'A', 'C', 'S', 'P', 'W', 'P', 'W', 'R', 'G', 'P', 'C', 'R', 'S', 'V', 'A', 'L', 'W', 'N', 'N', 'A', 'V', 'P', 'A', 'S', 'A', 'P', 'S', 'T', 'S', 'W', 'R', 'T', 'T', 'A', 'T', 'R', 'R', 'S', 'P', 'Q', 'A', 'A', 'P', 'H', 'P', 'P', 'P', 'P', 'A', 'P', 'R', 'E', 'M', 'E', '_', 'S', 'P', '_', 'T', 'S']\n",
      "['A', 'L', 'Q', 'D', 'R', 'L', 'H', 'Q', 'K', 'R', 'P', 'S', 'S', 'R', 'S', 'L', 'S', 'F', 'C', 'H', 'G', 'P', 'V', 'D', 'A', 'P', 'P', 'A', 'P', 'A', 'G', 'A', 'A', 'G', 'P', 'L', 'G', 'T', '_', 'P', 'S', 'R', 'S', 'L', 'C', 'E', 'P', 'T', 'P', 'V', 'R', 'L', 'T', 'P', 'G', 'G', 'S', 'S', 'L', 'P', 'S', 'V', 'R', 'G', 'T', 'R', 'L', 'L', 'L', 'H', 'T', 'Q', 'D', 'P', 'P', 'G', 'G', 'R', 'G', 'P', 'A', 'G', 'G', 'A', 'G', 'G', 'A', 'G', 'R', 'G', 'P', 'W', 'C', 'R', 'Q', 'P', 'A', 'A', 'L', 'G', 'P', 'G', 'G', 'V', 'P', 'A', 'E', 'A', 'W', 'H', 'C', 'G', 'T', 'M', 'L', 'Y', 'Q', 'H', 'L', 'L', 'P', 'L', 'P', 'A', 'G', 'E', 'L', 'L', 'Q', 'L', 'D', 'A', 'A', 'R', 'R', 'Q', 'P', 'H', 'T', 'R', 'R', 'L', 'L', 'H', 'R', 'E', 'R', 'W', 'N', 'K', 'A', 'L', 'E', 'P']\n",
      "['P', 'S', 'R', 'T', 'G', 'C', 'I', 'R', 'R', 'G', 'H', 'Q', 'A', 'D', 'H', 'C', 'P', 'S', 'A', 'M', 'A', 'L', 'W', 'M', 'R', 'L', 'L', 'P', 'L', 'L', 'A', 'L', 'L', 'A', 'L', 'W', 'G', 'P', 'D', 'P', 'A', 'A', 'A', 'F', 'V', 'N', 'Q', 'H', 'L', 'C', 'G', 'S', 'H', 'L', 'V', 'E', 'A', 'L', 'Y', 'L', 'V', 'C', 'G', 'E', 'R', 'G', 'F', 'F', 'Y', 'T', 'P', 'K', 'T', 'R', 'R', 'E', 'A', 'E', 'D', 'L', 'Q', 'V', 'G', 'Q', 'V', 'E', 'L', 'G', 'G', 'G', 'P', 'G', 'A', 'G', 'S', 'L', 'Q', 'P', 'L', 'A', 'L', 'E', 'G', 'S', 'L', 'Q', 'K', 'R', 'G', 'I', 'V', 'E', 'Q', 'C', 'C', 'T', 'S', 'I', 'C', 'S', 'L', 'Y', 'Q', 'L', 'E', 'N', 'Y', 'C', 'N', '_', 'T', 'Q', 'P', 'A', 'G', 'S', 'P', 'T', 'P', 'A', 'A', 'S', 'C', 'T', 'E', 'R', 'D', 'G', 'I', 'K', 'P', 'L', 'N', 'Q']\n",
      "['A', 'G', 'S', 'R', 'A', 'L', 'F', 'H', 'L', 'S', 'R', 'C', 'R', 'R', 'R', 'R', 'V', 'W', 'G', 'C', 'L', 'R', 'A', 'A', 'S', 'S', 'C', 'S', 'S', 'S', 'P', 'A', 'G', 'R', 'G', 'S', 'R', 'C', 'W', 'Y', 'S', 'I', 'V', 'P', 'Q', 'C', 'H', 'A', 'S', 'A', 'G', 'T', 'P', 'P', 'G', 'P', 'R', 'A', 'A', 'G', 'C', 'L', 'H', 'Q', 'G', 'P', 'R', 'P', 'A', 'P', 'P', 'A', 'P', 'P', 'A', 'G', 'P', 'L', 'P', 'P', 'G', 'G', 'S', 'W', 'V', 'C', 'R', 'R', 'S', 'L', 'V', 'P', 'R', 'T', 'L', 'G', 'R', 'E', 'L', 'P', 'P', 'G', 'V', 'S', 'R', 'T', 'G', 'V', 'G', 'S', 'Q', 'R', 'L', 'R', 'L', 'G', 'Q', 'V', 'P', 'R', 'G', 'P', 'A', 'A', 'P', 'A', 'G', 'A', 'G', 'G', 'A', 'S', 'T', 'G', 'P', 'W', 'Q', 'K', 'D', 'S', 'D', 'L', 'L', 'D', 'G', 'L', 'F', '_', 'C', 'S', 'L', 'S', 'W', 'R', 'A']\n",
      "['L', 'V', 'Q', 'G', 'L', 'Y', 'S', 'I', 'S', 'L', 'G', 'A', 'G', 'G', 'G', 'G', 'C', 'G', 'A', 'A', 'C', 'G', 'L', 'R', 'L', 'V', 'A', 'V', 'V', 'L', 'Q', 'L', 'V', 'E', 'G', 'A', 'D', 'A', 'G', 'T', 'A', 'L', 'F', 'H', 'N', 'A', 'T', 'L', 'L', 'Q', 'G', 'P', 'L', 'Q', 'G', 'Q', 'G', 'L', 'Q', 'A', 'A', 'C', 'T', 'R', 'A', 'P', 'A', 'Q', 'L', 'H', 'L', 'P', 'H', 'L', 'Q', 'V', 'L', 'C', 'L', 'P', 'A', 'G', 'L', 'G', 'C', 'V', 'E', 'E', 'A', 'S', 'F', 'P', 'A', 'H', '_', 'V', 'E', 'S', 'F', 'H', 'Q', 'V', '_', 'A', 'A', 'Q', 'V', 'L', 'V', 'H', 'K', 'G', 'C', 'G', 'W', 'V', 'R', 'S', 'P', 'E', 'G', 'Q', 'Q', 'R', 'Q', 'Q', 'G', 'Q', 'E', 'A', 'H', 'P', 'Q', 'G', 'H', 'G', 'R', 'R', 'T', 'V', 'I', 'C', 'L', 'M', 'A', 'S', 'S', 'D', 'A', 'A', 'C', 'P', 'G', 'G']\n",
      "['W', 'F', 'K', 'G', 'F', 'I', 'P', 'S', 'L', 'S', 'V', 'Q', 'E', 'A', 'A', 'G', 'V', 'G', 'L', 'P', 'A', 'G', 'C', 'V', '_', 'L', 'Q', '_', 'F', 'S', 'S', 'W', '_', 'R', 'E', 'Q', 'M', 'L', 'V', 'Q', 'H', 'C', 'S', 'T', 'M', 'P', 'R', 'F', 'C', 'R', 'D', 'P', 'S', 'R', 'A', 'K', 'G', 'C', 'R', 'L', 'P', 'A', 'P', 'G', 'P', 'P', 'P', 'S', 'S', 'T', 'C', 'P', 'T', 'C', 'R', 'S', 'S', 'A', 'S', 'R', 'R', 'V', 'L', 'G', 'V', '_', 'K', 'K', 'P', 'R', 'S', 'P', 'H', 'T', 'R', '_', 'R', 'A', 'S', 'T', 'R', 'C', 'E', 'P', 'H', 'R', 'C', 'W', 'F', 'T', 'K', 'A', 'A', 'A', 'G', 'S', 'G', 'P', 'Q', 'R', 'A', 'S', 'S', 'A', 'S', 'R', 'G', 'R', 'R', 'R', 'I', 'H', 'R', 'A', 'M', 'A', 'E', 'G', 'Q', '_', 'S', 'A', '_', 'W', 'P', 'L', 'L', 'M', 'Q', 'P', 'V', 'L', 'E', 'G']\n",
      "\n",
      " [11] All proteins in 6 open reading frames:\n",
      "\n",
      "MALWMRLLPLLALLALWGPDPAAAFVNQHLCGSHLVEALYLVCGERGFFYTPKTRREAEDLQVGQVELGGGPGAGSLQPLALEGSLQKRGIVEQCCTSICSLYQLENYCN\n",
      "\n",
      "MRLLPLLALLALWGPDPAAAFVNQHLCGSHLVEALYLVCGERGFFYTPKTRREAEDLQVGQVELGGGPGAGSLQPLALEGSLQKRGIVEQCCTSICSLYQLENYCN\n",
      "\n",
      "MLVQHCSTMPRFCRDPSRAKGCRLPAPGPPPSSTCPTCRSSASRRVLGV\n",
      "\n",
      "MPRFCRDPSRAKGCRLPAPGPPPSSTCPTCRSSASRRVLGV\n",
      "\n",
      "MAEGQ\n",
      "\n",
      "ME\n",
      "\n"
     ]
    }
   ],
   "source": [
    "print(f\" \\nSequence:\\n 5'{DNA}3'\\n\")\n",
    "print (f'[1] Sequence Length:{len(DNA)}\\n')\n",
    "print (f'[2] Nucleotide Frequency:\\n {countnucFrequency(DNA)}\\n')\n",
    "print (f'[3] GC content of DNA Sequence is {GC_content(DNA)}%\\n')\n",
    "print (f'[4] The GC content in DNA subsections k=75: {GC_content_subsec(DNA,k=75)}%\\n')\n",
    "print (f\"[5] Complementary DNA Sequence:\\n 5'{rev_complement(DNA)}3'\\n\")\n",
    "print (f\"[6] RNA sequence from DNA sequence:\\n 5'{transcription(DNA)}3'\\n\")\n",
    "print (f'[7] Amino Acid sequence from DNA: {translate_seq(DNA,0)}\\n')\n",
    "print (f\"[8] Codon frequency (V): {codon_usage(DNA,'V')}\\n\")\n",
    "print (f\"[9] Codon frequency (L): {codon_usage(DNA,'L')}\\n\")\n",
    "print ('[10]  Reading frames:')\n",
    "for frame in gen_reading_frames(DNA):\n",
    "    print(frame)    \n",
    "print('\\n [11] All proteins in 6 open reading frames:\\n')\n",
    "for prot in all_proteins_from_orfs(DNA,0,0,True):\n",
    "    print(f'{prot}\\n')"
   ]
  },
  {
   "cell_type": "code",
   "execution_count": null,
   "metadata": {},
   "outputs": [],
   "source": []
  }
 ],
 "metadata": {
  "kernelspec": {
   "display_name": "Python 3",
   "language": "python",
   "name": "python3"
  },
  "language_info": {
   "codemirror_mode": {
    "name": "ipython",
    "version": 3
   },
   "file_extension": ".py",
   "mimetype": "text/x-python",
   "name": "python",
   "nbconvert_exporter": "python",
   "pygments_lexer": "ipython3",
   "version": "3.7.3"
  }
 },
 "nbformat": 4,
 "nbformat_minor": 2
}
